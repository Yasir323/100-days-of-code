{
  "nbformat": 4,
  "nbformat_minor": 0,
  "metadata": {
    "colab": {
      "name": "OOP1-Intro.ipynb",
      "provenance": [],
      "authorship_tag": "ABX9TyOvxdtfzZkvJGMH7v+KsugC",
      "include_colab_link": true
    },
    "kernelspec": {
      "name": "python3",
      "display_name": "Python 3"
    },
    "language_info": {
      "name": "python"
    }
  },
  "cells": [
    {
      "cell_type": "markdown",
      "metadata": {
        "id": "view-in-github",
        "colab_type": "text"
      },
      "source": [
        "<a href=\"https://colab.research.google.com/github/Yasir323/100-days-of-code/blob/master/OOP1_Intro.ipynb\" target=\"_parent\"><img src=\"https://colab.research.google.com/assets/colab-badge.svg\" alt=\"Open In Colab\"/></a>"
      ]
    },
    {
      "cell_type": "markdown",
      "metadata": {
        "id": "ulhAEacAqbyD"
      },
      "source": [
        "A Minimal Class"
      ]
    },
    {
      "cell_type": "code",
      "metadata": {
        "colab": {
          "base_uri": "https://localhost:8080/"
        },
        "id": "6QfhSKHPqA2u",
        "outputId": "6eaa460b-17ef-4521-c01a-923315b7f50f"
      },
      "source": [
        "class Robot:\n",
        "    pass\n",
        "\n",
        "if __name__ == \"__main__\":\n",
        "    x = Robot()\n",
        "    y = Robot()\n",
        "    y2 = y\n",
        "    print(y == y2)\n",
        "    print(y == x)"
      ],
      "execution_count": 1,
      "outputs": [
        {
          "output_type": "stream",
          "name": "stdout",
          "text": [
            "True\n",
            "False\n"
          ]
        }
      ]
    },
    {
      "cell_type": "markdown",
      "metadata": {
        "id": "EnAGq0IurpNy"
      },
      "source": [
        "### Attributes\n",
        "Attributes are created inside a class definition, as we will soon learn. We can dynamically create arbitrary new attributes for existing instances of a class."
      ]
    },
    {
      "cell_type": "code",
      "metadata": {
        "colab": {
          "base_uri": "https://localhost:8080/"
        },
        "id": "LfeLz3Msr9-j",
        "outputId": "ce0cd258-81ba-4177-a155-bdd5fb02ae6a"
      },
      "source": [
        "class Robot:\n",
        "    pass\n",
        "\n",
        "x = Robot()\n",
        "y = Robot()\n",
        " \n",
        "x.name = \"Marvin\"\n",
        "x.build_year = \"1979\"\n",
        " \n",
        "y.name = \"Caliban\"\n",
        "y.build_year = \"1993\"\n",
        " \n",
        "print(x.name)"
      ],
      "execution_count": 2,
      "outputs": [
        {
          "output_type": "stream",
          "name": "stdout",
          "text": [
            "Marvin\n"
          ]
        }
      ]
    },
    {
      "cell_type": "markdown",
      "metadata": {
        "id": "8NCIzoMMrNup"
      },
      "source": [
        "Binding attributes to objects is a general concept in Python. Even function names can be attributed. You can bind an attribute to a function name in the same way, we have done so far to other instances of classes:"
      ]
    },
    {
      "cell_type": "code",
      "metadata": {
        "colab": {
          "base_uri": "https://localhost:8080/"
        },
        "id": "GfS0j6E5qfJf",
        "outputId": "faa32b6c-9188-4c91-fc07-4a655984ad5e"
      },
      "source": [
        "def f(x):\n",
        "    return 42\n",
        " \n",
        "f.x = 42\n",
        "print(f.x)"
      ],
      "execution_count": 3,
      "outputs": [
        {
          "output_type": "stream",
          "name": "stdout",
          "text": [
            "42\n"
          ]
        }
      ]
    },
    {
      "cell_type": "markdown",
      "metadata": {
        "id": "aLfSu4tDr5hv"
      },
      "source": [
        "### Methods\n",
        "Methods in Python are essentially functions in accordance with Guido's saying \"first-class everything\"."
      ]
    },
    {
      "cell_type": "code",
      "metadata": {
        "colab": {
          "base_uri": "https://localhost:8080/"
        },
        "id": "GG1SE0ZJrF_J",
        "outputId": "2e87546f-deeb-4549-de24-ede2940a0e1a"
      },
      "source": [
        "def hi(obj):\n",
        "    print(\"Hi, I am \" + obj.name + \"!\")\n",
        "\n",
        "class Robot:\n",
        "    pass\n",
        "    \n",
        "\n",
        "x = Robot()\n",
        "x.name = \"Marvin\"\n",
        "hi(x)"
      ],
      "execution_count": 4,
      "outputs": [
        {
          "output_type": "stream",
          "name": "stdout",
          "text": [
            "Hi, I am Marvin!\n"
          ]
        }
      ]
    },
    {
      "cell_type": "markdown",
      "metadata": {
        "id": "nEuTxUPosagb"
      },
      "source": [
        "### The __init__ Method\n",
        "\n",
        "We want to define the attributes of an instance right after its creation. __init__ is a method which is immediately and automatically called after an instance has been created. This name is fixed and it is not possible to chose another name. __init__ is one of the so-called magic methods,we will get to know it with some more details later. The __init__ method is used to initialize an instance. ***There is no explicit constructor or destructor method in Python, as they are known in C++ and Java***. The __init__ method can be anywhere in a class definition, but it is usually the first method of a class, i.e. it follows right after the class header."
      ]
    },
    {
      "cell_type": "code",
      "metadata": {
        "colab": {
          "base_uri": "https://localhost:8080/"
        },
        "id": "ddWpiP0arflS",
        "outputId": "19865fef-7b40-4e40-83c0-96deda127d73"
      },
      "source": [
        "class A:\n",
        "    def __init__(self):\n",
        "        print(\"__init__ has been executed!\")\n",
        "\n",
        "x = A()"
      ],
      "execution_count": 5,
      "outputs": [
        {
          "output_type": "stream",
          "name": "stdout",
          "text": [
            "__init__ has been executed!\n"
          ]
        }
      ]
    },
    {
      "cell_type": "code",
      "metadata": {
        "colab": {
          "base_uri": "https://localhost:8080/"
        },
        "id": "C5_33n8rsppM",
        "outputId": "58b67006-f00b-4305-b5ff-a5c8bc164e97"
      },
      "source": [
        "class Robot:\n",
        " \n",
        "    def __init__(self, name=None):\n",
        "        self.name = name   \n",
        "        \n",
        "    def say_hi(self):\n",
        "        if self.name:\n",
        "            print(\"Hi, I am \" + self.name)\n",
        "        else:\n",
        "            print(\"Hi, I am a robot without a name\")\n",
        "    \n",
        "\n",
        "x = Robot()\n",
        "x.say_hi()\n",
        "y = Robot(\"Marvin\")\n",
        "y.say_hi()"
      ],
      "execution_count": 6,
      "outputs": [
        {
          "output_type": "stream",
          "name": "stdout",
          "text": [
            "Hi, I am a robot without a name\n",
            "Hi, I am Marvin\n"
          ]
        }
      ]
    },
    {
      "cell_type": "markdown",
      "metadata": {
        "id": "udHTyn5Atj5i"
      },
      "source": [
        "## Data Abstraction, Data Encapsulation, and Information Hiding\n",
        "\n",
        "**Encapsulation** is seen as the bundling of data with the methods that operate on that data. **Information hiding** on the other hand is the principle that some internal information or data is \"hidden\", so that it can't be accidentally changed. Data encapsulation via methods doesn't necessarily mean that the data is hidden. You might be capable of accessing and seeing the data anyway, but using the methods is recommended. Finally, **data abstraction** is present, if both data hiding and data encapsulation is used. In other words, data abstraction is the broader term:\n",
        "\n",
        "Data Abstraction = Data Encapsulation + Data Hiding\n",
        "\n",
        "Encapsulation is often accomplished by providing two kinds of methods for attributes: The methods for retrieving or accessing the values of attributes are called getter methods. Getter methods do not change the values of attributes, they just return the values. The methods used for changing the values of attributes are called setter methods."
      ]
    },
    {
      "cell_type": "code",
      "metadata": {
        "id": "u2S4NXG1syW1"
      },
      "source": [
        "class Robot:\n",
        " \n",
        "    def __init__(self, name=None):\n",
        "        self.name = name   \n",
        "        \n",
        "    def say_hi(self):\n",
        "        if self.name:\n",
        "            print(\"Hi, I am \" + self.name)\n",
        "        else:\n",
        "            print(\"Hi, I am a robot without a name\")\n",
        "            \n",
        "    def set_name(self, name):\n",
        "        self.name = name\n",
        "        \n",
        "    def get_name(self):\n",
        "        return self.name"
      ],
      "execution_count": 7,
      "outputs": []
    },
    {
      "cell_type": "code",
      "metadata": {
        "colab": {
          "base_uri": "https://localhost:8080/"
        },
        "id": "uNVqHD16t_jg",
        "outputId": "c31a55e0-7262-4ddd-b6f1-6c6d2bc9ba30"
      },
      "source": [
        "x = Robot()\n",
        "x.set_name(\"Henry\")\n",
        "x.say_hi()\n",
        "y = Robot()\n",
        "y.set_name(x.get_name())\n",
        "print(y.get_name())"
      ],
      "execution_count": 8,
      "outputs": [
        {
          "output_type": "stream",
          "name": "stdout",
          "text": [
            "Hi, I am Henry\n",
            "Henry\n"
          ]
        }
      ]
    },
    {
      "cell_type": "code",
      "metadata": {
        "id": "_YIVuVk3uBwR"
      },
      "source": [
        "class Robot:\n",
        " \n",
        "    def __init__(self, \n",
        "                 name=None,\n",
        "                 build_year=None):\n",
        "        self.name = name   \n",
        "        self.build_year = build_year\n",
        "        \n",
        "    def say_hi(self):\n",
        "        if self.name:\n",
        "            print(\"Hi, I am \" + self.name)\n",
        "        else:\n",
        "            print(\"Hi, I am a robot without a name\")\n",
        "        if self.build_year:\n",
        "            print(\"I was built in \" + str(self.build_year))\n",
        "        else:\n",
        "            print(\"It's not known, when I was created!\")\n",
        "            \n",
        "    def set_name(self, name):\n",
        "        self.name = name\n",
        "        \n",
        "    def get_name(self):\n",
        "        return self.name    \n",
        "\n",
        "    def set_build_year(self, by):\n",
        "        self.build_year = by\n",
        "        \n",
        "    def get_build_year(self):\n",
        "        return self.build_year"
      ],
      "execution_count": 9,
      "outputs": []
    },
    {
      "cell_type": "code",
      "metadata": {
        "colab": {
          "base_uri": "https://localhost:8080/"
        },
        "id": "8rvrf41tuT-Q",
        "outputId": "eca4af91-9f42-4be9-c7e8-bd5cade91370"
      },
      "source": [
        "x = Robot(\"Henry\", 2008)\n",
        "y = Robot()\n",
        "y.set_name(\"Marvin\")\n",
        "x.say_hi()\n",
        "y.say_hi()"
      ],
      "execution_count": 10,
      "outputs": [
        {
          "output_type": "stream",
          "name": "stdout",
          "text": [
            "Hi, I am Henry\n",
            "I was built in 2008\n",
            "Hi, I am Marvin\n",
            "It's not known, when I was created!\n"
          ]
        }
      ]
    },
    {
      "cell_type": "markdown",
      "metadata": {
        "id": "MM6bhG9BuYfC"
      },
      "source": [
        "There is still something wrong with our Robot class. The Zen of Python says: \"There should be one-- and preferably only one --obvious way to do it.\" Our Robot class provides us with two ways to access or to change the \"name\" or the \"build_year\" attribute. This can be prevented by using private attributes, which we will explain later."
      ]
    },
    {
      "cell_type": "markdown",
      "metadata": {
        "id": "tncQtmyg3iqN"
      },
      "source": [
        "## __ str __ () and __ repr __ () Methods\n",
        "In the course of this tutorial, we have already encountered the __str__ method. We had seen that we can depict various data as string by using the str function, which uses \"magically\" the internal __str__ method of the corresponding data type. __repr__ is similar. It also produces a string representation."
      ]
    },
    {
      "cell_type": "code",
      "metadata": {
        "colab": {
          "base_uri": "https://localhost:8080/"
        },
        "id": "o1yN2jrHuWNx",
        "outputId": "d44e920c-4ac6-4780-a9de-e623f5eaf853"
      },
      "source": [
        "l = [\"Python\", \"Java\", \"C++\", \"Perl\"]\n",
        "print(l)"
      ],
      "execution_count": 11,
      "outputs": [
        {
          "output_type": "stream",
          "name": "stdout",
          "text": [
            "['Python', 'Java', 'C++', 'Perl']\n"
          ]
        }
      ]
    },
    {
      "cell_type": "code",
      "metadata": {
        "colab": {
          "base_uri": "https://localhost:8080/",
          "height": 36
        },
        "id": "khQiMBpi4MJb",
        "outputId": "8067c118-b048-4614-b112-a9a6d650b036"
      },
      "source": [
        "str(l)"
      ],
      "execution_count": 12,
      "outputs": [
        {
          "output_type": "execute_result",
          "data": {
            "application/vnd.google.colaboratory.intrinsic+json": {
              "type": "string"
            },
            "text/plain": [
              "\"['Python', 'Java', 'C++', 'Perl']\""
            ]
          },
          "metadata": {},
          "execution_count": 12
        }
      ]
    },
    {
      "cell_type": "code",
      "metadata": {
        "colab": {
          "base_uri": "https://localhost:8080/",
          "height": 36
        },
        "id": "rHtVlKB_4N3J",
        "outputId": "98d28525-038e-45d7-f7ce-7e3d6716b0d0"
      },
      "source": [
        "repr(l)"
      ],
      "execution_count": 13,
      "outputs": [
        {
          "output_type": "execute_result",
          "data": {
            "application/vnd.google.colaboratory.intrinsic+json": {
              "type": "string"
            },
            "text/plain": [
              "\"['Python', 'Java', 'C++', 'Perl']\""
            ]
          },
          "metadata": {},
          "execution_count": 13
        }
      ]
    },
    {
      "cell_type": "code",
      "metadata": {
        "colab": {
          "base_uri": "https://localhost:8080/"
        },
        "id": "ikdAuQFz4QF0",
        "outputId": "4222f387-ff6d-429f-acf7-d77e66a0071f"
      },
      "source": [
        "d = {\"a\":3497, \"b\":8011, \"c\":8300}\n",
        "print(d)"
      ],
      "execution_count": 14,
      "outputs": [
        {
          "output_type": "stream",
          "name": "stdout",
          "text": [
            "{'a': 3497, 'b': 8011, 'c': 8300}\n"
          ]
        }
      ]
    },
    {
      "cell_type": "code",
      "metadata": {
        "colab": {
          "base_uri": "https://localhost:8080/",
          "height": 36
        },
        "id": "0Evd0SIG4UBR",
        "outputId": "067bd7ad-e3bf-4008-a861-4663e8c72905"
      },
      "source": [
        "str(d)"
      ],
      "execution_count": 15,
      "outputs": [
        {
          "output_type": "execute_result",
          "data": {
            "application/vnd.google.colaboratory.intrinsic+json": {
              "type": "string"
            },
            "text/plain": [
              "\"{'a': 3497, 'b': 8011, 'c': 8300}\""
            ]
          },
          "metadata": {},
          "execution_count": 15
        }
      ]
    },
    {
      "cell_type": "code",
      "metadata": {
        "colab": {
          "base_uri": "https://localhost:8080/",
          "height": 36
        },
        "id": "inM-HrZC4Vh6",
        "outputId": "0c488fbf-9598-4fca-a5d7-b749fff8a83c"
      },
      "source": [
        "repr(d)"
      ],
      "execution_count": 16,
      "outputs": [
        {
          "output_type": "execute_result",
          "data": {
            "application/vnd.google.colaboratory.intrinsic+json": {
              "type": "string"
            },
            "text/plain": [
              "\"{'a': 3497, 'b': 8011, 'c': 8300}\""
            ]
          },
          "metadata": {},
          "execution_count": 16
        }
      ]
    },
    {
      "cell_type": "code",
      "metadata": {
        "colab": {
          "base_uri": "https://localhost:8080/",
          "height": 36
        },
        "id": "uf8_I4Cx4W4D",
        "outputId": "48a2dbdd-fad8-4437-dd6b-9b5241d4bb51"
      },
      "source": [
        "x = 587.78\n",
        "str(x)"
      ],
      "execution_count": 17,
      "outputs": [
        {
          "output_type": "execute_result",
          "data": {
            "application/vnd.google.colaboratory.intrinsic+json": {
              "type": "string"
            },
            "text/plain": [
              "'587.78'"
            ]
          },
          "metadata": {},
          "execution_count": 17
        }
      ]
    },
    {
      "cell_type": "code",
      "metadata": {
        "colab": {
          "base_uri": "https://localhost:8080/",
          "height": 36
        },
        "id": "xONz7QiB4aZa",
        "outputId": "11fec6b7-9e2b-468f-ed27-485d9976db7b"
      },
      "source": [
        "repr(x)"
      ],
      "execution_count": 18,
      "outputs": [
        {
          "output_type": "execute_result",
          "data": {
            "application/vnd.google.colaboratory.intrinsic+json": {
              "type": "string"
            },
            "text/plain": [
              "'587.78'"
            ]
          },
          "metadata": {},
          "execution_count": 18
        }
      ]
    },
    {
      "cell_type": "markdown",
      "metadata": {
        "id": "9D8kUs9R4bvt"
      },
      "source": [
        "\n",
        "\n",
        "If you apply str or repr to an object, Python is looking for a corresponding method __str__ or __repr__ in the class definition of the object. If the method does exist, it will be called. In the following example, we define a class A, having neither a __str__ nor a __repr__ method. We want to see, what happens, if we use print directly on an instance of this class, or if we apply str or repr to this instance:\n"
      ]
    },
    {
      "cell_type": "code",
      "metadata": {
        "colab": {
          "base_uri": "https://localhost:8080/"
        },
        "id": "hmHJ9Fuq4qK7",
        "outputId": "7b5f0dbb-4552-4e68-d1a0-5b7f3012ab55"
      },
      "source": [
        "class A:\n",
        "    pass\n",
        "\n",
        "a = A()\n",
        "print(a)  ## Calls the __str__ method"
      ],
      "execution_count": 19,
      "outputs": [
        {
          "output_type": "stream",
          "name": "stdout",
          "text": [
            "<__main__.A object at 0x7fe4ee82ddd0>\n"
          ]
        }
      ]
    },
    {
      "cell_type": "code",
      "metadata": {
        "colab": {
          "base_uri": "https://localhost:8080/"
        },
        "id": "c4ALO5cp4uEh",
        "outputId": "29aa9c62-549a-477a-d8e8-461965313ef9"
      },
      "source": [
        "print(repr(a))  # Calls the __repr__ method"
      ],
      "execution_count": 20,
      "outputs": [
        {
          "output_type": "stream",
          "name": "stdout",
          "text": [
            "<__main__.A object at 0x7fe4ee82ddd0>\n"
          ]
        }
      ]
    },
    {
      "cell_type": "code",
      "metadata": {
        "colab": {
          "base_uri": "https://localhost:8080/"
        },
        "id": "qM-vNcju4wEt",
        "outputId": "f7959a44-502b-4ac1-87ee-3c0244797c75"
      },
      "source": [
        "print(str(a))  # Calls the __str__ method"
      ],
      "execution_count": 21,
      "outputs": [
        {
          "output_type": "stream",
          "name": "stdout",
          "text": [
            "<__main__.A object at 0x7fe4ee82ddd0>\n"
          ]
        }
      ]
    },
    {
      "cell_type": "code",
      "metadata": {
        "colab": {
          "base_uri": "https://localhost:8080/"
        },
        "id": "2wJ198mQ4yC0",
        "outputId": "fe0d799d-b65e-4c6c-96b0-eee81eaacf34"
      },
      "source": [
        "a  # Calls the __repr__ method"
      ],
      "execution_count": 22,
      "outputs": [
        {
          "output_type": "execute_result",
          "data": {
            "text/plain": [
              "<__main__.A at 0x7fe4ee82ddd0>"
            ]
          },
          "metadata": {},
          "execution_count": 22
        }
      ]
    },
    {
      "cell_type": "markdown",
      "metadata": {
        "id": "slCfl0_f5lT3"
      },
      "source": [
        "*If a class has a __str__ method, the method will be used for an instance x of that class, if either the function str is applied to it or if it is used in a print function. __str__ will not be used, if repr is called, or if we try to output the value directly in an interactive Python shell*:"
      ]
    },
    {
      "cell_type": "code",
      "metadata": {
        "colab": {
          "base_uri": "https://localhost:8080/"
        },
        "id": "6jpqbwso40rf",
        "outputId": "fd3b2e4c-1328-4d2c-b135-047290fee27b"
      },
      "source": [
        "class A:\n",
        "    def __str__(self):\n",
        "        return \"42\"\n",
        "\n",
        "a = A()\n",
        "print(repr(a))  # __repr__\n",
        "print(str(a))  # __str__\n",
        "print(a)  # __str__"
      ],
      "execution_count": 23,
      "outputs": [
        {
          "output_type": "stream",
          "name": "stdout",
          "text": [
            "<__main__.A object at 0x7fe4ec5d86d0>\n",
            "42\n",
            "42\n"
          ]
        }
      ]
    },
    {
      "cell_type": "code",
      "metadata": {
        "colab": {
          "base_uri": "https://localhost:8080/"
        },
        "id": "KNOuVWIM54EG",
        "outputId": "7597f5de-76ff-411a-ce67-c0e501bdc2d3"
      },
      "source": [
        "a  # __repr__"
      ],
      "execution_count": 24,
      "outputs": [
        {
          "output_type": "execute_result",
          "data": {
            "text/plain": [
              "<__main__.A at 0x7fe4ec5d86d0>"
            ]
          },
          "metadata": {},
          "execution_count": 24
        }
      ]
    },
    {
      "cell_type": "markdown",
      "metadata": {
        "id": "8g-Kb1gZ6EHw"
      },
      "source": [
        "Otherwise, if a class has only the __repr__ method and no __str__ method, __repr__ will be applied in the situations, where __str__ would be applied, if it were available:"
      ]
    },
    {
      "cell_type": "code",
      "metadata": {
        "colab": {
          "base_uri": "https://localhost:8080/"
        },
        "id": "iyTt4lyw56TV",
        "outputId": "c67184f2-deb3-4af1-a4ab-ac84a14be710"
      },
      "source": [
        "class B:\n",
        "    def __repr__(self):\n",
        "        return \"42\"\n",
        "\n",
        "b = B()\n",
        "print(b)  # __str__ but since it is not present, __repr__ will be called\n",
        "print(repr(b))  # __repr__\n",
        "print(str(b))  # __str__ but since it is not present, __repr__ will be called\n",
        "b  # __repr__"
      ],
      "execution_count": 25,
      "outputs": [
        {
          "output_type": "stream",
          "name": "stdout",
          "text": [
            "42\n",
            "42\n",
            "42\n"
          ]
        },
        {
          "output_type": "execute_result",
          "data": {
            "text/plain": [
              "42"
            ]
          },
          "metadata": {},
          "execution_count": 25
        }
      ]
    },
    {
      "cell_type": "markdown",
      "metadata": {
        "id": "Qopv3N3n7Ayu"
      },
      "source": [
        "\n",
        "\n",
        "A frequently asked question is when to use __repr__ and when __str__. __str__ is always the right choice, if the output should be for the end user or in other words, if it should be nicely printed. __repr__ on the other hand is used for the internal representation of an object. The output of __repr__ should be - if feasible - a string which can be parsed by the python interpreter. The result of this parsing is in an equal object. That is, the following should be true for an object \"o\":\n",
        "\n",
        " $o == eval(repr(o))$"
      ]
    },
    {
      "cell_type": "code",
      "metadata": {
        "colab": {
          "base_uri": "https://localhost:8080/",
          "height": 36
        },
        "id": "1fiFtKia6NOI",
        "outputId": "ca76f3cd-be17-40ad-827a-89044233ba5f"
      },
      "source": [
        "l = [3,8,9]\n",
        "s = repr(l)\n",
        "s"
      ],
      "execution_count": 26,
      "outputs": [
        {
          "output_type": "execute_result",
          "data": {
            "application/vnd.google.colaboratory.intrinsic+json": {
              "type": "string"
            },
            "text/plain": [
              "'[3, 8, 9]'"
            ]
          },
          "metadata": {},
          "execution_count": 26
        }
      ]
    },
    {
      "cell_type": "code",
      "metadata": {
        "colab": {
          "base_uri": "https://localhost:8080/"
        },
        "id": "eZAQ5Dfx7HyY",
        "outputId": "f3de7680-04a1-472b-d85e-a81c56f99096"
      },
      "source": [
        "l == eval(s)"
      ],
      "execution_count": 27,
      "outputs": [
        {
          "output_type": "execute_result",
          "data": {
            "text/plain": [
              "True"
            ]
          },
          "metadata": {},
          "execution_count": 27
        }
      ]
    },
    {
      "cell_type": "code",
      "metadata": {
        "colab": {
          "base_uri": "https://localhost:8080/"
        },
        "id": "dKPydrn07KLo",
        "outputId": "6d91c8ce-10e1-449f-c64b-27ed60baa1e5"
      },
      "source": [
        "l == eval(str(l))"
      ],
      "execution_count": 28,
      "outputs": [
        {
          "output_type": "execute_result",
          "data": {
            "text/plain": [
              "True"
            ]
          },
          "metadata": {},
          "execution_count": 28
        }
      ]
    },
    {
      "cell_type": "markdown",
      "metadata": {
        "id": "A9vOwXHo7x6a"
      },
      "source": [
        "*We show in the following example with the datetime module that eval can only be applied on the strings created by repr*:"
      ]
    },
    {
      "cell_type": "code",
      "metadata": {
        "colab": {
          "base_uri": "https://localhost:8080/"
        },
        "id": "h5HXe3WC7M7I",
        "outputId": "27ac6c94-e18c-4141-e22a-4fc7400bc4b5"
      },
      "source": [
        "import datetime\n",
        "\n",
        "try:\n",
        "    today = datetime.datetime.now()\n",
        "    str_s = str(today)\n",
        "    eval(str_s)\n",
        "except SyntaxError as e:\n",
        "    print(\"Syntax Error, as eval(str_s) cannot convert str_s back to a datetime object.\\nSince it is in a string representation.\")"
      ],
      "execution_count": 29,
      "outputs": [
        {
          "output_type": "stream",
          "name": "stdout",
          "text": [
            "Syntax Error, as eval(str_s) cannot convert str_s back to a datetime object.\n",
            "Since it is in a string representation.\n"
          ]
        }
      ]
    },
    {
      "cell_type": "code",
      "metadata": {
        "colab": {
          "base_uri": "https://localhost:8080/"
        },
        "id": "1FlfaEGl8E7_",
        "outputId": "a9a6d1bb-a6e1-43b3-c383-32c074b14b26"
      },
      "source": [
        "repr_s = repr(today)\n",
        "t = eval(repr_s)\n",
        "type(t)"
      ],
      "execution_count": 30,
      "outputs": [
        {
          "output_type": "execute_result",
          "data": {
            "text/plain": [
              "datetime.datetime"
            ]
          },
          "metadata": {},
          "execution_count": 30
        }
      ]
    },
    {
      "cell_type": "markdown",
      "metadata": {
        "id": "RkmJq8i98rGH"
      },
      "source": [
        "We can see that eval(repr_s) returns again a datetime.datetime object. The string created by str can't be turned into a datetime.datetime object by parsing it."
      ]
    },
    {
      "cell_type": "code",
      "metadata": {
        "colab": {
          "base_uri": "https://localhost:8080/"
        },
        "id": "U2X9E4TD8mG0",
        "outputId": "2aad89a3-79ed-41f5-f327-d7cd2bbb7248"
      },
      "source": [
        "class Robot:\n",
        "\n",
        "    def __init__(self, name, build_year):\n",
        "        self.name = name\n",
        "        self.build_year = build_year\n",
        "\n",
        "    def __repr__(self):\n",
        "        return \"Robot(\\\"\" + self.name + \"\\\",\" +  str(self.build_year) +  \")\"\n",
        "\n",
        "    def __str__(self):\n",
        "        return \"Name: \" + self.name + \", Build Year: \" +  str(self.build_year)\n",
        "     \n",
        "if __name__ == \"__main__\":\n",
        "    x = Robot(\"Marvin\", 1979)\n",
        "    \n",
        "    x_repr = repr(x)\n",
        "    print(x_repr, type(x_repr))\n",
        "    new = eval(x_repr)\n",
        "    print(new)\n",
        "    print(\"Type of new:\", type(new))"
      ],
      "execution_count": 31,
      "outputs": [
        {
          "output_type": "stream",
          "name": "stdout",
          "text": [
            "Robot(\"Marvin\",1979) <class 'str'>\n",
            "Name: Marvin, Build Year: 1979\n",
            "Type of new: <class '__main__.Robot'>\n"
          ]
        }
      ]
    },
    {
      "cell_type": "markdown",
      "metadata": {
        "id": "Szr71mfOEcyv"
      },
      "source": [
        "## Public, - Protected-, and Private Attributes\n",
        "\n",
        "*    Private attributes should only be used by the owner, i.e. inside of the class definition itself.\n",
        "*    Protected (restricted) Attributes may be used, but at your own risk. Essentially, they should only be used under certain conditions.\n",
        "*    Public Attributes can and should be freely used."
      ]
    },
    {
      "cell_type": "markdown",
      "metadata": {
        "id": "dq76xJhJE00r"
      },
      "source": [
        "![image.png](data:image/png;base64,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)"
      ]
    },
    {
      "cell_type": "code",
      "metadata": {
        "id": "1Qja6ppS9P-x"
      },
      "source": [
        "class A():\n",
        "    \n",
        "    def __init__(self):\n",
        "        self.__priv = \"I am private\"\n",
        "        self._prot = \"I am protected\"\n",
        "        self.pub = \"I am public\""
      ],
      "execution_count": 32,
      "outputs": []
    },
    {
      "cell_type": "code",
      "metadata": {
        "colab": {
          "base_uri": "https://localhost:8080/",
          "height": 36
        },
        "id": "l9SaywaPE6Pc",
        "outputId": "b7640de3-9f2d-4e10-8df0-fe8e8b8ab7c4"
      },
      "source": [
        "x = A()\n",
        "x.pub"
      ],
      "execution_count": 33,
      "outputs": [
        {
          "output_type": "execute_result",
          "data": {
            "application/vnd.google.colaboratory.intrinsic+json": {
              "type": "string"
            },
            "text/plain": [
              "'I am public'"
            ]
          },
          "metadata": {},
          "execution_count": 33
        }
      ]
    },
    {
      "cell_type": "code",
      "metadata": {
        "colab": {
          "base_uri": "https://localhost:8080/",
          "height": 36
        },
        "id": "4QqQ_YPUFAHe",
        "outputId": "bd1353ea-1d3c-4d23-c304-57ecaa4be774"
      },
      "source": [
        "x.pub = x.pub + \" and my value can be changed\"\n",
        "x.pub"
      ],
      "execution_count": 34,
      "outputs": [
        {
          "output_type": "execute_result",
          "data": {
            "application/vnd.google.colaboratory.intrinsic+json": {
              "type": "string"
            },
            "text/plain": [
              "'I am public and my value can be changed'"
            ]
          },
          "metadata": {},
          "execution_count": 34
        }
      ]
    },
    {
      "cell_type": "code",
      "metadata": {
        "colab": {
          "base_uri": "https://localhost:8080/",
          "height": 36
        },
        "id": "TVWovUB4FDMQ",
        "outputId": "a4df68f7-e74d-4aec-93d1-db5219a640a4"
      },
      "source": [
        "x._prot"
      ],
      "execution_count": 35,
      "outputs": [
        {
          "output_type": "execute_result",
          "data": {
            "application/vnd.google.colaboratory.intrinsic+json": {
              "type": "string"
            },
            "text/plain": [
              "'I am protected'"
            ]
          },
          "metadata": {},
          "execution_count": 35
        }
      ]
    },
    {
      "cell_type": "code",
      "metadata": {
        "colab": {
          "base_uri": "https://localhost:8080/"
        },
        "id": "BEpVrLmkFGtr",
        "outputId": "f126fc74-281f-4acb-9ce6-274669b74b54"
      },
      "source": [
        "try:\n",
        "    x.__priv\n",
        "except AttributeError:\n",
        "    print(\"A' object has no attribute '__priv\")\n",
        "    print('In other words, __priv is a private attribute and\\ncannot be accessed putside the class')"
      ],
      "execution_count": 36,
      "outputs": [
        {
          "output_type": "stream",
          "name": "stdout",
          "text": [
            "A' object has no attribute '__priv\n",
            "In other words, __priv is a private attribute and\n",
            "cannot be accessed putside the class\n"
          ]
        }
      ]
    },
    {
      "cell_type": "markdown",
      "metadata": {
        "id": "w1IBLKBiFufl"
      },
      "source": [
        "The error message is very interesting. One might have expected a message like \"__priv is private\". We get the message \"AttributeError: 'A' object has no attribute __priv instead, which looks like a \"lie\". There is such an attribute, but we are told that there isn't. This is perfect information hiding. Telling a user that an attribute name is private, means that we make some information visible, i.e. the existence or non-existence of a private variable."
      ]
    },
    {
      "cell_type": "code",
      "metadata": {
        "colab": {
          "base_uri": "https://localhost:8080/"
        },
        "id": "L4uo69DHFiQS",
        "outputId": "86d273f8-43d5-4979-e954-07c549253516"
      },
      "source": [
        "class Robot:\n",
        " \n",
        "    def __init__(self, name=None, build_year=2000):\n",
        "        self.__name = name\n",
        "        self.__build_year = build_year\n",
        "        \n",
        "    def say_hi(self):\n",
        "        if self.__name:\n",
        "            print(\"Hi, I am \" + self.__name)\n",
        "        else:\n",
        "            print(\"Hi, I am a robot without a name\")\n",
        "            \n",
        "    def set_name(self, name):\n",
        "        self.__name = name\n",
        "        \n",
        "    def get_name(self):\n",
        "        return self.__name    \n",
        "\n",
        "    def set_build_year(self, by):\n",
        "        self.__build_year = by\n",
        "        \n",
        "    def get_build_year(self):\n",
        "        return self.__build_year    \n",
        "    \n",
        "    def __repr__(self):\n",
        "        return \"Robot('\" + self.__name + \"', \" +  str(self.__build_year) +  \")\"\n",
        "\n",
        "    def __str__(self):\n",
        "        return \"Name: \" + self.__name + \", Build Year: \" +  str(self.__build_year)\n",
        "\n",
        "     \n",
        "if __name__ == \"__main__\":\n",
        "    x = Robot(\"Marvin\", 1979)\n",
        "    y = Robot(\"Caliban\", 1943)\n",
        "    for rob in [x, y]:\n",
        "        rob.say_hi()\n",
        "        if rob.get_name() == \"Caliban\":\n",
        "            rob.set_build_year(1993)\n",
        "        print(\"I was built in the year \" + str(rob.get_build_year()) + \"!\")"
      ],
      "execution_count": 37,
      "outputs": [
        {
          "output_type": "stream",
          "name": "stdout",
          "text": [
            "Hi, I am Marvin\n",
            "I was built in the year 1979!\n",
            "Hi, I am Caliban\n",
            "I was built in the year 1993!\n"
          ]
        }
      ]
    },
    {
      "cell_type": "markdown",
      "metadata": {
        "id": "lDucixz5GRht"
      },
      "source": [
        "Every private attribute of our class has a getter and a setter. There are IDEs for object-oriented programming languages, who automatically provide getters and setters for every private attribute as soon as an attribute is created.\n",
        "\n",
        "This may look like the following class:"
      ]
    },
    {
      "cell_type": "code",
      "metadata": {
        "id": "WAjzsMraGPDE"
      },
      "source": [
        "class A():\n",
        "\n",
        "    def __init__(self, x, y):\n",
        "        self.__x = x\n",
        "        self.__y = y\n",
        "\n",
        "    def GetX(self):\n",
        "        return self.__x\n",
        "\n",
        "    def GetY(self):\n",
        "        return self.__y\n",
        "\n",
        "    def SetX(self, x):\n",
        "        self.__x = x\n",
        "\n",
        "    def SetY(self, y):\n",
        "        self.__y = y"
      ],
      "execution_count": 38,
      "outputs": []
    },
    {
      "cell_type": "markdown",
      "metadata": {
        "id": "THYcuqLCGVGz"
      },
      "source": [
        "*There are at least two good reasons against such an approach. First of all not every private attribute needs to be accessed from outside. Second, we will create non-pythonic code this way, as you will learn soon.*"
      ]
    },
    {
      "cell_type": "markdown",
      "metadata": {
        "id": "bmmXwWEkGZF3"
      },
      "source": [
        "## Destructor\n",
        "What we said about constructors holds true for destructors as well. There is no \"real\" destructor, but something similar, i.e. the method dunder del. It is called when the instance is about to be destroyed and if there is no other reference to this instance. If a base class has a \\_\\_del\\_\\_() method, the derived class's \\_\\_del\\_\\_() method, if any, must explicitly call it to ensure proper deletion of the base class part of the instance.\n",
        "\n",
        "The following script is an example with \\_\\_init\\_\\_ and \\_\\_del\\_\\_:"
      ]
    },
    {
      "cell_type": "code",
      "metadata": {
        "colab": {
          "base_uri": "https://localhost:8080/"
        },
        "id": "O19xRc2NGTjs",
        "outputId": "cb4d7523-334a-46f3-959f-e277023f72ca"
      },
      "source": [
        "class Robot():\n",
        "    \n",
        "    def __init__(self, name):\n",
        "        print(name + \" has been created!\")\n",
        "        \n",
        "    def __del__(self):\n",
        "        print (\"Robot has been destroyed\")\n",
        "        \n",
        "        \n",
        "if __name__ == \"__main__\":\n",
        "    x = Robot(\"Tik-Tok\")\n",
        "    y = Robot(\"Jenkins\")\n",
        "    z = x\n",
        "    print(\"Deleting x\")\n",
        "    del x\n",
        "    print(\"Deleting z\")\n",
        "    del z\n",
        "    del y"
      ],
      "execution_count": 39,
      "outputs": [
        {
          "output_type": "stream",
          "name": "stdout",
          "text": [
            "Tik-Tok has been created!\n",
            "Jenkins has been created!\n",
            "Deleting x\n",
            "Deleting z\n",
            "Robot has been destroyed\n",
            "Robot has been destroyed\n"
          ]
        }
      ]
    },
    {
      "cell_type": "code",
      "metadata": {
        "colab": {
          "base_uri": "https://localhost:8080/"
        },
        "id": "PiZTdbRiDTeM",
        "outputId": "8e6797d7-e48f-472c-c5d8-560fc35245af"
      },
      "source": [
        "class Robot():\n",
        "    \n",
        "    def __init__(self, name):\n",
        "        print(name + \" has been created!\")\n",
        "        \n",
        "    def __del__(self):\n",
        "        print (self.name + \" says bye-bye!\")\n",
        "        \n",
        "        \n",
        "if __name__ == \"__main__\":\n",
        "    x = Robot(\"Tik-Tok\")\n",
        "    y = Robot(\"Jenkins\")\n",
        "    z = x\n",
        "    print(\"Deleting x\")\n",
        "    del x\n",
        "    print(\"Deleting z\")\n",
        "    try:\n",
        "        del z\n",
        "        del y\n",
        "    except AttributeError as e:\n",
        "        pass"
      ],
      "execution_count": 40,
      "outputs": [
        {
          "output_type": "stream",
          "name": "stdout",
          "text": [
            "Tik-Tok has been created!\n",
            "Jenkins has been created!\n",
            "Deleting x\n",
            "Deleting z\n"
          ]
        },
        {
          "output_type": "stream",
          "name": "stderr",
          "text": [
            "Exception ignored in: <function Robot.__del__ at 0x7fe4ec5e4cb0>\n",
            "Traceback (most recent call last):\n",
            "  File \"<ipython-input-40-8e1c5044248c>\", line 7, in __del__\n",
            "AttributeError: 'Robot' object has no attribute 'name'\n",
            "Exception ignored in: <function Robot.__del__ at 0x7fe4ec5e4cb0>\n",
            "Traceback (most recent call last):\n",
            "  File \"<ipython-input-40-8e1c5044248c>\", line 7, in __del__\n",
            "AttributeError: 'Robot' object has no attribute 'name'\n"
          ]
        }
      ]
    }
  ]
}