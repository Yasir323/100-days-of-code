{
  "nbformat": 4,
  "nbformat_minor": 0,
  "metadata": {
    "colab": {
      "name": "Numpy.ipynb",
      "provenance": [],
      "authorship_tag": "ABX9TyP7yQzcUVHeag2hSJHvOOAc",
      "include_colab_link": true
    },
    "kernelspec": {
      "name": "python3",
      "display_name": "Python 3"
    },
    "language_info": {
      "name": "python"
    }
  },
  "cells": [
    {
      "cell_type": "markdown",
      "metadata": {
        "id": "view-in-github",
        "colab_type": "text"
      },
      "source": [
        "<a href=\"https://colab.research.google.com/github/Yasir323/100-days-of-code/blob/master/Numpy.ipynb\" target=\"_parent\"><img src=\"https://colab.research.google.com/assets/colab-badge.svg\" alt=\"Open In Colab\"/></a>"
      ]
    },
    {
      "cell_type": "code",
      "metadata": {
        "id": "yzvzGAq9_t3r"
      },
      "source": [
        "import numpy as np"
      ],
      "execution_count": 1,
      "outputs": []
    },
    {
      "cell_type": "markdown",
      "metadata": {
        "id": "cmOIpnoqAdmI"
      },
      "source": [
        "`yield_of_apples = w1 * temperature + w2 * rainfall + w3 * humidity`"
      ]
    },
    {
      "cell_type": "code",
      "metadata": {
        "id": "CT3Kj6XLAXb2"
      },
      "source": [
        "w1, w2, w3 = 0.3, 0.2, 0.5"
      ],
      "execution_count": 2,
      "outputs": []
    },
    {
      "cell_type": "code",
      "metadata": {
        "id": "hDr6mdARAzO7"
      },
      "source": [
        "kanto_temp = 73\n",
        "kanto_rainfall = 67\n",
        "kanto_humidity = 43"
      ],
      "execution_count": 3,
      "outputs": []
    },
    {
      "cell_type": "code",
      "metadata": {
        "id": "5rISXH0tBBkE"
      },
      "source": [
        "kanto_yield_of_apples = w1 * kanto_temp + w2 * kanto_rainfall + w3 * kanto_humidity"
      ],
      "execution_count": 4,
      "outputs": []
    },
    {
      "cell_type": "code",
      "metadata": {
        "colab": {
          "base_uri": "https://localhost:8080/"
        },
        "id": "U7tAx3AbBQjP",
        "outputId": "3e3057ce-b1bc-4d9f-8d30-e5abc283bebf"
      },
      "source": [
        "kanto_yield_of_apples"
      ],
      "execution_count": 5,
      "outputs": [
        {
          "output_type": "execute_result",
          "data": {
            "text/plain": [
              "56.8"
            ]
          },
          "metadata": {
            "tags": []
          },
          "execution_count": 5
        }
      ]
    },
    {
      "cell_type": "code",
      "metadata": {
        "id": "frlOxhCBBVqJ"
      },
      "source": [
        "kanto = [73, 67, 43]\n",
        "johto = [91, 88, 64]\n",
        "hoenn = [87, 134, 58]\n",
        "sinnoh = [102, 43, 37]\n",
        "unova = [69, 96, 70]"
      ],
      "execution_count": 6,
      "outputs": []
    },
    {
      "cell_type": "code",
      "metadata": {
        "id": "KeWikHKAB2Jk"
      },
      "source": [
        "weights = [w1, w2, w3]"
      ],
      "execution_count": 7,
      "outputs": []
    },
    {
      "cell_type": "code",
      "metadata": {
        "colab": {
          "base_uri": "https://localhost:8080/"
        },
        "id": "YQ22796FB7k3",
        "outputId": "1902b499-db6a-469a-e506-9ae422e074be"
      },
      "source": [
        "!python --version"
      ],
      "execution_count": 10,
      "outputs": [
        {
          "output_type": "stream",
          "text": [
            "Python 3.7.10\n"
          ],
          "name": "stdout"
        }
      ]
    },
    {
      "cell_type": "code",
      "metadata": {
        "id": "rWdiyzaKCgho"
      },
      "source": [
        "def dot_product(xs, ws):\n",
        "  result = 0\n",
        "  for x, w in zip(xs, ws):\n",
        "    result += x * w\n",
        "  return result"
      ],
      "execution_count": 12,
      "outputs": []
    },
    {
      "cell_type": "code",
      "metadata": {
        "colab": {
          "base_uri": "https://localhost:8080/"
        },
        "id": "k0xU-IKUDzTP",
        "outputId": "a4836f7d-cda4-4068-b6b8-34b40ddd17c4"
      },
      "source": [
        "yield_of_apples = dot_product(kanto, weights)\n",
        "yield_of_apples"
      ],
      "execution_count": 15,
      "outputs": [
        {
          "output_type": "execute_result",
          "data": {
            "text/plain": [
              "56.8"
            ]
          },
          "metadata": {
            "tags": []
          },
          "execution_count": 15
        }
      ]
    },
    {
      "cell_type": "code",
      "metadata": {
        "colab": {
          "base_uri": "https://localhost:8080/"
        },
        "id": "O6EZruXwD-K2",
        "outputId": "9bc2d166-c5e4-4a8f-980d-aa5f36f6d870"
      },
      "source": [
        "kanto = np.array([73, 67, 43])\n",
        "kanto"
      ],
      "execution_count": 16,
      "outputs": [
        {
          "output_type": "execute_result",
          "data": {
            "text/plain": [
              "array([73, 67, 43])"
            ]
          },
          "metadata": {
            "tags": []
          },
          "execution_count": 16
        }
      ]
    },
    {
      "cell_type": "code",
      "metadata": {
        "colab": {
          "base_uri": "https://localhost:8080/"
        },
        "id": "yVMaOGohE6jK",
        "outputId": "35295087-d8de-4027-9326-070162ae09b5"
      },
      "source": [
        "weights = np.array([w1, w2, w3])\n",
        "weights"
      ],
      "execution_count": 17,
      "outputs": [
        {
          "output_type": "execute_result",
          "data": {
            "text/plain": [
              "array([0.3, 0.2, 0.5])"
            ]
          },
          "metadata": {
            "tags": []
          },
          "execution_count": 17
        }
      ]
    },
    {
      "cell_type": "code",
      "metadata": {
        "colab": {
          "base_uri": "https://localhost:8080/"
        },
        "id": "LsSEZz_KFByY",
        "outputId": "c78f5740-667c-43bc-b78d-57aac9ff44be"
      },
      "source": [
        "np.dot(kanto, weights)"
      ],
      "execution_count": 18,
      "outputs": [
        {
          "output_type": "execute_result",
          "data": {
            "text/plain": [
              "56.8"
            ]
          },
          "metadata": {
            "tags": []
          },
          "execution_count": 18
        }
      ]
    },
    {
      "cell_type": "code",
      "metadata": {
        "colab": {
          "base_uri": "https://localhost:8080/"
        },
        "id": "LFerFl_jFIiw",
        "outputId": "6477d6b2-6017-4d68-adda-f72c856c01bc"
      },
      "source": [
        "(kanto * weights).sum()"
      ],
      "execution_count": 20,
      "outputs": [
        {
          "output_type": "execute_result",
          "data": {
            "text/plain": [
              "56.8"
            ]
          },
          "metadata": {
            "tags": []
          },
          "execution_count": 20
        }
      ]
    },
    {
      "cell_type": "code",
      "metadata": {
        "id": "XukxhoHUFP6W"
      },
      "source": [
        "# Lists\n",
        "arr1 = [*range(1000000)]\n",
        "arr2 = [*range(1000000, 2000000)]"
      ],
      "execution_count": 21,
      "outputs": []
    },
    {
      "cell_type": "code",
      "metadata": {
        "id": "fuiT2n8IFvn7"
      },
      "source": [
        "# Numpy arrays\n",
        "arr1_np = np.array(arr1)\n",
        "arr2_np = np.array(arr2)"
      ],
      "execution_count": 22,
      "outputs": []
    },
    {
      "cell_type": "code",
      "metadata": {
        "id": "JDctlN9XF7Lk"
      },
      "source": [
        "import sys"
      ],
      "execution_count": 23,
      "outputs": []
    },
    {
      "cell_type": "code",
      "metadata": {
        "colab": {
          "base_uri": "https://localhost:8080/"
        },
        "id": "4CYIB8KxF8tO",
        "outputId": "4ecac3bb-841d-48ce-e5d6-0953353d0b76"
      },
      "source": [
        "sys.getsizeof(arr1)"
      ],
      "execution_count": 24,
      "outputs": [
        {
          "output_type": "execute_result",
          "data": {
            "text/plain": [
              "9000120"
            ]
          },
          "metadata": {
            "tags": []
          },
          "execution_count": 24
        }
      ]
    },
    {
      "cell_type": "code",
      "metadata": {
        "colab": {
          "base_uri": "https://localhost:8080/"
        },
        "id": "ulcorDI0GBig",
        "outputId": "bbc2ea87-a617-4d64-808e-5cf463ca92cb"
      },
      "source": [
        "sys.getsizeof(arr1_np)"
      ],
      "execution_count": 25,
      "outputs": [
        {
          "output_type": "execute_result",
          "data": {
            "text/plain": [
              "8000096"
            ]
          },
          "metadata": {
            "tags": []
          },
          "execution_count": 25
        }
      ]
    },
    {
      "cell_type": "code",
      "metadata": {
        "colab": {
          "base_uri": "https://localhost:8080/"
        },
        "id": "_9fydfzJGEyM",
        "outputId": "271b6878-d564-4336-e550-c3d0624216a5"
      },
      "source": [
        "%%time\n",
        "for a in arr1:\n",
        "  a ** 2"
      ],
      "execution_count": 26,
      "outputs": [
        {
          "output_type": "stream",
          "text": [
            "CPU times: user 281 ms, sys: 0 ns, total: 281 ms\n",
            "Wall time: 291 ms\n"
          ],
          "name": "stdout"
        }
      ]
    },
    {
      "cell_type": "code",
      "metadata": {
        "colab": {
          "base_uri": "https://localhost:8080/"
        },
        "id": "UDKrd6LxGWBb",
        "outputId": "e1f7c6ab-1dbb-4f44-f65d-4324d43a67a8"
      },
      "source": [
        "%%time\n",
        "for a in arr1_np:\n",
        "  a ** 2"
      ],
      "execution_count": 27,
      "outputs": [
        {
          "output_type": "stream",
          "text": [
            "CPU times: user 374 ms, sys: 0 ns, total: 374 ms\n",
            "Wall time: 381 ms\n"
          ],
          "name": "stdout"
        }
      ]
    },
    {
      "cell_type": "code",
      "metadata": {
        "colab": {
          "base_uri": "https://localhost:8080/"
        },
        "id": "02v2xa8BGaYj",
        "outputId": "3e674795-42a1-49ee-aedd-9aad7c8688f9"
      },
      "source": [
        "%%time\n",
        "result = 0\n",
        "for x1, x2 in zip(arr1, arr2):\n",
        "  result += x1 * x2\n",
        "print(result)"
      ],
      "execution_count": 29,
      "outputs": [
        {
          "output_type": "stream",
          "text": [
            "833332333333500000\n",
            "CPU times: user 194 ms, sys: 0 ns, total: 194 ms\n",
            "Wall time: 195 ms\n"
          ],
          "name": "stdout"
        }
      ]
    },
    {
      "cell_type": "code",
      "metadata": {
        "colab": {
          "base_uri": "https://localhost:8080/"
        },
        "id": "tJLFCnylGu09",
        "outputId": "7a2074b0-ed3d-436f-f540-383280a78c81"
      },
      "source": [
        "%%time\n",
        "np.dot(arr1_np, arr2_np)"
      ],
      "execution_count": 30,
      "outputs": [
        {
          "output_type": "stream",
          "text": [
            "CPU times: user 2.69 ms, sys: 875 µs, total: 3.57 ms\n",
            "Wall time: 2.74 ms\n"
          ],
          "name": "stdout"
        },
        {
          "output_type": "execute_result",
          "data": {
            "text/plain": [
              "833332333333500000"
            ]
          },
          "metadata": {
            "tags": []
          },
          "execution_count": 30
        }
      ]
    },
    {
      "cell_type": "code",
      "metadata": {
        "colab": {
          "base_uri": "https://localhost:8080/"
        },
        "id": "oZ9KRDC7ILx_",
        "outputId": "da129fc1-3e27-4858-f12c-ee7582bcd9ce"
      },
      "source": [
        "%%time\n",
        "arr1_np @ arr2_np"
      ],
      "execution_count": 32,
      "outputs": [
        {
          "output_type": "stream",
          "text": [
            "CPU times: user 2.55 ms, sys: 0 ns, total: 2.55 ms\n",
            "Wall time: 2.61 ms\n"
          ],
          "name": "stdout"
        },
        {
          "output_type": "execute_result",
          "data": {
            "text/plain": [
              "833332333333500000"
            ]
          },
          "metadata": {
            "tags": []
          },
          "execution_count": 32
        }
      ]
    },
    {
      "cell_type": "markdown",
      "metadata": {
        "id": "bLsQSNFaHhm7"
      },
      "source": [
        "* Size of Numpy array is smaller compared to lists.\n",
        "* Normal operations are faster in lists.\n",
        "* But computation is faster in Numpy arrays."
      ]
    },
    {
      "cell_type": "markdown",
      "metadata": {
        "id": "JWAlhkkbIuzJ"
      },
      "source": [
        "## Multi-dimensional Numpy arrays\n",
        "<img src=\"https://fgnt.github.io/python_crashkurs_doc/_images/numpy_array_t.png\">"
      ]
    },
    {
      "cell_type": "code",
      "metadata": {
        "colab": {
          "base_uri": "https://localhost:8080/"
        },
        "id": "rMuQp1w5Ha8N",
        "outputId": "98cd85a2-84e8-41c7-e166-7d38d5525568"
      },
      "source": [
        "climate_data = np.array([[73, 67, 43],\n",
        "                         [91, 88, 64],\n",
        "                         [87, 134, 58],\n",
        "                         [102, 43, 37],\n",
        "                         [69, 96, 70]])\n",
        "climate_data"
      ],
      "execution_count": 33,
      "outputs": [
        {
          "output_type": "execute_result",
          "data": {
            "text/plain": [
              "array([[ 73,  67,  43],\n",
              "       [ 91,  88,  64],\n",
              "       [ 87, 134,  58],\n",
              "       [102,  43,  37],\n",
              "       [ 69,  96,  70]])"
            ]
          },
          "metadata": {
            "tags": []
          },
          "execution_count": 33
        }
      ]
    },
    {
      "cell_type": "code",
      "metadata": {
        "colab": {
          "base_uri": "https://localhost:8080/"
        },
        "id": "ByLWLQ-BJhFj",
        "outputId": "5778c7a6-59c7-40a1-9382-298612b81f18"
      },
      "source": [
        "climate_data.shape"
      ],
      "execution_count": 35,
      "outputs": [
        {
          "output_type": "execute_result",
          "data": {
            "text/plain": [
              "(5, 3)"
            ]
          },
          "metadata": {
            "tags": []
          },
          "execution_count": 35
        }
      ]
    },
    {
      "cell_type": "code",
      "metadata": {
        "colab": {
          "base_uri": "https://localhost:8080/"
        },
        "id": "hZ_ITvH9Jmfk",
        "outputId": "c57aea3d-742c-4690-ba6e-6658a53aea6b"
      },
      "source": [
        "climate_data.dtype"
      ],
      "execution_count": 36,
      "outputs": [
        {
          "output_type": "execute_result",
          "data": {
            "text/plain": [
              "dtype('int64')"
            ]
          },
          "metadata": {
            "tags": []
          },
          "execution_count": 36
        }
      ]
    },
    {
      "cell_type": "markdown",
      "metadata": {
        "id": "-F2VMVBFKC0F"
      },
      "source": [
        "<img src=\"https://i.imgur.com/LJ2WKSI.png\">"
      ]
    },
    {
      "cell_type": "code",
      "metadata": {
        "colab": {
          "base_uri": "https://localhost:8080/"
        },
        "id": "TQbHJFXdJwSG",
        "outputId": "2418afe8-b952-49e9-9008-b4bf4da7e399"
      },
      "source": [
        "np.matmul(climate_data, weights)"
      ],
      "execution_count": 38,
      "outputs": [
        {
          "output_type": "execute_result",
          "data": {
            "text/plain": [
              "array([56.8, 76.9, 81.9, 57.7, 74.9])"
            ]
          },
          "metadata": {
            "tags": []
          },
          "execution_count": 38
        }
      ]
    },
    {
      "cell_type": "code",
      "metadata": {
        "colab": {
          "base_uri": "https://localhost:8080/"
        },
        "id": "O5Ho8RTJKPt4",
        "outputId": "91b0efd2-1821-471d-d3ee-00e547f11a22"
      },
      "source": [
        "climate_data.ndim"
      ],
      "execution_count": 39,
      "outputs": [
        {
          "output_type": "execute_result",
          "data": {
            "text/plain": [
              "2"
            ]
          },
          "metadata": {
            "tags": []
          },
          "execution_count": 39
        }
      ]
    },
    {
      "cell_type": "code",
      "metadata": {
        "colab": {
          "base_uri": "https://localhost:8080/"
        },
        "id": "Z7uqC-AvK8TA",
        "outputId": "0b5a86c1-e8e3-44aa-9b1f-0d0c08b180a8"
      },
      "source": [
        "import urllib.request\n",
        "\n",
        "urllib.request.urlretrieve(\n",
        "    'https://hub.jovian.ml/wp-content/uploads/2020/08/climate.csv', \n",
        "    'climate.txt'\n",
        ")"
      ],
      "execution_count": 40,
      "outputs": [
        {
          "output_type": "execute_result",
          "data": {
            "text/plain": [
              "('climate.txt', <http.client.HTTPMessage at 0x7fb34839b750>)"
            ]
          },
          "metadata": {
            "tags": []
          },
          "execution_count": 40
        }
      ]
    },
    {
      "cell_type": "code",
      "metadata": {
        "id": "yXsL5GBiLdId"
      },
      "source": [
        "climate_data = np.genfromtxt('climate.txt', delimiter=',', skip_header=1)"
      ],
      "execution_count": 41,
      "outputs": []
    },
    {
      "cell_type": "code",
      "metadata": {
        "colab": {
          "base_uri": "https://localhost:8080/"
        },
        "id": "zWCvZ8IYLrJ0",
        "outputId": "1a8b5651-efd3-48d4-afed-5062ac671622"
      },
      "source": [
        "climate_data.shape"
      ],
      "execution_count": 42,
      "outputs": [
        {
          "output_type": "execute_result",
          "data": {
            "text/plain": [
              "(10000, 3)"
            ]
          },
          "metadata": {
            "tags": []
          },
          "execution_count": 42
        }
      ]
    },
    {
      "cell_type": "code",
      "metadata": {
        "colab": {
          "base_uri": "https://localhost:8080/"
        },
        "id": "Xo5wXQzpLtcT",
        "outputId": "b0c3fa15-6a9c-4c1d-a2d7-43953a4a8aed"
      },
      "source": [
        "yields = climate_data @ weights\n",
        "yields"
      ],
      "execution_count": 43,
      "outputs": [
        {
          "output_type": "execute_result",
          "data": {
            "text/plain": [
              "array([72.2, 59.7, 65.2, ..., 71.1, 80.7, 73.4])"
            ]
          },
          "metadata": {
            "tags": []
          },
          "execution_count": 43
        }
      ]
    },
    {
      "cell_type": "code",
      "metadata": {
        "colab": {
          "base_uri": "https://localhost:8080/"
        },
        "id": "WnR9_6JRL3iy",
        "outputId": "51722bd8-0302-4074-8de8-8c9073b75472"
      },
      "source": [
        "yields.shape"
      ],
      "execution_count": 44,
      "outputs": [
        {
          "output_type": "execute_result",
          "data": {
            "text/plain": [
              "(10000,)"
            ]
          },
          "metadata": {
            "tags": []
          },
          "execution_count": 44
        }
      ]
    },
    {
      "cell_type": "code",
      "metadata": {
        "id": "5UueMS6GN1Rt"
      },
      "source": [
        "yields = yields.reshape(yields.shape[0], 1)"
      ],
      "execution_count": 51,
      "outputs": []
    },
    {
      "cell_type": "code",
      "metadata": {
        "colab": {
          "base_uri": "https://localhost:8080/"
        },
        "id": "F-YkBpW-OIo3",
        "outputId": "8b22fac5-15c7-4d83-aa4b-5db6ed603d25"
      },
      "source": [
        "yields.shape"
      ],
      "execution_count": 52,
      "outputs": [
        {
          "output_type": "execute_result",
          "data": {
            "text/plain": [
              "(10000, 1)"
            ]
          },
          "metadata": {
            "tags": []
          },
          "execution_count": 52
        }
      ]
    },
    {
      "cell_type": "code",
      "metadata": {
        "colab": {
          "base_uri": "https://localhost:8080/"
        },
        "id": "chuHJL3NL6rg",
        "outputId": "517ed5c0-e60e-44bc-e2d4-b2cc0430f809"
      },
      "source": [
        "climate_results = np.concatenate((climate_data, yields), axis=1)\n",
        "climate_results"
      ],
      "execution_count": 53,
      "outputs": [
        {
          "output_type": "execute_result",
          "data": {
            "text/plain": [
              "array([[25. , 76. , 99. , 72.2],\n",
              "       [39. , 65. , 70. , 59.7],\n",
              "       [59. , 45. , 77. , 65.2],\n",
              "       ...,\n",
              "       [99. , 62. , 58. , 71.1],\n",
              "       [70. , 71. , 91. , 80.7],\n",
              "       [92. , 39. , 76. , 73.4]])"
            ]
          },
          "metadata": {
            "tags": []
          },
          "execution_count": 53
        }
      ]
    },
    {
      "cell_type": "code",
      "metadata": {
        "id": "noPTKAlENS9p"
      },
      "source": [
        "np.savetxt(\n",
        "    'climate_results.txt',\n",
        "    climate_results,\n",
        "    fmt='%.2f',\n",
        "    delimiter=',',\n",
        "    header='temperature,ranifall,humidity,yield_of_apples',\n",
        "    comments=''\n",
        ")"
      ],
      "execution_count": 54,
      "outputs": []
    },
    {
      "cell_type": "code",
      "metadata": {
        "id": "mdBL9yM5O5_F"
      },
      "source": [
        "import os"
      ],
      "execution_count": 55,
      "outputs": []
    },
    {
      "cell_type": "code",
      "metadata": {
        "colab": {
          "base_uri": "https://localhost:8080/"
        },
        "id": "CnsGqYJBO9DQ",
        "outputId": "ecf6eb77-2cea-4903-ced5-e57e9d502374"
      },
      "source": [
        "os.listdir()"
      ],
      "execution_count": 57,
      "outputs": [
        {
          "output_type": "execute_result",
          "data": {
            "text/plain": [
              "['.config', 'climate_results.txt', 'climate.txt', 'sample_data']"
            ]
          },
          "metadata": {
            "tags": []
          },
          "execution_count": 57
        }
      ]
    }
  ]
}