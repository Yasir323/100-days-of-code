{
  "nbformat": 4,
  "nbformat_minor": 0,
  "metadata": {
    "colab": {
      "name": "Importance of Feature Scaling.ipynb",
      "provenance": [],
      "authorship_tag": "ABX9TyOWhAh9PQM+txZ6BYT28dDa",
      "include_colab_link": true
    },
    "kernelspec": {
      "name": "python3",
      "display_name": "Python 3"
    },
    "language_info": {
      "name": "python"
    }
  },
  "cells": [
    {
      "cell_type": "markdown",
      "metadata": {
        "id": "view-in-github",
        "colab_type": "text"
      },
      "source": [
        "<a href=\"https://colab.research.google.com/github/Yasir323/100-days-of-code/blob/master/Importance_of_Feature_Scaling.ipynb\" target=\"_parent\"><img src=\"https://colab.research.google.com/assets/colab-badge.svg\" alt=\"Open In Colab\"/></a>"
      ]
    },
    {
      "cell_type": "markdown",
      "metadata": {
        "id": "spFfzqh_DZb0"
      },
      "source": [
        "# Importing the datasets"
      ]
    },
    {
      "cell_type": "code",
      "metadata": {
        "colab": {
          "base_uri": "https://localhost:8080/"
        },
        "id": "avazxMwKDW_r",
        "outputId": "4a46b7ae-5225-4dbb-ea2e-5acbabe590bd"
      },
      "source": [
        "from sklearn.model_selection import train_test_split\n",
        "from sklearn.preprocessing import StandardScaler\n",
        "from sklearn.decomposition import PCA\n",
        "from sklearn.naive_bayes import GaussianNB\n",
        "from sklearn import metrics\n",
        "import matplotlib.pyplot as plt\n",
        "from sklearn.datasets import load_wine\n",
        "from sklearn.pipeline import make_pipeline\n",
        "%matplotlib inline\n",
        "print(__doc__)"
      ],
      "execution_count": 1,
      "outputs": [
        {
          "output_type": "stream",
          "text": [
            "Automatically created module for IPython interactive environment\n"
          ],
          "name": "stdout"
        }
      ]
    },
    {
      "cell_type": "code",
      "metadata": {
        "id": "Vrzi89TuEYaz"
      },
      "source": [
        "SEED = 42\n",
        "FIG_SIZE = (10, 7)"
      ],
      "execution_count": 2,
      "outputs": []
    },
    {
      "cell_type": "code",
      "metadata": {
        "colab": {
          "base_uri": "https://localhost:8080/"
        },
        "id": "oweFymifEoRU",
        "outputId": "6e5f22c3-2371-49d9-e4b5-fc75dfdc02b7"
      },
      "source": [
        "features, target = load_wine(return_X_y=True)\n",
        "features[:5]"
      ],
      "execution_count": 3,
      "outputs": [
        {
          "output_type": "execute_result",
          "data": {
            "text/plain": [
              "array([[1.423e+01, 1.710e+00, 2.430e+00, 1.560e+01, 1.270e+02, 2.800e+00,\n",
              "        3.060e+00, 2.800e-01, 2.290e+00, 5.640e+00, 1.040e+00, 3.920e+00,\n",
              "        1.065e+03],\n",
              "       [1.320e+01, 1.780e+00, 2.140e+00, 1.120e+01, 1.000e+02, 2.650e+00,\n",
              "        2.760e+00, 2.600e-01, 1.280e+00, 4.380e+00, 1.050e+00, 3.400e+00,\n",
              "        1.050e+03],\n",
              "       [1.316e+01, 2.360e+00, 2.670e+00, 1.860e+01, 1.010e+02, 2.800e+00,\n",
              "        3.240e+00, 3.000e-01, 2.810e+00, 5.680e+00, 1.030e+00, 3.170e+00,\n",
              "        1.185e+03],\n",
              "       [1.437e+01, 1.950e+00, 2.500e+00, 1.680e+01, 1.130e+02, 3.850e+00,\n",
              "        3.490e+00, 2.400e-01, 2.180e+00, 7.800e+00, 8.600e-01, 3.450e+00,\n",
              "        1.480e+03],\n",
              "       [1.324e+01, 2.590e+00, 2.870e+00, 2.100e+01, 1.180e+02, 2.800e+00,\n",
              "        2.690e+00, 3.900e-01, 1.820e+00, 4.320e+00, 1.040e+00, 2.930e+00,\n",
              "        7.350e+02]])"
            ]
          },
          "metadata": {
            "tags": []
          },
          "execution_count": 3
        }
      ]
    },
    {
      "cell_type": "code",
      "metadata": {
        "colab": {
          "base_uri": "https://localhost:8080/"
        },
        "id": "QWt-aF7vE4sm",
        "outputId": "d1b8a80b-8ac8-47a2-a9b1-5958118201c2"
      },
      "source": [
        "features.shape"
      ],
      "execution_count": 4,
      "outputs": [
        {
          "output_type": "execute_result",
          "data": {
            "text/plain": [
              "(178, 13)"
            ]
          },
          "metadata": {
            "tags": []
          },
          "execution_count": 4
        }
      ]
    },
    {
      "cell_type": "code",
      "metadata": {
        "id": "q20ObA2-FWYI"
      },
      "source": [
        "X_train, X_test, y_train, y_test = train_test_split(features, target, test_size=0.3, random_state=SEED, shuffle=True, stratify=target)"
      ],
      "execution_count": 5,
      "outputs": []
    },
    {
      "cell_type": "code",
      "metadata": {
        "colab": {
          "base_uri": "https://localhost:8080/"
        },
        "id": "V6IvtHtnGbVR",
        "outputId": "4ecabb28-67d3-4602-bf25-01bac42a6b5a"
      },
      "source": [
        "unscaled_clf = make_pipeline(PCA(n_components=2), GaussianNB())\n",
        "unscaled_clf.fit(X_train, y_train)\n",
        "unscaled_pred = unscaled_clf.predict(X_test)\n",
        "print('\\nPrediction accuracy for the normal test dataset with PCA')\n",
        "print('{:.2%}\\n'.format(metrics.accuracy_score(y_test, unscaled_pred)))"
      ],
      "execution_count": 6,
      "outputs": [
        {
          "output_type": "stream",
          "text": [
            "\n",
            "Prediction accuracy for the normal test dataset with PCA\n",
            "70.37%\n",
            "\n"
          ],
          "name": "stdout"
        }
      ]
    },
    {
      "cell_type": "code",
      "metadata": {
        "colab": {
          "base_uri": "https://localhost:8080/"
        },
        "id": "TQSkQYj_IRV4",
        "outputId": "dc44dd41-e648-49cd-c305-8554f852608f"
      },
      "source": [
        "scaled_clf = make_pipeline(StandardScaler(), PCA(n_components=2), GaussianNB())\n",
        "scaled_clf.fit(X_train, y_train)\n",
        "scaled_pred = scaled_clf.predict(X_test)\n",
        "print('\\nPrediction accuracy for the standardised test dataset with PCA')\n",
        "print('{:.2%}\\n'.format(metrics.accuracy_score(y_test, scaled_pred)))"
      ],
      "execution_count": 7,
      "outputs": [
        {
          "output_type": "stream",
          "text": [
            "\n",
            "Prediction accuracy for the standardised test dataset with PCA\n",
            "96.30%\n",
            "\n"
          ],
          "name": "stdout"
        }
      ]
    },
    {
      "cell_type": "markdown",
      "metadata": {
        "id": "nToLV4o9I6_n"
      },
      "source": [
        "## Extract PCA from the pipeline"
      ]
    },
    {
      "cell_type": "code",
      "metadata": {
        "id": "bXHU4_f5ItVO"
      },
      "source": [
        "pca = unscaled_clf.named_steps['pca']\n",
        "pca_std = scaled_clf.named_steps['pca']"
      ],
      "execution_count": 8,
      "outputs": []
    },
    {
      "cell_type": "markdown",
      "metadata": {
        "id": "aka0eFj8JKjE"
      },
      "source": [
        "#### First principal component"
      ]
    },
    {
      "cell_type": "code",
      "metadata": {
        "colab": {
          "base_uri": "https://localhost:8080/"
        },
        "id": "QhN5ibWxJSjx",
        "outputId": "6903a3f3-90c3-4bff-a3d4-eafc6b4f4f63"
      },
      "source": [
        "print(f'PC1 without scaling: {pca.components_[0]}')\n",
        "print(f'PC1 with scaling: {pca_std.components_[0]}')"
      ],
      "execution_count": 9,
      "outputs": [
        {
          "output_type": "stream",
          "text": [
            "PC1 without scaling: [ 1.74087285e-03 -7.87240278e-04  2.01187511e-04 -4.90875090e-03\n",
            "  1.96149402e-02  9.97140570e-04  1.55604577e-03 -1.07995767e-04\n",
            "  5.33957359e-04  2.34399525e-03  1.60643649e-04  7.06140442e-04\n",
            "  9.99788846e-01]\n",
            "PC1 with scaling: [-0.15763477  0.25237011  0.01662626  0.23514225 -0.14285062 -0.38989121\n",
            " -0.42596901  0.28675917 -0.30864294  0.08886736 -0.30119689 -0.37783572\n",
            " -0.28836287]\n"
          ],
          "name": "stdout"
        }
      ]
    },
    {
      "cell_type": "code",
      "metadata": {
        "id": "ETOQX-jWJitb"
      },
      "source": [
        "X_train_transformed = pca.transform(X_train)\n",
        "scaler = scaled_clf.named_steps['standardscaler']\n",
        "X_train_std_transformed = pca_std.transform(scaler.transform(X_train))"
      ],
      "execution_count": 10,
      "outputs": []
    },
    {
      "cell_type": "markdown",
      "metadata": {
        "id": "toj4hKDlKYC3"
      },
      "source": [
        "# Visualize the data"
      ]
    },
    {
      "cell_type": "code",
      "metadata": {
        "id": "jJFMGLLyKeRd"
      },
      "source": [
        "def plot():\n",
        "  fig, (ax1, ax2) = plt.subplots(ncols=2, figsize=FIG_SIZE)\n",
        "\n",
        "  for index, color, marker in zip(range(0, 3), ('blue', 'red', 'green'), ('^', 's', 'o')):\n",
        "    ax1.scatter(\n",
        "        X_train_transformed[y_train==index, 0],\n",
        "        X_train_transformed[y_train == index, 1],\n",
        "        c=color,\n",
        "        label='class %s' %index,\n",
        "        alpha=0.5,\n",
        "        marker=marker,\n",
        "    )\n",
        "  for index, color, marker in zip(range(0, 3), ('blue', 'red', 'green'), ('^', 's', 'o')):\n",
        "    ax2.scatter(\n",
        "        X_train_std_transformed[y_train==index, 0],\n",
        "        X_train_std_transformed[y_train == index, 1],\n",
        "        c=color,\n",
        "        label='class %s' %index,\n",
        "        alpha=0.5,\n",
        "        marker=marker,\n",
        "    )\n",
        "\n",
        "  ax1.set_title('Training dataset after PCA')\n",
        "  ax2.set_title('Standardized Training dataset after PCA')\n",
        "\n",
        "  for ax in (ax1, ax2):\n",
        "    ax.set_xlabel('1st principal component')\n",
        "    ax.set_ylabel('2nd principal component')\n",
        "    ax.legend(loc='upper right')\n",
        "    ax.grid()\n",
        "\n",
        "  plt.tight_layout()\n",
        "  plt.show()"
      ],
      "execution_count": 11,
      "outputs": []
    },
    {
      "cell_type": "code",
      "metadata": {
        "colab": {
          "base_uri": "https://localhost:8080/",
          "height": 463
        },
        "id": "NhvP6ioGMmE_",
        "outputId": "3eb1420c-f9e0-4af1-ead4-1c6d3eee864c"
      },
      "source": [
        "plot()"
      ],
      "execution_count": 12,
      "outputs": [
        {
          "output_type": "display_data",
          "data": {
            "image/png": "[encoded data removed]",
            "text/plain": [
              "<Figure size 720x504 with 2 Axes>"
            ]
          },
          "metadata": {
            "tags": [],
            "needs_background": "light"
          }
        }
      ]
    },
    {
      "cell_type": "markdown",
      "metadata": {
        "id": "UquU9lwJNeDP"
      },
      "source": [
        "Reference: <a href=\"https://scikit-learn.org/stable/auto_examples/preprocessing/plot_scaling_importance.html#sphx-glr-auto-examples-preprocessing-plot-scaling-importance-py\">Sklearn Documentation</a>"
      ]
    }
  ]
}