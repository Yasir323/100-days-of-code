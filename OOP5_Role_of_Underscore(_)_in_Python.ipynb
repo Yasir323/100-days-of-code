{
  "nbformat": 4,
  "nbformat_minor": 0,
  "metadata": {
    "colab": {
      "name": "OOP5-Role of Underscore(_) in Python.ipynb",
      "provenance": [],
      "authorship_tag": "ABX9TyPBf+mpEXvU77Iv1cC4pmWK",
      "include_colab_link": true
    },
    "kernelspec": {
      "name": "python3",
      "display_name": "Python 3"
    },
    "language_info": {
      "name": "python"
    }
  },
  "cells": [
    {
      "cell_type": "markdown",
      "metadata": {
        "id": "view-in-github",
        "colab_type": "text"
      },
      "source": [
        "<a href=\"https://colab.research.google.com/github/Yasir323/100-days-of-code/blob/master/OOP5_Role_of_Underscore(_)_in_Python.ipynb\" target=\"_parent\"><img src=\"https://colab.research.google.com/assets/colab-badge.svg\" alt=\"Open In Colab\"/></a>"
      ]
    },
    {
      "cell_type": "markdown",
      "metadata": {
        "id": "Ed5XBpyqmhRz"
      },
      "source": [
        "## 1. Use In Interpreter\n",
        "\n",
        "Python automatically stores the value of the last expression in the interpreter to a particular variable called \"_.\" You can also assign these value to another variable if you want.\n",
        "\n",
        "You can use it as a normal variable. See the example"
      ]
    },
    {
      "cell_type": "code",
      "metadata": {
        "colab": {
          "base_uri": "https://localhost:8080/"
        },
        "id": "TRcg6LF5mGMZ",
        "outputId": "b262cf09-cdb4-4fe6-9dbf-3b92e65fcfb2"
      },
      "source": [
        "5 + 4"
      ],
      "execution_count": 1,
      "outputs": [
        {
          "output_type": "execute_result",
          "data": {
            "text/plain": [
              "9"
            ]
          },
          "metadata": {},
          "execution_count": 1
        }
      ]
    },
    {
      "cell_type": "code",
      "metadata": {
        "colab": {
          "base_uri": "https://localhost:8080/"
        },
        "id": "isyDJqqzmnmS",
        "outputId": "e4af27f5-9b68-4215-8ee1-878f28db2bfe"
      },
      "source": [
        "_"
      ],
      "execution_count": 2,
      "outputs": [
        {
          "output_type": "execute_result",
          "data": {
            "text/plain": [
              "9"
            ]
          },
          "metadata": {},
          "execution_count": 2
        }
      ]
    },
    {
      "cell_type": "code",
      "metadata": {
        "colab": {
          "base_uri": "https://localhost:8080/"
        },
        "id": "7hc5qzVrmowO",
        "outputId": "10a11d77-8e6a-4ce6-c578-2f7c8dffc0a2"
      },
      "source": [
        "_ + 6"
      ],
      "execution_count": 3,
      "outputs": [
        {
          "output_type": "execute_result",
          "data": {
            "text/plain": [
              "15"
            ]
          },
          "metadata": {},
          "execution_count": 3
        }
      ]
    },
    {
      "cell_type": "code",
      "metadata": {
        "colab": {
          "base_uri": "https://localhost:8080/"
        },
        "id": "EYy9LwWQmqik",
        "outputId": "12275070-b804-4754-de75-b6229f9a914c"
      },
      "source": [
        "a = _\n",
        "a"
      ],
      "execution_count": 4,
      "outputs": [
        {
          "output_type": "execute_result",
          "data": {
            "text/plain": [
              "15"
            ]
          },
          "metadata": {},
          "execution_count": 4
        }
      ]
    },
    {
      "cell_type": "markdown",
      "metadata": {
        "id": "R0L8AfyomwW9"
      },
      "source": [
        "## 2. Ignoring Values\n",
        "\n",
        "Underscore(\\_) is also used to ignore the values. If you don't want to use specific values while unpacking, just assign that value to underscore(\\_).\n",
        "\n",
        "Ignoring means assigning the values to special variable underscore(\\_). We're assigning the values to underscore(\\_) given not using that in future code.\n",
        "\n",
        "See the example"
      ]
    },
    {
      "cell_type": "code",
      "metadata": {
        "colab": {
          "base_uri": "https://localhost:8080/"
        },
        "id": "yhLMAhMNmuHN",
        "outputId": "b6244eba-05b0-450c-9396-7dfa88816407"
      },
      "source": [
        "## ignoring a value\n",
        "a, _, b = (1, 2, 3) # a = 1, b = 3\n",
        "print(a, b)\n",
        "\n",
        "## ignoring multiple values\n",
        "## *(variable) used to assign multiple value to a variable as list while unpacking\n",
        "## it's called \"Extended Unpacking\", only available in Python 3.x\n",
        "a, *_, b = (7, 6, 5, 4, 3, 2, 1)\n",
        "print(a, b)"
      ],
      "execution_count": 5,
      "outputs": [
        {
          "output_type": "stream",
          "name": "stdout",
          "text": [
            "1 3\n",
            "7 1\n"
          ]
        }
      ]
    },
    {
      "cell_type": "markdown",
      "metadata": {
        "id": "3X2n3-QKm-17"
      },
      "source": [
        "## 3. Use In Looping\n",
        "\n",
        "You can use underscore(`_`) as a variable in looping. See the examples below to get an idea."
      ]
    },
    {
      "cell_type": "code",
      "metadata": {
        "colab": {
          "base_uri": "https://localhost:8080/"
        },
        "id": "ZGkD1Jn7m69W",
        "outputId": "ceae4d5b-58cd-431d-cf1c-01f0c765e1f1"
      },
      "source": [
        "## lopping ten times using _\n",
        "for _ in range(5):\n",
        "    print(_)\n",
        "\n",
        "## iterating over a list using _\n",
        "## you can use _ same as a variable\n",
        "languages = [\"Python\", \"JS\", \"PHP\", \"Java\"]\n",
        "for _ in languages:\n",
        "    print(_)\n",
        "\n",
        "_ = 5\n",
        "while _ < 10:\n",
        "    print(_, end = ' ') # default value of 'end' id '\\n' in python. we're changing it to space\n",
        "    _ += 1"
      ],
      "execution_count": 6,
      "outputs": [
        {
          "output_type": "stream",
          "name": "stdout",
          "text": [
            "0\n",
            "1\n",
            "2\n",
            "3\n",
            "4\n",
            "Python\n",
            "JS\n",
            "PHP\n",
            "Java\n",
            "5 6 7 8 9 "
          ]
        }
      ]
    },
    {
      "cell_type": "markdown",
      "metadata": {
        "id": "T00VKd4AnF9g"
      },
      "source": [
        "## 4. Separating Digits Of Numbers\n",
        "\n",
        "If you have a long digits number, you can separate the group of digits as you like for better understanding.\n",
        "\n",
        "Ex:- million = 1_000_000\n",
        "\n",
        "Next, you can also use underscore(`_`) to separate the binary, octal or hex parts of numbers.\n",
        "\n",
        "Ex:- binary = 0b_0010, octa = 0o_64, hexa = 0x_23_ab\n",
        "\n",
        "Execute all the above examples to see the results."
      ]
    },
    {
      "cell_type": "code",
      "metadata": {
        "colab": {
          "base_uri": "https://localhost:8080/"
        },
        "id": "lewTKJeknDd6",
        "outputId": "336c926a-3638-4843-fecd-11078bf1881c"
      },
      "source": [
        "## different number systems\n",
        "## you can also check whether they are correct or not by coverting them into integer using \"int\" method\n",
        "million = 1_000_000\n",
        "binary = 0b_0010\n",
        "octa = 0o_64\n",
        "hexa = 0x_23_ab\n",
        "\n",
        "print(million)\n",
        "print(binary)\n",
        "print(octa)\n",
        "print(hexa)"
      ],
      "execution_count": 7,
      "outputs": [
        {
          "output_type": "stream",
          "name": "stdout",
          "text": [
            "1000000\n",
            "2\n",
            "52\n",
            "9131\n"
          ]
        }
      ]
    },
    {
      "cell_type": "markdown",
      "metadata": {
        "id": "5HJuLKZynQIf"
      },
      "source": [
        "## 5. Naming Using Underscore(_)\n",
        "\n",
        "Underscore(`_`) can be used to name variables, functions and classes, etc..,\n",
        "\n",
        "    Single Pre Underscore:- _variable\n",
        "\n",
        "    Signle Post Underscore:- variable_\n",
        "\n",
        "    Double Pre Underscores:- __variable\n",
        "\n",
        "    Double Pre and Post Underscores:- __variable__\n",
        "\n",
        "#### 5.1. _single_pre_underscore\n",
        "\n",
        "_name\n",
        "\n",
        "Single Pre Underscore is used for internal use. Most of us don't use it because of that reason.\n",
        "\n",
        "See the following example."
      ]
    },
    {
      "cell_type": "code",
      "metadata": {
        "colab": {
          "base_uri": "https://localhost:8080/"
        },
        "id": "P9lTmTtynMwI",
        "outputId": "fc6edc5a-aa19-4752-b482-4f33ce37e164"
      },
      "source": [
        "class Test:\n",
        "\n",
        "    def __init__(self):\n",
        "        self.name = \"datacamp\"\n",
        "        self._num = 7\n",
        "\n",
        "obj = Test()\n",
        "print(obj.name)\n",
        "print(obj._num)"
      ],
      "execution_count": 8,
      "outputs": [
        {
          "output_type": "stream",
          "name": "stdout",
          "text": [
            "datacamp\n",
            "7\n"
          ]
        }
      ]
    },
    {
      "cell_type": "markdown",
      "metadata": {
        "id": "cyJI5y0NnXcW"
      },
      "source": [
        "single pre underscore doesn't stop you from accessing the single pre underscore variable.\n",
        "\n",
        "But, single pre underscore effects the names that are imported from the module.\n",
        "\n",
        "Let's write the following code in the my_funtions file."
      ]
    },
    {
      "cell_type": "code",
      "metadata": {
        "id": "Y00VuybEnV0i"
      },
      "source": [
        "## filename:- my_functions.py\n",
        "\n",
        "def func():\n",
        "    return \"datacamp\"\n",
        "\n",
        "def _private_func():\n",
        "    return 7"
      ],
      "execution_count": 9,
      "outputs": []
    },
    {
      "cell_type": "markdown",
      "metadata": {
        "id": "Hzd72-ZmnaUg"
      },
      "source": [
        "Now, if you import all the methods and names from my_functions.py, Python doesn't import the names which starts with a single pre underscore.\n",
        "\n",
        "```\n",
        ">>> from my_functions import *\n",
        ">>> func()\n",
        "'datacamp'\n",
        ">>> _private_func()\n",
        "Traceback (most recent call last):\n",
        "  File \"<stdin>\", line 1, in <module>\n",
        "NameError: name '_private_func' is not defined\n",
        "```"
      ]
    },
    {
      "cell_type": "markdown",
      "metadata": {
        "id": "BHN0J-UPnl9-"
      },
      "source": [
        "You avoid the above error by importing the module normally.\n",
        "```\n",
        ">>> import my_functions\n",
        ">>> my_functions.func()\n",
        "'datacamp'\n",
        ">>> my_functions._private_func()\n",
        "7\n",
        "```"
      ]
    },
    {
      "cell_type": "markdown",
      "metadata": {
        "id": "h3zX4AlKnr-v"
      },
      "source": [
        "Single Pre Underscore is only meant to use for the internal use.\n",
        "\n",
        "#### 5.2 single_postunderscore\n",
        "\n",
        "name_\n",
        "\n",
        "Sometimes if you want to use Python Keywords as a variable, function or class names, you can use this convention for that.\n",
        "\n",
        "You can avoid conflicts with the Python Keywords by adding an underscore at the end of the name which you want to use.\n",
        "\n",
        "Let's see the example.\n",
        "```\n",
        ">>> def function(class):\n",
        "  File \"<stdin>\", line 1\n",
        "    def function(class):\n",
        "                 ^\n",
        "SyntaxError: invalid syntax\n",
        ">>> def function(class_):\n",
        "...     pass\n",
        "...\n",
        ">>>\n",
        "```"
      ]
    },
    {
      "cell_type": "markdown",
      "metadata": {
        "id": "9AEeAMk6n7bY"
      },
      "source": [
        "Single Post Underscore is used for naming your variables as Python Keywords and to avoid the clashes by adding an underscore at last of your variable name.\n",
        "#### 5.3. Double Pre Underscore\n",
        "\n",
        "__name\n",
        "\n",
        "Double Pre Underscores are used for the name mangling.\n",
        "\n",
        "Double Pre Underscores tells the Python interpreter to rewrite the attribute name of subclasses to avoid naming conflicts.\n",
        "\n",
        "**Name Mangling:-** interpreter of the Python alters the variable name in a way that it is challenging to clash when the class is inherited.\n",
        "\n",
        "Let's see an example."
      ]
    },
    {
      "cell_type": "code",
      "metadata": {
        "colab": {
          "base_uri": "https://localhost:8080/"
        },
        "id": "8ldJ9mAundNF",
        "outputId": "8dbc2ab5-776c-46f4-d475-09f8e6e163f1"
      },
      "source": [
        "class Sample():\n",
        "\n",
        "    def __init__(self):\n",
        "        self.a = 1\n",
        "        self._b = 2\n",
        "        self.__c = 3\n",
        "obj1 = Sample()\n",
        "dir(obj1)"
      ],
      "execution_count": 10,
      "outputs": [
        {
          "output_type": "execute_result",
          "data": {
            "text/plain": [
              "['_Sample__c',\n",
              " '__class__',\n",
              " '__delattr__',\n",
              " '__dict__',\n",
              " '__dir__',\n",
              " '__doc__',\n",
              " '__eq__',\n",
              " '__format__',\n",
              " '__ge__',\n",
              " '__getattribute__',\n",
              " '__gt__',\n",
              " '__hash__',\n",
              " '__init__',\n",
              " '__init_subclass__',\n",
              " '__le__',\n",
              " '__lt__',\n",
              " '__module__',\n",
              " '__ne__',\n",
              " '__new__',\n",
              " '__reduce__',\n",
              " '__reduce_ex__',\n",
              " '__repr__',\n",
              " '__setattr__',\n",
              " '__sizeof__',\n",
              " '__str__',\n",
              " '__subclasshook__',\n",
              " '__weakref__',\n",
              " '_b',\n",
              " 'a']"
            ]
          },
          "metadata": {},
          "execution_count": 10
        }
      ]
    },
    {
      "cell_type": "markdown",
      "metadata": {
        "id": "nCGAprlfoGY9"
      },
      "source": [
        "The above code returns all the attributes of the class object. Let's see our variables in the attributes list.\n",
        "\n",
        "self.a variable appears in the list without any change.\n",
        "\n",
        "`self._b` Variable also appears in the list without any change. As we discussed above, it's just for the internal use.\n",
        "\n",
        "    Is there `self.__c` variable in the list?\n",
        "        If you carefully look at the attributes list, you will find an attribute called `_Sample__c`. This is the name mangling. It is to avoid the overriding of the variable in subclasses.\n",
        "\n",
        "Let's create another class by inheriting Sample class to see how overriding works."
      ]
    },
    {
      "cell_type": "code",
      "metadata": {
        "colab": {
          "base_uri": "https://localhost:8080/"
        },
        "id": "NFj_bFSIoDq7",
        "outputId": "73d24772-2c5d-4a59-8957-7547b7746f67"
      },
      "source": [
        "class SecondClass(Sample):\n",
        "\n",
        "    def __init__(self):\n",
        "        super().__init__()\n",
        "        self.a = \"overridden\"\n",
        "        self._b = \"overridden\"\n",
        "        self.__c = \"overridden\"\n",
        "obj2 = SecondClass()\n",
        "print(obj2.a)\n",
        "print(obj2._b)\n",
        "try:\n",
        "    print(obj2.__c)\n",
        "except AttributeError as e:\n",
        "    print(e.args)"
      ],
      "execution_count": 12,
      "outputs": [
        {
          "output_type": "stream",
          "name": "stdout",
          "text": [
            "overridden\n",
            "overridden\n",
            "(\"'SecondClass' object has no attribute '__c'\",)\n"
          ]
        }
      ]
    },
    {
      "cell_type": "markdown",
      "metadata": {
        "id": "YeX0Ehugob9P"
      },
      "source": [
        "Here, the name mangling works again. It changes the `obj2.__c` to `_SecondClass__c`. Now, print that element using modified Attribute."
      ]
    },
    {
      "cell_type": "code",
      "metadata": {
        "colab": {
          "base_uri": "https://localhost:8080/"
        },
        "id": "KV5SvvoGoKuZ",
        "outputId": "ec2a52de-75f4-499f-e31d-496aed8eb743"
      },
      "source": [
        "print(obj2._SecondClass__c)"
      ],
      "execution_count": 13,
      "outputs": [
        {
          "output_type": "stream",
          "name": "stdout",
          "text": [
            "overridden\n"
          ]
        }
      ]
    },
    {
      "cell_type": "markdown",
      "metadata": {
        "id": "vTr7LaVhophg"
      },
      "source": [
        "See, it's worked you can also access the previously created variable using `_Sample__c`. Let's see"
      ]
    },
    {
      "cell_type": "code",
      "metadata": {
        "colab": {
          "base_uri": "https://localhost:8080/"
        },
        "id": "2gwb63bGooSn",
        "outputId": "163859cb-205a-4a76-a1be-583b7658e19c"
      },
      "source": [
        "print(obj1._Sample__c)"
      ],
      "execution_count": 14,
      "outputs": [
        {
          "output_type": "stream",
          "name": "stdout",
          "text": [
            "3\n"
          ]
        }
      ]
    },
    {
      "cell_type": "markdown",
      "metadata": {
        "id": "dYrbNx_KotZJ"
      },
      "source": [
        "You can access the Double Pre Underscore variables using methods in the class. Let's see an example."
      ]
    },
    {
      "cell_type": "code",
      "metadata": {
        "colab": {
          "base_uri": "https://localhost:8080/"
        },
        "id": "1x4BXUDZosVq",
        "outputId": "ac74efd0-ad57-49ed-fae2-f8b5ea89de93"
      },
      "source": [
        "class SimpleClass:\n",
        "\n",
        "    def __init__(self):\n",
        "        self.__datacamp = \"Excellent\"\n",
        "\n",
        "    def get_datacamp(self):\n",
        "        return self.__datacamp\n",
        "\n",
        "obj = SimpleClass()\n",
        "print(obj.get_datacamp()) ## it prints the \"Excellent\" which is a __var\n",
        "try:\n",
        "    print(obj.__datacamp)     ## here, we get an error as mentioned before. It changes the name of the variable\n",
        "except AttributeError as e:\n",
        "    print(e.args)"
      ],
      "execution_count": 16,
      "outputs": [
        {
          "output_type": "stream",
          "name": "stdout",
          "text": [
            "Excellent\n",
            "(\"'SimpleClass' object has no attribute '__datacamp'\",)\n"
          ]
        }
      ]
    },
    {
      "cell_type": "markdown",
      "metadata": {
        "id": "NqIfAe04o8_X"
      },
      "source": [
        "You can also use the Double Pre Underscore for the method names. Let's see an example."
      ]
    },
    {
      "cell_type": "code",
      "metadata": {
        "colab": {
          "base_uri": "https://localhost:8080/"
        },
        "id": "zhWMMAOvowKl",
        "outputId": "92164419-7ae4-48b9-a78c-3c2634814a33"
      },
      "source": [
        "class SimpleClass:\n",
        "\n",
        "    def __datacamp(self):\n",
        "        return \"datacamp\"\n",
        "\n",
        "    def call_datacamp(self):\n",
        "        return self.__datacamp()\n",
        "\n",
        "obj = SimpleClass()\n",
        "print(obj.call_datacamp()) ## same as above it returns the Dobule pre underscore method\n",
        "try:\n",
        "    print(obj.__datacamp())    ## we get an error here\n",
        "except AttributeError as e:\n",
        "    print(e.args)"
      ],
      "execution_count": 17,
      "outputs": [
        {
          "output_type": "stream",
          "name": "stdout",
          "text": [
            "datacamp\n",
            "(\"'SimpleClass' object has no attribute '__datacamp'\",)\n"
          ]
        }
      ]
    },
    {
      "cell_type": "markdown",
      "metadata": {
        "id": "hOWDBxnKpHco"
      },
      "source": [
        "Let's look at the name mangling in another way. First, we will create a variable with name `_SimpleClass__name`, and then we will try to access that variable using Doble Pre Underscore name.\n",
        "\n",
        "Let's see an example."
      ]
    },
    {
      "cell_type": "code",
      "metadata": {
        "colab": {
          "base_uri": "https://localhost:8080/"
        },
        "id": "7e5jWcw9pFXn",
        "outputId": "c2a32f6a-9c50-4db6-8a36-0534a56affe1"
      },
      "source": [
        "_SimpleClass__name = \"datacamp\"\n",
        "\n",
        "class SimpleClass:\n",
        "\n",
        "    def return_name(self):\n",
        "        return __name\n",
        "\n",
        "obj = SimpleClass()\n",
        "print(obj.return_name()) ## it prints the __name variable"
      ],
      "execution_count": 18,
      "outputs": [
        {
          "output_type": "stream",
          "name": "stdout",
          "text": [
            "datacamp\n"
          ]
        }
      ]
    },
    {
      "cell_type": "markdown",
      "metadata": {
        "id": "qtO4oiEZpOne"
      },
      "source": [
        "Did you understand the concept? If you didn't, try to reread it.\n",
        "\n",
        "#### 5.4. Double Pre And Post Underscores\n",
        "\n",
        "`__name__`\n",
        "\n",
        "In Python, you will find different names which start and end with the double underscore. They are called as magic methods or dunder methods."
      ]
    },
    {
      "cell_type": "code",
      "metadata": {
        "colab": {
          "base_uri": "https://localhost:8080/"
        },
        "id": "aXyFyGlbpLqh",
        "outputId": "3251361e-e427-4a6a-ce83-07ae63eb436c"
      },
      "source": [
        "class Sample():\n",
        "\n",
        "    def __init__(self):\n",
        "        self.__num__ = 7\n",
        "\n",
        "obj = Sample()\n",
        "obj.__num__"
      ],
      "execution_count": 19,
      "outputs": [
        {
          "output_type": "execute_result",
          "data": {
            "text/plain": [
              "7"
            ]
          },
          "metadata": {},
          "execution_count": 19
        }
      ]
    }
  ]
}