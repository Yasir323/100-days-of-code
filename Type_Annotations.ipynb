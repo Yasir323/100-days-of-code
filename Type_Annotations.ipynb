{
  "nbformat": 4,
  "nbformat_minor": 0,
  "metadata": {
    "colab": {
      "name": "Type Annotations.ipynb",
      "provenance": [],
      "authorship_tag": "ABX9TyOHf3zq9X34jMfsxlPsx7aX",
      "include_colab_link": true
    },
    "kernelspec": {
      "name": "python3",
      "display_name": "Python 3"
    },
    "language_info": {
      "name": "python"
    }
  },
  "cells": [
    {
      "cell_type": "markdown",
      "metadata": {
        "id": "view-in-github",
        "colab_type": "text"
      },
      "source": [
        "<a href=\"https://colab.research.google.com/github/Yasir323/100-days-of-code/blob/master/Type_Annotations.ipynb\" target=\"_parent\"><img src=\"https://colab.research.google.com/assets/colab-badge.svg\" alt=\"Open In Colab\"/></a>"
      ]
    },
    {
      "cell_type": "code",
      "metadata": {
        "id": "t3gkvX-XSpuu"
      },
      "source": [
        "from typing import (\n",
        "    List,\n",
        "    Tuple,\n",
        "    Dict,\n",
        "    Union,\n",
        "    Iterable,\n",
        "    Optional,\n",
        "    Callable\n",
        ")\n",
        "import numpy as np"
      ],
      "execution_count": 1,
      "outputs": []
    },
    {
      "cell_type": "markdown",
      "metadata": {
        "id": "Dkr_fRiQYE_2"
      },
      "source": [
        "## List"
      ]
    },
    {
      "cell_type": "code",
      "metadata": {
        "id": "iwCtApXZVJWr"
      },
      "source": [
        "def total(xs: List[float]) -> float:\n",
        "  return sum(xs)"
      ],
      "execution_count": 2,
      "outputs": []
    },
    {
      "cell_type": "markdown",
      "metadata": {
        "id": "gJcRJkUdWA_Q"
      },
      "source": [
        "However, these type annotations don’t actually do anything. You can still\n",
        "use the annotated add function to add strings, and the call to add(10,\n",
        "\"five\") will still raise the exact same TypeError."
      ]
    },
    {
      "cell_type": "code",
      "metadata": {
        "colab": {
          "base_uri": "https://localhost:8080/"
        },
        "id": "kRUjBitRVu6G",
        "outputId": "e001a51a-53f4-4d78-f48c-e415ab0ba1c3"
      },
      "source": [
        "total((2, 3))"
      ],
      "execution_count": 3,
      "outputs": [
        {
          "output_type": "execute_result",
          "data": {
            "text/plain": [
              "5"
            ]
          },
          "metadata": {
            "tags": []
          },
          "execution_count": 3
        }
      ]
    },
    {
      "cell_type": "markdown",
      "metadata": {
        "id": "oJbFKWDjVxRm"
      },
      "source": [
        "Here even though we have defined the parameter as list if floats, when we pass a tuple of integers it'll work."
      ]
    },
    {
      "cell_type": "markdown",
      "metadata": {
        "id": "WXY73VUrYJDi"
      },
      "source": [
        "## Integer"
      ]
    },
    {
      "cell_type": "code",
      "metadata": {
        "id": "YRjDXicHWiC4"
      },
      "source": [
        "# Type-Annotating integers\n",
        "x: int = 5 "
      ],
      "execution_count": 4,
      "outputs": []
    },
    {
      "cell_type": "code",
      "metadata": {
        "id": "WPeIUY-5WwQ1"
      },
      "source": [
        "values: List[int] = []"
      ],
      "execution_count": 5,
      "outputs": []
    },
    {
      "cell_type": "markdown",
      "metadata": {
        "id": "IWGBGoZYYMwx"
      },
      "source": [
        "## Optional"
      ]
    },
    {
      "cell_type": "code",
      "metadata": {
        "id": "B-fENeNzW1Xx"
      },
      "source": [
        "best_so_far: Optional[float] = None\n",
        "# Allowed to be either a float or None"
      ],
      "execution_count": 6,
      "outputs": []
    },
    {
      "cell_type": "markdown",
      "metadata": {
        "id": "gH5L_xQSYPbT"
      },
      "source": [
        "## Dictionary-"
      ]
    },
    {
      "cell_type": "code",
      "metadata": {
        "id": "3cUFH4kWXANk"
      },
      "source": [
        "# Keys are strings and Values are Integers\n",
        "counts: Dict[str, int] = {'data': 1, 'science': 2}"
      ],
      "execution_count": 7,
      "outputs": []
    },
    {
      "cell_type": "markdown",
      "metadata": {
        "id": "6ch2zxjnYVlr"
      },
      "source": [
        "## Generators"
      ]
    },
    {
      "cell_type": "code",
      "metadata": {
        "id": "g2VkzSvYXZrS"
      },
      "source": [
        "# Lists and generators are both iterable\n",
        "lazy: bool = True\n",
        "if lazy:\n",
        "  evens: Iterable[int] = (x for x in range(10) if x % 2 == 0)\n",
        "else:\n",
        "  evens = [0, 2, 4, 6, 8]"
      ],
      "execution_count": 8,
      "outputs": []
    },
    {
      "cell_type": "markdown",
      "metadata": {
        "id": "37rFnaAnYZvw"
      },
      "source": [
        "## Tuples"
      ]
    },
    {
      "cell_type": "code",
      "metadata": {
        "id": "5S515-qOXsmP"
      },
      "source": [
        "# Tuples specify a type for each element\n",
        "triple: Tuple[int, float, int] = (10, 2.3, 5)"
      ],
      "execution_count": 9,
      "outputs": []
    },
    {
      "cell_type": "markdown",
      "metadata": {
        "id": "hwcGGr_IYDkn"
      },
      "source": [
        "## Functions\n",
        "Finally, since Python has first-class functions, we need a type to represent\n",
        "those as well. Here’s a pretty contrived example:"
      ]
    },
    {
      "cell_type": "code",
      "metadata": {
        "id": "TXYn2r_oZK8F"
      },
      "source": [
        "# The type hint says that repeater is a function that takes\n",
        "# two arguments, a string and an int, and returns a string\n",
        "def twice(repeater: Callable[[str, int], str], s: str) -> str:\n",
        "  return repeater(s, 2)\n",
        "\n",
        "\n",
        "def comma_repeater(s: str, n: int) -> str:\n",
        "  n_copies = [s for _ in range(n)]\n",
        "  return ', '.join(n_copies)"
      ],
      "execution_count": 10,
      "outputs": []
    },
    {
      "cell_type": "code",
      "metadata": {
        "colab": {
          "base_uri": "https://localhost:8080/"
        },
        "id": "HPA0Kf4-Zy65",
        "outputId": "f723467c-0edd-44b5-fba0-a6f997bd8f88"
      },
      "source": [
        "print(twice(comma_repeater, \"type hints\"))"
      ],
      "execution_count": 11,
      "outputs": [
        {
          "output_type": "stream",
          "text": [
            "type hints, type hints\n"
          ],
          "name": "stdout"
        }
      ]
    },
    {
      "cell_type": "markdown",
      "metadata": {
        "id": "fyW-FPYDZ7e-"
      },
      "source": [
        "As type annotations are just Python objects, we can assign them to variables\n",
        "to make them easier to refer to:"
      ]
    },
    {
      "cell_type": "code",
      "metadata": {
        "id": "sfugNFMjaBxT"
      },
      "source": [
        "Number = int\n",
        "Numbers = List[Number]\n",
        "\n",
        "\n",
        "def total(xs: Numbers) -> Number:\n",
        "  return sum(xs)"
      ],
      "execution_count": 12,
      "outputs": []
    },
    {
      "cell_type": "markdown",
      "metadata": {
        "id": "AlOB03C6aNAq"
      },
      "source": [
        "There are still (at least) four good reasons to use type annotations\n",
        "in your Python code:\n",
        "\n",
        "1. Types are an important form of documentation. This is doubly true\n",
        "in a book that is using code to teach you theoretical and\n",
        "mathematical concepts."
      ]
    },
    {
      "cell_type": "code",
      "metadata": {
        "id": "G42lKCSzadNM"
      },
      "source": [
        "Vector = List[float]\n",
        "\n",
        "\n",
        "def dot_product(x: Vector, y:Vector) -> float:\n",
        "  return sum([xi * yi for xi, yi in zip(x, y)])"
      ],
      "execution_count": 13,
      "outputs": []
    },
    {
      "cell_type": "code",
      "metadata": {
        "colab": {
          "base_uri": "https://localhost:8080/"
        },
        "id": "Pa4MrXR7a3r8",
        "outputId": "24515202-e236-4b74-a144-3909920e9556"
      },
      "source": [
        "dot_product([1., 2., 3.], [0., 0., 1.])"
      ],
      "execution_count": 14,
      "outputs": [
        {
          "output_type": "execute_result",
          "data": {
            "text/plain": [
              "3.0"
            ]
          },
          "metadata": {
            "tags": []
          },
          "execution_count": 14
        }
      ]
    },
    {
      "cell_type": "markdown",
      "metadata": {
        "id": "NNcw_6tVbBhR"
      },
      "source": [
        "2. There are external tools (the most popular is mypy) that will read\n",
        "your code, inspect the type annotations, and let you know about\n",
        "type errors before you ever run your code.\n",
        "3. Having to think about the types in your code forces you to design\n",
        "cleaner functions and interfaces:"
      ]
    },
    {
      "cell_type": "code",
      "metadata": {
        "id": "krhR4RGubKrX"
      },
      "source": [
        "def ugly_function(value: int, operation: Union[str, int, float, bool]) -> int:\n",
        "  pass"
      ],
      "execution_count": 15,
      "outputs": []
    },
    {
      "cell_type": "markdown",
      "metadata": {
        "id": "hynhgy1Xbem_"
      },
      "source": [
        "Here we have a function whose operation parameter is allowed to\n",
        "be a string, or an int, or a float, or a bool.\n",
        "4. Using types allows your editor to help you with things like\n",
        "autocomplete."
      ]
    }
  ]
}