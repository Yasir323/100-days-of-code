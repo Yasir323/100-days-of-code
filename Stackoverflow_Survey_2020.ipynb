{
  "nbformat": 4,
  "nbformat_minor": 0,
  "metadata": {
    "colab": {
      "name": "Stackoverflow Survey 2020.ipynb",
      "provenance": [],
      "collapsed_sections": [],
      "authorship_tag": "ABX9TyMjUo4cSbRUWUO0dIg+YzQa",
      "include_colab_link": true
    },
    "kernelspec": {
      "name": "python3",
      "display_name": "Python 3"
    },
    "language_info": {
      "name": "python"
    }
  },
  "cells": [
    {
      "cell_type": "markdown",
      "metadata": {
        "id": "view-in-github",
        "colab_type": "text"
      },
      "source": [
        "<a href=\"https://colab.research.google.com/github/Yasir323/100-days-of-code/blob/master/Stackoverflow_Survey_2020.ipynb\" target=\"_parent\"><img src=\"https://colab.research.google.com/assets/colab-badge.svg\" alt=\"Open In Colab\"/></a>"
      ]
    },
    {
      "cell_type": "markdown",
      "metadata": {
        "id": "b_9r26iIyJtr"
      },
      "source": [
        "1. Plan\n",
        "2. Data Collection\n",
        "3. Data Preparation and Cleaning"
      ]
    },
    {
      "cell_type": "markdown",
      "metadata": {
        "id": "baOBUWOB7UJO"
      },
      "source": [
        "# Import Relevant Libraries"
      ]
    },
    {
      "cell_type": "code",
      "metadata": {
        "id": "C1RmizYV3H6f"
      },
      "source": [
        "import zipfile  # To extract zip file\n",
        "from google.colab import files  # To upload file\n",
        "import os\n",
        "import pandas as pd\n",
        "import numpy as np\n",
        "import seaborn as sns\n",
        "import matplotlib.pyplot as plt\n",
        "%matplotlib inline\n",
        "sns.set_style('darkgrid')\n",
        "plt.rc('xtick', labelsize=14)\n",
        "plt.rc('ytick', labelsize=14)\n",
        "plt.rc('axes', titlesize=18)"
      ],
      "execution_count": 1,
      "outputs": []
    },
    {
      "cell_type": "markdown",
      "metadata": {
        "id": "MmEcQaPE7Zk4"
      },
      "source": [
        "# Data Collection"
      ]
    },
    {
      "cell_type": "code",
      "metadata": {
        "colab": {
          "resources": {
            "http://localhost:8080/nbextensions/google.colab/files.js": {
              "data": "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",
              "ok": true,
              "headers": [
                [
                  "content-type",
                  "application/javascript"
                ]
              ],
              "status": 200,
              "status_text": "OK"
            }
          },
          "base_uri": "https://localhost:8080/",
          "height": 109
        },
        "id": "ETocoTBH2EGX",
        "outputId": "b0db01f6-0b00-48f5-86e6-9e47f2731aa5"
      },
      "source": [
        "uploaded = files.upload()\n",
        "\n",
        "for fn in uploaded.keys():\n",
        "  print('User uploaded file \"{name}\" with length {length} bytes'.format(\n",
        "      name=fn, length=len(uploaded[fn])))"
      ],
      "execution_count": 2,
      "outputs": [
        {
          "output_type": "display_data",
          "data": {
            "text/html": [
              "\n",
              "     <input type=\"file\" id=\"files-bed8e468-fce9-4a96-964c-747dd227145d\" name=\"files[]\" multiple disabled\n",
              "        style=\"border:none\" />\n",
              "     <output id=\"result-bed8e468-fce9-4a96-964c-747dd227145d\">\n",
              "      Upload widget is only available when the cell has been executed in the\n",
              "      current browser session. Please rerun this cell to enable.\n",
              "      </output>\n",
              "      <script src=\"/nbextensions/google.colab/files.js\"></script> "
            ],
            "text/plain": [
              "<IPython.core.display.HTML object>"
            ]
          },
          "metadata": {
            "tags": []
          }
        },
        {
          "output_type": "stream",
          "text": [
            "Saving developer_survey_2020.zip to developer_survey_2020 (1).zip\n",
            "User uploaded file \"developer_survey_2020.zip\" with length 9908290 bytes\n"
          ],
          "name": "stdout"
        }
      ]
    },
    {
      "cell_type": "code",
      "metadata": {
        "colab": {
          "base_uri": "https://localhost:8080/"
        },
        "id": "ZUa_31yT3UXq",
        "outputId": "1cc1be5b-ca0d-451b-ecf9-5fd5398913bd"
      },
      "source": [
        "os.listdir()"
      ],
      "execution_count": 3,
      "outputs": [
        {
          "output_type": "execute_result",
          "data": {
            "text/plain": [
              "['.config',\n",
              " 'Data',\n",
              " 'developer_survey_2020 (1).zip',\n",
              " 'developer_survey_2020.zip',\n",
              " 'sample_data']"
            ]
          },
          "metadata": {
            "tags": []
          },
          "execution_count": 3
        }
      ]
    },
    {
      "cell_type": "code",
      "metadata": {
        "id": "vquKRCeE3LZ9"
      },
      "source": [
        "source = \"developer_survey_2020.zip\"\n",
        "dest = \"Data\""
      ],
      "execution_count": 4,
      "outputs": []
    },
    {
      "cell_type": "code",
      "metadata": {
        "id": "Hjrjt6E72iY3"
      },
      "source": [
        "with zipfile.ZipFile(source, 'r') as zip_ref:\n",
        "    zip_ref.extractall(dest)"
      ],
      "execution_count": 5,
      "outputs": []
    },
    {
      "cell_type": "code",
      "metadata": {
        "colab": {
          "base_uri": "https://localhost:8080/"
        },
        "id": "C9pEOZue3JG1",
        "outputId": "d828e1e1-1b81-4728-c4af-0ffb03bf72c0"
      },
      "source": [
        "os.listdir(dest)"
      ],
      "execution_count": 6,
      "outputs": [
        {
          "output_type": "execute_result",
          "data": {
            "text/plain": [
              "['survey_results_public.csv',\n",
              " 'so_survey_2020.pdf',\n",
              " 'README_2020.txt',\n",
              " 'survey_results_schema.csv']"
            ]
          },
          "metadata": {
            "tags": []
          },
          "execution_count": 6
        }
      ]
    },
    {
      "cell_type": "code",
      "metadata": {
        "id": "LSyeEYI03k8q"
      },
      "source": [
        "raw_df = pd.read_csv(\"Data/survey_results_public.csv\")"
      ],
      "execution_count": 7,
      "outputs": []
    },
    {
      "cell_type": "code",
      "metadata": {
        "colab": {
          "base_uri": "https://localhost:8080/",
          "height": 643
        },
        "id": "5mO1GlK15zF6",
        "outputId": "f043f934-357b-45d3-f259-927ce7514b98"
      },
      "source": [
        "raw_df.head()"
      ],
      "execution_count": 8,
      "outputs": [
        {
          "output_type": "execute_result",
          "data": {
            "text/html": [
              "<div>\n",
              "<style scoped>\n",
              "    .dataframe tbody tr th:only-of-type {\n",
              "        vertical-align: middle;\n",
              "    }\n",
              "\n",
              "    .dataframe tbody tr th {\n",
              "        vertical-align: top;\n",
              "    }\n",
              "\n",
              "    .dataframe thead th {\n",
              "        text-align: right;\n",
              "    }\n",
              "</style>\n",
              "<table border=\"1\" class=\"dataframe\">\n",
              "  <thead>\n",
              "    <tr style=\"text-align: right;\">\n",
              "      <th></th>\n",
              "      <th>Respondent</th>\n",
              "      <th>MainBranch</th>\n",
              "      <th>Hobbyist</th>\n",
              "      <th>Age</th>\n",
              "      <th>Age1stCode</th>\n",
              "      <th>CompFreq</th>\n",
              "      <th>CompTotal</th>\n",
              "      <th>ConvertedComp</th>\n",
              "      <th>Country</th>\n",
              "      <th>CurrencyDesc</th>\n",
              "      <th>CurrencySymbol</th>\n",
              "      <th>DatabaseDesireNextYear</th>\n",
              "      <th>DatabaseWorkedWith</th>\n",
              "      <th>DevType</th>\n",
              "      <th>EdLevel</th>\n",
              "      <th>Employment</th>\n",
              "      <th>Ethnicity</th>\n",
              "      <th>Gender</th>\n",
              "      <th>JobFactors</th>\n",
              "      <th>JobSat</th>\n",
              "      <th>JobSeek</th>\n",
              "      <th>LanguageDesireNextYear</th>\n",
              "      <th>LanguageWorkedWith</th>\n",
              "      <th>MiscTechDesireNextYear</th>\n",
              "      <th>MiscTechWorkedWith</th>\n",
              "      <th>NEWCollabToolsDesireNextYear</th>\n",
              "      <th>NEWCollabToolsWorkedWith</th>\n",
              "      <th>NEWDevOps</th>\n",
              "      <th>NEWDevOpsImpt</th>\n",
              "      <th>NEWEdImpt</th>\n",
              "      <th>NEWJobHunt</th>\n",
              "      <th>NEWJobHuntResearch</th>\n",
              "      <th>NEWLearn</th>\n",
              "      <th>NEWOffTopic</th>\n",
              "      <th>NEWOnboardGood</th>\n",
              "      <th>NEWOtherComms</th>\n",
              "      <th>NEWOvertime</th>\n",
              "      <th>NEWPurchaseResearch</th>\n",
              "      <th>NEWPurpleLink</th>\n",
              "      <th>NEWSOSites</th>\n",
              "      <th>NEWStuck</th>\n",
              "      <th>OpSys</th>\n",
              "      <th>OrgSize</th>\n",
              "      <th>PlatformDesireNextYear</th>\n",
              "      <th>PlatformWorkedWith</th>\n",
              "      <th>PurchaseWhat</th>\n",
              "      <th>Sexuality</th>\n",
              "      <th>SOAccount</th>\n",
              "      <th>SOComm</th>\n",
              "      <th>SOPartFreq</th>\n",
              "      <th>SOVisitFreq</th>\n",
              "      <th>SurveyEase</th>\n",
              "      <th>SurveyLength</th>\n",
              "      <th>Trans</th>\n",
              "      <th>UndergradMajor</th>\n",
              "      <th>WebframeDesireNextYear</th>\n",
              "      <th>WebframeWorkedWith</th>\n",
              "      <th>WelcomeChange</th>\n",
              "      <th>WorkWeekHrs</th>\n",
              "      <th>YearsCode</th>\n",
              "      <th>YearsCodePro</th>\n",
              "    </tr>\n",
              "  </thead>\n",
              "  <tbody>\n",
              "    <tr>\n",
              "      <th>0</th>\n",
              "      <td>1</td>\n",
              "      <td>I am a developer by profession</td>\n",
              "      <td>Yes</td>\n",
              "      <td>NaN</td>\n",
              "      <td>13</td>\n",
              "      <td>Monthly</td>\n",
              "      <td>NaN</td>\n",
              "      <td>NaN</td>\n",
              "      <td>Germany</td>\n",
              "      <td>European Euro</td>\n",
              "      <td>EUR</td>\n",
              "      <td>Microsoft SQL Server</td>\n",
              "      <td>Elasticsearch;Microsoft SQL Server;Oracle</td>\n",
              "      <td>Developer, desktop or enterprise applications;...</td>\n",
              "      <td>Master’s degree (M.A., M.S., M.Eng., MBA, etc.)</td>\n",
              "      <td>Independent contractor, freelancer, or self-em...</td>\n",
              "      <td>White or of European descent</td>\n",
              "      <td>Man</td>\n",
              "      <td>Languages, frameworks, and other technologies ...</td>\n",
              "      <td>Slightly satisfied</td>\n",
              "      <td>I am not interested in new job opportunities</td>\n",
              "      <td>C#;HTML/CSS;JavaScript</td>\n",
              "      <td>C#;HTML/CSS;JavaScript</td>\n",
              "      <td>.NET Core;Xamarin</td>\n",
              "      <td>.NET;.NET Core</td>\n",
              "      <td>Microsoft Teams;Microsoft Azure;Trello</td>\n",
              "      <td>Confluence;Jira;Slack;Microsoft Azure;Trello</td>\n",
              "      <td>No</td>\n",
              "      <td>Somewhat important</td>\n",
              "      <td>Fairly important</td>\n",
              "      <td>NaN</td>\n",
              "      <td>NaN</td>\n",
              "      <td>Once a year</td>\n",
              "      <td>Not sure</td>\n",
              "      <td>NaN</td>\n",
              "      <td>No</td>\n",
              "      <td>Often: 1-2 days per week or more</td>\n",
              "      <td>Start a free trial;Ask developers I know/work ...</td>\n",
              "      <td>Amused</td>\n",
              "      <td>Stack Overflow (public Q&amp;A for anyone who codes)</td>\n",
              "      <td>Visit Stack Overflow;Go for a walk or other ph...</td>\n",
              "      <td>Windows</td>\n",
              "      <td>2 to 9 employees</td>\n",
              "      <td>Android;iOS;Kubernetes;Microsoft Azure;Windows</td>\n",
              "      <td>Windows</td>\n",
              "      <td>NaN</td>\n",
              "      <td>Straight / Heterosexual</td>\n",
              "      <td>No</td>\n",
              "      <td>No, not at all</td>\n",
              "      <td>NaN</td>\n",
              "      <td>Multiple times per day</td>\n",
              "      <td>Neither easy nor difficult</td>\n",
              "      <td>Appropriate in length</td>\n",
              "      <td>No</td>\n",
              "      <td>Computer science, computer engineering, or sof...</td>\n",
              "      <td>ASP.NET Core</td>\n",
              "      <td>ASP.NET;ASP.NET Core</td>\n",
              "      <td>Just as welcome now as I felt last year</td>\n",
              "      <td>50.0</td>\n",
              "      <td>36</td>\n",
              "      <td>27</td>\n",
              "    </tr>\n",
              "    <tr>\n",
              "      <th>1</th>\n",
              "      <td>2</td>\n",
              "      <td>I am a developer by profession</td>\n",
              "      <td>No</td>\n",
              "      <td>NaN</td>\n",
              "      <td>19</td>\n",
              "      <td>NaN</td>\n",
              "      <td>NaN</td>\n",
              "      <td>NaN</td>\n",
              "      <td>United Kingdom</td>\n",
              "      <td>Pound sterling</td>\n",
              "      <td>GBP</td>\n",
              "      <td>NaN</td>\n",
              "      <td>NaN</td>\n",
              "      <td>Developer, full-stack;Developer, mobile</td>\n",
              "      <td>Bachelor’s degree (B.A., B.S., B.Eng., etc.)</td>\n",
              "      <td>Employed full-time</td>\n",
              "      <td>NaN</td>\n",
              "      <td>NaN</td>\n",
              "      <td>NaN</td>\n",
              "      <td>Very dissatisfied</td>\n",
              "      <td>I am not interested in new job opportunities</td>\n",
              "      <td>Python;Swift</td>\n",
              "      <td>JavaScript;Swift</td>\n",
              "      <td>React Native;TensorFlow;Unity 3D</td>\n",
              "      <td>React Native</td>\n",
              "      <td>Github;Slack</td>\n",
              "      <td>Confluence;Jira;Github;Gitlab;Slack</td>\n",
              "      <td>NaN</td>\n",
              "      <td>NaN</td>\n",
              "      <td>Fairly important</td>\n",
              "      <td>NaN</td>\n",
              "      <td>NaN</td>\n",
              "      <td>Once a year</td>\n",
              "      <td>Not sure</td>\n",
              "      <td>NaN</td>\n",
              "      <td>No</td>\n",
              "      <td>NaN</td>\n",
              "      <td>NaN</td>\n",
              "      <td>Amused</td>\n",
              "      <td>Stack Overflow (public Q&amp;A for anyone who code...</td>\n",
              "      <td>Visit Stack Overflow;Go for a walk or other ph...</td>\n",
              "      <td>MacOS</td>\n",
              "      <td>1,000 to 4,999 employees</td>\n",
              "      <td>iOS;Kubernetes;Linux;MacOS</td>\n",
              "      <td>iOS</td>\n",
              "      <td>I have little or no influence</td>\n",
              "      <td>NaN</td>\n",
              "      <td>Yes</td>\n",
              "      <td>Yes, definitely</td>\n",
              "      <td>Less than once per month or monthly</td>\n",
              "      <td>Multiple times per day</td>\n",
              "      <td>NaN</td>\n",
              "      <td>NaN</td>\n",
              "      <td>NaN</td>\n",
              "      <td>Computer science, computer engineering, or sof...</td>\n",
              "      <td>NaN</td>\n",
              "      <td>NaN</td>\n",
              "      <td>Somewhat more welcome now than last year</td>\n",
              "      <td>NaN</td>\n",
              "      <td>7</td>\n",
              "      <td>4</td>\n",
              "    </tr>\n",
              "    <tr>\n",
              "      <th>2</th>\n",
              "      <td>3</td>\n",
              "      <td>I code primarily as a hobby</td>\n",
              "      <td>Yes</td>\n",
              "      <td>NaN</td>\n",
              "      <td>15</td>\n",
              "      <td>NaN</td>\n",
              "      <td>NaN</td>\n",
              "      <td>NaN</td>\n",
              "      <td>Russian Federation</td>\n",
              "      <td>NaN</td>\n",
              "      <td>NaN</td>\n",
              "      <td>NaN</td>\n",
              "      <td>NaN</td>\n",
              "      <td>NaN</td>\n",
              "      <td>NaN</td>\n",
              "      <td>NaN</td>\n",
              "      <td>NaN</td>\n",
              "      <td>NaN</td>\n",
              "      <td>NaN</td>\n",
              "      <td>NaN</td>\n",
              "      <td>NaN</td>\n",
              "      <td>Objective-C;Python;Swift</td>\n",
              "      <td>Objective-C;Python;Swift</td>\n",
              "      <td>NaN</td>\n",
              "      <td>NaN</td>\n",
              "      <td>NaN</td>\n",
              "      <td>NaN</td>\n",
              "      <td>NaN</td>\n",
              "      <td>NaN</td>\n",
              "      <td>NaN</td>\n",
              "      <td>NaN</td>\n",
              "      <td>NaN</td>\n",
              "      <td>Once a decade</td>\n",
              "      <td>NaN</td>\n",
              "      <td>NaN</td>\n",
              "      <td>No</td>\n",
              "      <td>NaN</td>\n",
              "      <td>NaN</td>\n",
              "      <td>NaN</td>\n",
              "      <td>Stack Overflow (public Q&amp;A for anyone who codes)</td>\n",
              "      <td>NaN</td>\n",
              "      <td>Linux-based</td>\n",
              "      <td>NaN</td>\n",
              "      <td>NaN</td>\n",
              "      <td>NaN</td>\n",
              "      <td>NaN</td>\n",
              "      <td>NaN</td>\n",
              "      <td>Yes</td>\n",
              "      <td>Yes, somewhat</td>\n",
              "      <td>A few times per month or weekly</td>\n",
              "      <td>Daily or almost daily</td>\n",
              "      <td>Neither easy nor difficult</td>\n",
              "      <td>Appropriate in length</td>\n",
              "      <td>NaN</td>\n",
              "      <td>NaN</td>\n",
              "      <td>NaN</td>\n",
              "      <td>NaN</td>\n",
              "      <td>Somewhat more welcome now than last year</td>\n",
              "      <td>NaN</td>\n",
              "      <td>4</td>\n",
              "      <td>NaN</td>\n",
              "    </tr>\n",
              "    <tr>\n",
              "      <th>3</th>\n",
              "      <td>4</td>\n",
              "      <td>I am a developer by profession</td>\n",
              "      <td>Yes</td>\n",
              "      <td>25.0</td>\n",
              "      <td>18</td>\n",
              "      <td>NaN</td>\n",
              "      <td>NaN</td>\n",
              "      <td>NaN</td>\n",
              "      <td>Albania</td>\n",
              "      <td>Albanian lek</td>\n",
              "      <td>ALL</td>\n",
              "      <td>NaN</td>\n",
              "      <td>NaN</td>\n",
              "      <td>NaN</td>\n",
              "      <td>Master’s degree (M.A., M.S., M.Eng., MBA, etc.)</td>\n",
              "      <td>NaN</td>\n",
              "      <td>White or of European descent</td>\n",
              "      <td>Man</td>\n",
              "      <td>Flex time or a flexible schedule;Office enviro...</td>\n",
              "      <td>Slightly dissatisfied</td>\n",
              "      <td>I’m not actively looking, but I am open to new...</td>\n",
              "      <td>NaN</td>\n",
              "      <td>NaN</td>\n",
              "      <td>NaN</td>\n",
              "      <td>NaN</td>\n",
              "      <td>NaN</td>\n",
              "      <td>NaN</td>\n",
              "      <td>No</td>\n",
              "      <td>NaN</td>\n",
              "      <td>Not at all important/not necessary</td>\n",
              "      <td>Curious about other opportunities;Wanting to w...</td>\n",
              "      <td>NaN</td>\n",
              "      <td>Once a year</td>\n",
              "      <td>Not sure</td>\n",
              "      <td>Yes</td>\n",
              "      <td>Yes</td>\n",
              "      <td>Occasionally: 1-2 days per quarter but less th...</td>\n",
              "      <td>NaN</td>\n",
              "      <td>NaN</td>\n",
              "      <td>Stack Overflow (public Q&amp;A for anyone who code...</td>\n",
              "      <td>NaN</td>\n",
              "      <td>Linux-based</td>\n",
              "      <td>20 to 99 employees</td>\n",
              "      <td>NaN</td>\n",
              "      <td>NaN</td>\n",
              "      <td>I have a great deal of influence</td>\n",
              "      <td>Straight / Heterosexual</td>\n",
              "      <td>Yes</td>\n",
              "      <td>Yes, definitely</td>\n",
              "      <td>A few times per month or weekly</td>\n",
              "      <td>Multiple times per day</td>\n",
              "      <td>NaN</td>\n",
              "      <td>NaN</td>\n",
              "      <td>No</td>\n",
              "      <td>Computer science, computer engineering, or sof...</td>\n",
              "      <td>NaN</td>\n",
              "      <td>NaN</td>\n",
              "      <td>Somewhat less welcome now than last year</td>\n",
              "      <td>40.0</td>\n",
              "      <td>7</td>\n",
              "      <td>4</td>\n",
              "    </tr>\n",
              "    <tr>\n",
              "      <th>4</th>\n",
              "      <td>5</td>\n",
              "      <td>I used to be a developer by profession, but no...</td>\n",
              "      <td>Yes</td>\n",
              "      <td>31.0</td>\n",
              "      <td>16</td>\n",
              "      <td>NaN</td>\n",
              "      <td>NaN</td>\n",
              "      <td>NaN</td>\n",
              "      <td>United States</td>\n",
              "      <td>NaN</td>\n",
              "      <td>NaN</td>\n",
              "      <td>MySQL;PostgreSQL</td>\n",
              "      <td>MySQL;PostgreSQL;Redis;SQLite</td>\n",
              "      <td>NaN</td>\n",
              "      <td>Bachelor’s degree (B.A., B.S., B.Eng., etc.)</td>\n",
              "      <td>Employed full-time</td>\n",
              "      <td>White or of European descent</td>\n",
              "      <td>Man</td>\n",
              "      <td>NaN</td>\n",
              "      <td>NaN</td>\n",
              "      <td>NaN</td>\n",
              "      <td>Java;Ruby;Scala</td>\n",
              "      <td>HTML/CSS;Ruby;SQL</td>\n",
              "      <td>Ansible;Chef</td>\n",
              "      <td>Ansible</td>\n",
              "      <td>Github;Google Suite (Docs, Meet, etc)</td>\n",
              "      <td>Confluence;Jira;Github;Slack;Google Suite (Doc...</td>\n",
              "      <td>NaN</td>\n",
              "      <td>NaN</td>\n",
              "      <td>Very important</td>\n",
              "      <td>NaN</td>\n",
              "      <td>NaN</td>\n",
              "      <td>Once a year</td>\n",
              "      <td>No</td>\n",
              "      <td>NaN</td>\n",
              "      <td>Yes</td>\n",
              "      <td>NaN</td>\n",
              "      <td>Start a free trial;Ask developers I know/work ...</td>\n",
              "      <td>Hello, old friend</td>\n",
              "      <td>Stack Overflow (public Q&amp;A for anyone who code...</td>\n",
              "      <td>Call a coworker or friend;Visit Stack Overflow...</td>\n",
              "      <td>Windows</td>\n",
              "      <td>NaN</td>\n",
              "      <td>Docker;Google Cloud Platform;Heroku;Linux;Windows</td>\n",
              "      <td>AWS;Docker;Linux;MacOS;Windows</td>\n",
              "      <td>NaN</td>\n",
              "      <td>Straight / Heterosexual</td>\n",
              "      <td>Yes</td>\n",
              "      <td>Yes, somewhat</td>\n",
              "      <td>Less than once per month or monthly</td>\n",
              "      <td>A few times per month or weekly</td>\n",
              "      <td>Easy</td>\n",
              "      <td>Too short</td>\n",
              "      <td>No</td>\n",
              "      <td>Computer science, computer engineering, or sof...</td>\n",
              "      <td>Django;Ruby on Rails</td>\n",
              "      <td>Ruby on Rails</td>\n",
              "      <td>Just as welcome now as I felt last year</td>\n",
              "      <td>NaN</td>\n",
              "      <td>15</td>\n",
              "      <td>8</td>\n",
              "    </tr>\n",
              "  </tbody>\n",
              "</table>\n",
              "</div>"
            ],
            "text/plain": [
              "   Respondent  ... YearsCodePro\n",
              "0           1  ...           27\n",
              "1           2  ...            4\n",
              "2           3  ...          NaN\n",
              "3           4  ...            4\n",
              "4           5  ...            8\n",
              "\n",
              "[5 rows x 61 columns]"
            ]
          },
          "metadata": {
            "tags": []
          },
          "execution_count": 8
        }
      ]
    },
    {
      "cell_type": "code",
      "metadata": {
        "colab": {
          "base_uri": "https://localhost:8080/"
        },
        "id": "oljV_0uW51bC",
        "outputId": "fb380b2f-9e1f-4eda-a18f-8e40372c5578"
      },
      "source": [
        "raw_df.info()"
      ],
      "execution_count": 9,
      "outputs": [
        {
          "output_type": "stream",
          "text": [
            "<class 'pandas.core.frame.DataFrame'>\n",
            "RangeIndex: 64461 entries, 0 to 64460\n",
            "Data columns (total 61 columns):\n",
            " #   Column                        Non-Null Count  Dtype  \n",
            "---  ------                        --------------  -----  \n",
            " 0   Respondent                    64461 non-null  int64  \n",
            " 1   MainBranch                    64162 non-null  object \n",
            " 2   Hobbyist                      64416 non-null  object \n",
            " 3   Age                           45446 non-null  float64\n",
            " 4   Age1stCode                    57900 non-null  object \n",
            " 5   CompFreq                      40069 non-null  object \n",
            " 6   CompTotal                     34826 non-null  float64\n",
            " 7   ConvertedComp                 34756 non-null  float64\n",
            " 8   Country                       64072 non-null  object \n",
            " 9   CurrencyDesc                  45472 non-null  object \n",
            " 10  CurrencySymbol                45472 non-null  object \n",
            " 11  DatabaseDesireNextYear        44070 non-null  object \n",
            " 12  DatabaseWorkedWith            49537 non-null  object \n",
            " 13  DevType                       49370 non-null  object \n",
            " 14  EdLevel                       57431 non-null  object \n",
            " 15  Employment                    63854 non-null  object \n",
            " 16  Ethnicity                     45948 non-null  object \n",
            " 17  Gender                        50557 non-null  object \n",
            " 18  JobFactors                    49349 non-null  object \n",
            " 19  JobSat                        45194 non-null  object \n",
            " 20  JobSeek                       51727 non-null  object \n",
            " 21  LanguageDesireNextYear        54113 non-null  object \n",
            " 22  LanguageWorkedWith            57378 non-null  object \n",
            " 23  MiscTechDesireNextYear        42379 non-null  object \n",
            " 24  MiscTechWorkedWith            40314 non-null  object \n",
            " 25  NEWCollabToolsDesireNextYear  47287 non-null  object \n",
            " 26  NEWCollabToolsWorkedWith      52883 non-null  object \n",
            " 27  NEWDevOps                     42686 non-null  object \n",
            " 28  NEWDevOpsImpt                 41732 non-null  object \n",
            " 29  NEWEdImpt                     48465 non-null  object \n",
            " 30  NEWJobHunt                    42286 non-null  object \n",
            " 31  NEWJobHuntResearch            41022 non-null  object \n",
            " 32  NEWLearn                      56156 non-null  object \n",
            " 33  NEWOffTopic                   50804 non-null  object \n",
            " 34  NEWOnboardGood                42623 non-null  object \n",
            " 35  NEWOtherComms                 57205 non-null  object \n",
            " 36  NEWOvertime                   43231 non-null  object \n",
            " 37  NEWPurchaseResearch           37321 non-null  object \n",
            " 38  NEWPurpleLink                 54803 non-null  object \n",
            " 39  NEWSOSites                    58275 non-null  object \n",
            " 40  NEWStuck                      54983 non-null  object \n",
            " 41  OpSys                         56228 non-null  object \n",
            " 42  OrgSize                       44334 non-null  object \n",
            " 43  PlatformDesireNextYear        50605 non-null  object \n",
            " 44  PlatformWorkedWith            53843 non-null  object \n",
            " 45  PurchaseWhat                  39364 non-null  object \n",
            " 46  Sexuality                     43992 non-null  object \n",
            " 47  SOAccount                     56805 non-null  object \n",
            " 48  SOComm                        56476 non-null  object \n",
            " 49  SOPartFreq                    46792 non-null  object \n",
            " 50  SOVisitFreq                   56970 non-null  object \n",
            " 51  SurveyEase                    51802 non-null  object \n",
            " 52  SurveyLength                  51701 non-null  object \n",
            " 53  Trans                         49345 non-null  object \n",
            " 54  UndergradMajor                50995 non-null  object \n",
            " 55  WebframeDesireNextYear        40024 non-null  object \n",
            " 56  WebframeWorkedWith            42279 non-null  object \n",
            " 57  WelcomeChange                 52683 non-null  object \n",
            " 58  WorkWeekHrs                   41151 non-null  float64\n",
            " 59  YearsCode                     57684 non-null  object \n",
            " 60  YearsCodePro                  46349 non-null  object \n",
            "dtypes: float64(4), int64(1), object(56)\n",
            "memory usage: 30.0+ MB\n"
          ],
          "name": "stdout"
        }
      ]
    },
    {
      "cell_type": "code",
      "metadata": {
        "id": "QCJcNIxe54qz"
      },
      "source": [
        "schema = pd.read_csv(\"Data/survey_results_schema.csv\", index_col=\"Column\").QuestionText"
      ],
      "execution_count": 10,
      "outputs": []
    },
    {
      "cell_type": "code",
      "metadata": {
        "colab": {
          "base_uri": "https://localhost:8080/"
        },
        "id": "v_hP6BzH6acP",
        "outputId": "b45a658e-3636-4867-c9b2-d3b33fa571d5"
      },
      "source": [
        "schema"
      ],
      "execution_count": 11,
      "outputs": [
        {
          "output_type": "execute_result",
          "data": {
            "text/plain": [
              "Column\n",
              "Respondent            Randomized respondent ID number (not in order ...\n",
              "MainBranch            Which of the following options best describes ...\n",
              "Hobbyist                                        Do you code as a hobby?\n",
              "Age                   What is your age (in years)? If you prefer not...\n",
              "Age1stCode            At what age did you write your first line of c...\n",
              "                                            ...                        \n",
              "WebframeWorkedWith    Which web frameworks have you done extensive d...\n",
              "WelcomeChange         Compared to last year, how welcome do you feel...\n",
              "WorkWeekHrs           On average, how many hours per week do you wor...\n",
              "YearsCode             Including any education, how many years have y...\n",
              "YearsCodePro          NOT including education, how many years have y...\n",
              "Name: QuestionText, Length: 61, dtype: object"
            ]
          },
          "metadata": {
            "tags": []
          },
          "execution_count": 11
        }
      ]
    },
    {
      "cell_type": "code",
      "metadata": {
        "colab": {
          "base_uri": "https://localhost:8080/",
          "height": 36
        },
        "id": "sYz6QwND6xJT",
        "outputId": "4137e645-9ddf-4805-b662-da8abf043e14"
      },
      "source": [
        "schema['YearsCode']"
      ],
      "execution_count": 12,
      "outputs": [
        {
          "output_type": "execute_result",
          "data": {
            "application/vnd.google.colaboratory.intrinsic+json": {
              "type": "string"
            },
            "text/plain": [
              "'Including any education, how many years have you been coding in total?'"
            ]
          },
          "metadata": {
            "tags": []
          },
          "execution_count": 12
        }
      ]
    },
    {
      "cell_type": "markdown",
      "metadata": {
        "id": "_EX3jCWy7nYi"
      },
      "source": [
        "# Data preparation and Cleaning\n",
        "\n",
        "Our analysis will be limited to:\n",
        "\n",
        "*   Demographic of the survey respondants and the global programming community.\n",
        "*   Distribution of programming skills, experience and preferences.\n",
        "*   Employment-related information, preferences and opinions.\n",
        "\n"
      ]
    },
    {
      "cell_type": "code",
      "metadata": {
        "id": "vtU7h_MJ7Ay4"
      },
      "source": [
        "selected_columns = [\n",
        "    # Demographics\n",
        "    'Country',\n",
        "    'Age',\n",
        "    'Gender',\n",
        "    'EdLevel',\n",
        "    'UndergradMajor',\n",
        "    # Programming experience\n",
        "    'Hobbyist',\n",
        "    'Age1stCode',\n",
        "    'YearsCode',\n",
        "    'YearsCodePro',\n",
        "    'LanguageWorkedWith',\n",
        "    'LanguageDesireNextYear',\n",
        "    'NEWLearn',\n",
        "    'NEWStuck',\n",
        "    # Employment\n",
        "    'Employment',\n",
        "    'DevType',\n",
        "    'WorkWeekHrs',\n",
        "    'JobSat',\n",
        "    'JobFactors',\n",
        "    'ConvertedComp',\n",
        "    'NEWEdImpt'\n",
        "]"
      ],
      "execution_count": 13,
      "outputs": []
    },
    {
      "cell_type": "code",
      "metadata": {
        "colab": {
          "base_uri": "https://localhost:8080/"
        },
        "id": "AQ_ylpRS80yk",
        "outputId": "0cb81008-6f04-41b7-8478-4ace625b87d5"
      },
      "source": [
        "len(selected_columns)"
      ],
      "execution_count": 14,
      "outputs": [
        {
          "output_type": "execute_result",
          "data": {
            "text/plain": [
              "20"
            ]
          },
          "metadata": {
            "tags": []
          },
          "execution_count": 14
        }
      ]
    },
    {
      "cell_type": "code",
      "metadata": {
        "id": "f9bOLfgh87FE"
      },
      "source": [
        "df = raw_df[selected_columns].copy()\n",
        "schema = schema[selected_columns].copy()"
      ],
      "execution_count": 15,
      "outputs": []
    },
    {
      "cell_type": "code",
      "metadata": {
        "colab": {
          "base_uri": "https://localhost:8080/"
        },
        "id": "5GfYIZai9NQe",
        "outputId": "8b95cde1-a990-433f-c7d7-4e822c9a59f7"
      },
      "source": [
        "df.info()"
      ],
      "execution_count": 16,
      "outputs": [
        {
          "output_type": "stream",
          "text": [
            "<class 'pandas.core.frame.DataFrame'>\n",
            "RangeIndex: 64461 entries, 0 to 64460\n",
            "Data columns (total 20 columns):\n",
            " #   Column                  Non-Null Count  Dtype  \n",
            "---  ------                  --------------  -----  \n",
            " 0   Country                 64072 non-null  object \n",
            " 1   Age                     45446 non-null  float64\n",
            " 2   Gender                  50557 non-null  object \n",
            " 3   EdLevel                 57431 non-null  object \n",
            " 4   UndergradMajor          50995 non-null  object \n",
            " 5   Hobbyist                64416 non-null  object \n",
            " 6   Age1stCode              57900 non-null  object \n",
            " 7   YearsCode               57684 non-null  object \n",
            " 8   YearsCodePro            46349 non-null  object \n",
            " 9   LanguageWorkedWith      57378 non-null  object \n",
            " 10  LanguageDesireNextYear  54113 non-null  object \n",
            " 11  NEWLearn                56156 non-null  object \n",
            " 12  NEWStuck                54983 non-null  object \n",
            " 13  Employment              63854 non-null  object \n",
            " 14  DevType                 49370 non-null  object \n",
            " 15  WorkWeekHrs             41151 non-null  float64\n",
            " 16  JobSat                  45194 non-null  object \n",
            " 17  JobFactors              49349 non-null  object \n",
            " 18  ConvertedComp           34756 non-null  float64\n",
            " 19  NEWEdImpt               48465 non-null  object \n",
            "dtypes: float64(3), object(17)\n",
            "memory usage: 9.8+ MB\n"
          ],
          "name": "stdout"
        }
      ]
    },
    {
      "cell_type": "code",
      "metadata": {
        "colab": {
          "base_uri": "https://localhost:8080/"
        },
        "id": "enIUpDNJ9QyD",
        "outputId": "d5ec8732-54e2-4441-97a5-73b302f91111"
      },
      "source": [
        "schema"
      ],
      "execution_count": 17,
      "outputs": [
        {
          "output_type": "execute_result",
          "data": {
            "text/plain": [
              "Column\n",
              "Country                                                  Where do you live?\n",
              "Age                       What is your age (in years)? If you prefer not...\n",
              "Gender                    Which of the following describe you, if any? P...\n",
              "EdLevel                   Which of the following best describes the high...\n",
              "UndergradMajor                        What was your primary field of study?\n",
              "Hobbyist                                            Do you code as a hobby?\n",
              "Age1stCode                At what age did you write your first line of c...\n",
              "YearsCode                 Including any education, how many years have y...\n",
              "YearsCodePro              NOT including education, how many years have y...\n",
              "LanguageWorkedWith        Which programming, scripting, and markup langu...\n",
              "LanguageDesireNextYear    Which programming, scripting, and markup langu...\n",
              "NEWLearn                  How frequently do you learn a new language or ...\n",
              "NEWStuck                  What do you do when you get stuck on a problem...\n",
              "Employment                Which of the following best describes your cur...\n",
              "DevType                   Which of the following describe you? Please se...\n",
              "WorkWeekHrs               On average, how many hours per week do you wor...\n",
              "JobSat                    How satisfied are you with your current job? (...\n",
              "JobFactors                Imagine that you are deciding between two job ...\n",
              "ConvertedComp             Salary converted to annual USD salaries using ...\n",
              "NEWEdImpt                 How important is a formal education, such as a...\n",
              "Name: QuestionText, dtype: object"
            ]
          },
          "metadata": {
            "tags": []
          },
          "execution_count": 17
        }
      ]
    },
    {
      "cell_type": "markdown",
      "metadata": {
        "id": "k_qfMsg896TQ"
      },
      "source": [
        "### Data types"
      ]
    },
    {
      "cell_type": "code",
      "metadata": {
        "id": "plutp47lB3XT"
      },
      "source": [
        "df1 = df.copy()"
      ],
      "execution_count": 18,
      "outputs": []
    },
    {
      "cell_type": "code",
      "metadata": {
        "colab": {
          "base_uri": "https://localhost:8080/"
        },
        "id": "nyVDbA1J_OxE",
        "outputId": "9bbd78e0-63a0-4afd-d3aa-095f080c72fe"
      },
      "source": [
        "df1.Age1stCode.unique()"
      ],
      "execution_count": 19,
      "outputs": [
        {
          "output_type": "execute_result",
          "data": {
            "text/plain": [
              "array(['13', '19', '15', '18', '16', '14', '12', '20', '42', '8', '25',\n",
              "       '22', '30', '17', '21', '10', '46', '9', '7', '11', '6', nan, '31',\n",
              "       '29', '5', 'Younger than 5 years', '28', '38', '23', '27', '41',\n",
              "       '24', '53', '26', '35', '32', '40', '33', '36', '54', '48', '56',\n",
              "       '45', '44', '34', 'Older than 85', '39', '51', '68', '50', '37',\n",
              "       '47', '43', '52', '85', '64', '55', '58', '49', '76', '72', '73',\n",
              "       '83', '63'], dtype=object)"
            ]
          },
          "metadata": {
            "tags": []
          },
          "execution_count": 19
        }
      ]
    },
    {
      "cell_type": "code",
      "metadata": {
        "id": "T2ztJoKa_UAf"
      },
      "source": [
        "df1.loc[df1['Age1stCode'] == 'Younger than 5 years', 'Age1stCode'] = '5' "
      ],
      "execution_count": 20,
      "outputs": []
    },
    {
      "cell_type": "code",
      "metadata": {
        "id": "cJuh_TwnBQvX"
      },
      "source": [
        "df1.loc[df1['Age1stCode'] == 'Older than 85', 'Age1stCode'] = '85'"
      ],
      "execution_count": 21,
      "outputs": []
    },
    {
      "cell_type": "code",
      "metadata": {
        "colab": {
          "base_uri": "https://localhost:8080/"
        },
        "id": "1peRKfZtCpq9",
        "outputId": "04a598c0-2f00-4f01-8439-34e45b602ae9"
      },
      "source": [
        "df1.Age1stCode.unique()"
      ],
      "execution_count": 22,
      "outputs": [
        {
          "output_type": "execute_result",
          "data": {
            "text/plain": [
              "array(['13', '19', '15', '18', '16', '14', '12', '20', '42', '8', '25',\n",
              "       '22', '30', '17', '21', '10', '46', '9', '7', '11', '6', nan, '31',\n",
              "       '29', '5', '28', '38', '23', '27', '41', '24', '53', '26', '35',\n",
              "       '32', '40', '33', '36', '54', '48', '56', '45', '44', '34', '85',\n",
              "       '39', '51', '68', '50', '37', '47', '43', '52', '64', '55', '58',\n",
              "       '49', '76', '72', '73', '83', '63'], dtype=object)"
            ]
          },
          "metadata": {
            "tags": []
          },
          "execution_count": 22
        }
      ]
    },
    {
      "cell_type": "code",
      "metadata": {
        "id": "j0efQFEqCvl3"
      },
      "source": [
        "df1['Age1stCode'] = pd.to_numeric(df1.Age1stCode, errors='coerce', downcast=\"integer\")"
      ],
      "execution_count": 23,
      "outputs": []
    },
    {
      "cell_type": "code",
      "metadata": {
        "colab": {
          "base_uri": "https://localhost:8080/"
        },
        "id": "l1qPoyTOEM-X",
        "outputId": "4fd332e3-cd3f-4fa6-94b8-f7e4a03cf9b9"
      },
      "source": [
        "df.YearsCode.unique()"
      ],
      "execution_count": 24,
      "outputs": [
        {
          "output_type": "execute_result",
          "data": {
            "text/plain": [
              "array(['36', '7', '4', '15', '6', '17', '8', '10', '35', '5', '37', '19',\n",
              "       '9', '22', '30', '23', '20', '2', 'Less than 1 year', '3', '13',\n",
              "       '25', '16', '43', '11', '38', '33', nan, '24', '21', '12', '40',\n",
              "       '27', '50', '46', '14', '18', '28', '32', '44', '26', '42', '31',\n",
              "       '34', '29', '1', '39', '41', '45', 'More than 50 years', '47',\n",
              "       '49', '48'], dtype=object)"
            ]
          },
          "metadata": {
            "tags": []
          },
          "execution_count": 24
        }
      ]
    },
    {
      "cell_type": "code",
      "metadata": {
        "id": "s5yUKfODEdgG"
      },
      "source": [
        "df1.loc[df1['YearsCodePro'] == 'Less than 1 year', 'YearsCodePro'] = '1' \n",
        "df1.loc[df1['YearsCodePro'] == 'More than 50 years', 'YearsCodePro'] = '50'\n",
        "df1['YearsCodePro'] = pd.to_numeric(df1.YearsCodePro, errors='coerce', downcast=\"integer\")"
      ],
      "execution_count": 25,
      "outputs": []
    },
    {
      "cell_type": "code",
      "metadata": {
        "id": "Kl0Ycgk1E_s_"
      },
      "source": [
        "df1.loc[df1['YearsCode'] == 'Less than 1 year', 'YearsCode'] = '1' \n",
        "df1.loc[df1['YearsCode'] == 'More than 50 years', 'YearsCode'] = '50'\n",
        "df1['YearsCode'] = pd.to_numeric(df1.YearsCode, errors='coerce', downcast=\"integer\")"
      ],
      "execution_count": 26,
      "outputs": []
    },
    {
      "cell_type": "code",
      "metadata": {
        "colab": {
          "base_uri": "https://localhost:8080/"
        },
        "id": "o_NunHWGFEM7",
        "outputId": "33d9e097-7dbc-4335-e829-266395a4402b"
      },
      "source": [
        "df1.info()"
      ],
      "execution_count": 27,
      "outputs": [
        {
          "output_type": "stream",
          "text": [
            "<class 'pandas.core.frame.DataFrame'>\n",
            "RangeIndex: 64461 entries, 0 to 64460\n",
            "Data columns (total 20 columns):\n",
            " #   Column                  Non-Null Count  Dtype  \n",
            "---  ------                  --------------  -----  \n",
            " 0   Country                 64072 non-null  object \n",
            " 1   Age                     45446 non-null  float64\n",
            " 2   Gender                  50557 non-null  object \n",
            " 3   EdLevel                 57431 non-null  object \n",
            " 4   UndergradMajor          50995 non-null  object \n",
            " 5   Hobbyist                64416 non-null  object \n",
            " 6   Age1stCode              57900 non-null  float64\n",
            " 7   YearsCode               57684 non-null  float64\n",
            " 8   YearsCodePro            46349 non-null  float64\n",
            " 9   LanguageWorkedWith      57378 non-null  object \n",
            " 10  LanguageDesireNextYear  54113 non-null  object \n",
            " 11  NEWLearn                56156 non-null  object \n",
            " 12  NEWStuck                54983 non-null  object \n",
            " 13  Employment              63854 non-null  object \n",
            " 14  DevType                 49370 non-null  object \n",
            " 15  WorkWeekHrs             41151 non-null  float64\n",
            " 16  JobSat                  45194 non-null  object \n",
            " 17  JobFactors              49349 non-null  object \n",
            " 18  ConvertedComp           34756 non-null  float64\n",
            " 19  NEWEdImpt               48465 non-null  object \n",
            "dtypes: float64(6), object(14)\n",
            "memory usage: 9.8+ MB\n"
          ],
          "name": "stdout"
        }
      ]
    },
    {
      "cell_type": "code",
      "metadata": {
        "colab": {
          "base_uri": "https://localhost:8080/",
          "height": 320
        },
        "id": "ZLOSu1VQFGYi",
        "outputId": "a28648dd-975f-4d32-f63c-586aaf53a481"
      },
      "source": [
        "df1.describe()"
      ],
      "execution_count": 28,
      "outputs": [
        {
          "output_type": "execute_result",
          "data": {
            "text/html": [
              "<div>\n",
              "<style scoped>\n",
              "    .dataframe tbody tr th:only-of-type {\n",
              "        vertical-align: middle;\n",
              "    }\n",
              "\n",
              "    .dataframe tbody tr th {\n",
              "        vertical-align: top;\n",
              "    }\n",
              "\n",
              "    .dataframe thead th {\n",
              "        text-align: right;\n",
              "    }\n",
              "</style>\n",
              "<table border=\"1\" class=\"dataframe\">\n",
              "  <thead>\n",
              "    <tr style=\"text-align: right;\">\n",
              "      <th></th>\n",
              "      <th>Age</th>\n",
              "      <th>Age1stCode</th>\n",
              "      <th>YearsCode</th>\n",
              "      <th>YearsCodePro</th>\n",
              "      <th>WorkWeekHrs</th>\n",
              "      <th>ConvertedComp</th>\n",
              "    </tr>\n",
              "  </thead>\n",
              "  <tbody>\n",
              "    <tr>\n",
              "      <th>count</th>\n",
              "      <td>45446.000000</td>\n",
              "      <td>57900.000000</td>\n",
              "      <td>57684.000000</td>\n",
              "      <td>46349.000000</td>\n",
              "      <td>41151.000000</td>\n",
              "      <td>3.475600e+04</td>\n",
              "    </tr>\n",
              "    <tr>\n",
              "      <th>mean</th>\n",
              "      <td>30.834111</td>\n",
              "      <td>15.417271</td>\n",
              "      <td>12.719697</td>\n",
              "      <td>8.537811</td>\n",
              "      <td>40.782174</td>\n",
              "      <td>1.037561e+05</td>\n",
              "    </tr>\n",
              "    <tr>\n",
              "      <th>std</th>\n",
              "      <td>9.585392</td>\n",
              "      <td>5.275178</td>\n",
              "      <td>9.691183</td>\n",
              "      <td>7.852753</td>\n",
              "      <td>17.816383</td>\n",
              "      <td>2.268853e+05</td>\n",
              "    </tr>\n",
              "    <tr>\n",
              "      <th>min</th>\n",
              "      <td>1.000000</td>\n",
              "      <td>5.000000</td>\n",
              "      <td>1.000000</td>\n",
              "      <td>1.000000</td>\n",
              "      <td>1.000000</td>\n",
              "      <td>0.000000e+00</td>\n",
              "    </tr>\n",
              "    <tr>\n",
              "      <th>25%</th>\n",
              "      <td>24.000000</td>\n",
              "      <td>12.000000</td>\n",
              "      <td>6.000000</td>\n",
              "      <td>3.000000</td>\n",
              "      <td>40.000000</td>\n",
              "      <td>2.464800e+04</td>\n",
              "    </tr>\n",
              "    <tr>\n",
              "      <th>50%</th>\n",
              "      <td>29.000000</td>\n",
              "      <td>15.000000</td>\n",
              "      <td>10.000000</td>\n",
              "      <td>6.000000</td>\n",
              "      <td>40.000000</td>\n",
              "      <td>5.404900e+04</td>\n",
              "    </tr>\n",
              "    <tr>\n",
              "      <th>75%</th>\n",
              "      <td>35.000000</td>\n",
              "      <td>18.000000</td>\n",
              "      <td>17.000000</td>\n",
              "      <td>12.000000</td>\n",
              "      <td>44.000000</td>\n",
              "      <td>9.500000e+04</td>\n",
              "    </tr>\n",
              "    <tr>\n",
              "      <th>max</th>\n",
              "      <td>279.000000</td>\n",
              "      <td>85.000000</td>\n",
              "      <td>50.000000</td>\n",
              "      <td>50.000000</td>\n",
              "      <td>475.000000</td>\n",
              "      <td>2.000000e+06</td>\n",
              "    </tr>\n",
              "  </tbody>\n",
              "</table>\n",
              "</div>"
            ],
            "text/plain": [
              "                Age    Age1stCode  ...   WorkWeekHrs  ConvertedComp\n",
              "count  45446.000000  57900.000000  ...  41151.000000   3.475600e+04\n",
              "mean      30.834111     15.417271  ...     40.782174   1.037561e+05\n",
              "std        9.585392      5.275178  ...     17.816383   2.268853e+05\n",
              "min        1.000000      5.000000  ...      1.000000   0.000000e+00\n",
              "25%       24.000000     12.000000  ...     40.000000   2.464800e+04\n",
              "50%       29.000000     15.000000  ...     40.000000   5.404900e+04\n",
              "75%       35.000000     18.000000  ...     44.000000   9.500000e+04\n",
              "max      279.000000     85.000000  ...    475.000000   2.000000e+06\n",
              "\n",
              "[8 rows x 6 columns]"
            ]
          },
          "metadata": {
            "tags": []
          },
          "execution_count": 28
        }
      ]
    },
    {
      "cell_type": "code",
      "metadata": {
        "colab": {
          "base_uri": "https://localhost:8080/",
          "height": 54
        },
        "id": "KmV5VZsqGOYV",
        "outputId": "7ca40160-5bdc-4a9e-88ea-364eddf1108f"
      },
      "source": [
        "schema.WorkWeekHrs"
      ],
      "execution_count": 29,
      "outputs": [
        {
          "output_type": "execute_result",
          "data": {
            "application/vnd.google.colaboratory.intrinsic+json": {
              "type": "string"
            },
            "text/plain": [
              "'On average, how many hours per week do you work? Please enter a whole number in the box.'"
            ]
          },
          "metadata": {
            "tags": []
          },
          "execution_count": 29
        }
      ]
    },
    {
      "cell_type": "markdown",
      "metadata": {
        "id": "Wvmpk1rTGew5"
      },
      "source": [
        "There is some wrong information in the dataset.\n",
        "For instance, Max Age is 279 and Max WorkWeekHrs is 475. Both are impossible. So we'll just drop columns with Age > 100, Age < 10 and WorkWeekHrs > 140"
      ]
    },
    {
      "cell_type": "code",
      "metadata": {
        "id": "q4pO9juQGUDY"
      },
      "source": [
        "df1.drop(df1[df1.Age < 10].index, inplace=True)\n",
        "df1.drop(df1[df1.Age > 100].index, inplace=True)\n",
        "df1.drop(df1[df1.WorkWeekHrs > 140].index, inplace=True)"
      ],
      "execution_count": 30,
      "outputs": []
    },
    {
      "cell_type": "code",
      "metadata": {
        "colab": {
          "base_uri": "https://localhost:8080/",
          "height": 320
        },
        "id": "q0UE7AeUHkz1",
        "outputId": "0ad07ee0-ae22-43b6-fca3-c510438e7ba4"
      },
      "source": [
        "df1.describe()"
      ],
      "execution_count": 31,
      "outputs": [
        {
          "output_type": "execute_result",
          "data": {
            "text/html": [
              "<div>\n",
              "<style scoped>\n",
              "    .dataframe tbody tr th:only-of-type {\n",
              "        vertical-align: middle;\n",
              "    }\n",
              "\n",
              "    .dataframe tbody tr th {\n",
              "        vertical-align: top;\n",
              "    }\n",
              "\n",
              "    .dataframe thead th {\n",
              "        text-align: right;\n",
              "    }\n",
              "</style>\n",
              "<table border=\"1\" class=\"dataframe\">\n",
              "  <thead>\n",
              "    <tr style=\"text-align: right;\">\n",
              "      <th></th>\n",
              "      <th>Age</th>\n",
              "      <th>Age1stCode</th>\n",
              "      <th>YearsCode</th>\n",
              "      <th>YearsCodePro</th>\n",
              "      <th>WorkWeekHrs</th>\n",
              "      <th>ConvertedComp</th>\n",
              "    </tr>\n",
              "  </thead>\n",
              "  <tbody>\n",
              "    <tr>\n",
              "      <th>count</th>\n",
              "      <td>45319.000000</td>\n",
              "      <td>57745.000000</td>\n",
              "      <td>57530.000000</td>\n",
              "      <td>46198.000000</td>\n",
              "      <td>41002.000000</td>\n",
              "      <td>3.462200e+04</td>\n",
              "    </tr>\n",
              "    <tr>\n",
              "      <th>mean</th>\n",
              "      <td>30.832322</td>\n",
              "      <td>15.415932</td>\n",
              "      <td>12.720007</td>\n",
              "      <td>8.539655</td>\n",
              "      <td>40.024395</td>\n",
              "      <td>1.037241e+05</td>\n",
              "    </tr>\n",
              "    <tr>\n",
              "      <th>std</th>\n",
              "      <td>9.505965</td>\n",
              "      <td>5.267571</td>\n",
              "      <td>9.691825</td>\n",
              "      <td>7.850640</td>\n",
              "      <td>10.630010</td>\n",
              "      <td>2.266702e+05</td>\n",
              "    </tr>\n",
              "    <tr>\n",
              "      <th>min</th>\n",
              "      <td>10.000000</td>\n",
              "      <td>5.000000</td>\n",
              "      <td>1.000000</td>\n",
              "      <td>1.000000</td>\n",
              "      <td>1.000000</td>\n",
              "      <td>0.000000e+00</td>\n",
              "    </tr>\n",
              "    <tr>\n",
              "      <th>25%</th>\n",
              "      <td>24.000000</td>\n",
              "      <td>12.000000</td>\n",
              "      <td>6.000000</td>\n",
              "      <td>3.000000</td>\n",
              "      <td>40.000000</td>\n",
              "      <td>2.464800e+04</td>\n",
              "    </tr>\n",
              "    <tr>\n",
              "      <th>50%</th>\n",
              "      <td>29.000000</td>\n",
              "      <td>15.000000</td>\n",
              "      <td>10.000000</td>\n",
              "      <td>6.000000</td>\n",
              "      <td>40.000000</td>\n",
              "      <td>5.404900e+04</td>\n",
              "    </tr>\n",
              "    <tr>\n",
              "      <th>75%</th>\n",
              "      <td>35.000000</td>\n",
              "      <td>18.000000</td>\n",
              "      <td>17.000000</td>\n",
              "      <td>12.000000</td>\n",
              "      <td>43.000000</td>\n",
              "      <td>9.500000e+04</td>\n",
              "    </tr>\n",
              "    <tr>\n",
              "      <th>max</th>\n",
              "      <td>99.000000</td>\n",
              "      <td>85.000000</td>\n",
              "      <td>50.000000</td>\n",
              "      <td>50.000000</td>\n",
              "      <td>140.000000</td>\n",
              "      <td>2.000000e+06</td>\n",
              "    </tr>\n",
              "  </tbody>\n",
              "</table>\n",
              "</div>"
            ],
            "text/plain": [
              "                Age    Age1stCode  ...   WorkWeekHrs  ConvertedComp\n",
              "count  45319.000000  57745.000000  ...  41002.000000   3.462200e+04\n",
              "mean      30.832322     15.415932  ...     40.024395   1.037241e+05\n",
              "std        9.505965      5.267571  ...     10.630010   2.266702e+05\n",
              "min       10.000000      5.000000  ...      1.000000   0.000000e+00\n",
              "25%       24.000000     12.000000  ...     40.000000   2.464800e+04\n",
              "50%       29.000000     15.000000  ...     40.000000   5.404900e+04\n",
              "75%       35.000000     18.000000  ...     43.000000   9.500000e+04\n",
              "max       99.000000     85.000000  ...    140.000000   2.000000e+06\n",
              "\n",
              "[8 rows x 6 columns]"
            ]
          },
          "metadata": {
            "tags": []
          },
          "execution_count": 31
        }
      ]
    },
    {
      "cell_type": "code",
      "metadata": {
        "colab": {
          "base_uri": "https://localhost:8080/"
        },
        "id": "jcSlPCbRHnyF",
        "outputId": "92e0b047-a7e4-427a-ad8c-9ddb51786c09"
      },
      "source": [
        "df1.info()"
      ],
      "execution_count": 32,
      "outputs": [
        {
          "output_type": "stream",
          "text": [
            "<class 'pandas.core.frame.DataFrame'>\n",
            "Int64Index: 64306 entries, 0 to 64460\n",
            "Data columns (total 20 columns):\n",
            " #   Column                  Non-Null Count  Dtype  \n",
            "---  ------                  --------------  -----  \n",
            " 0   Country                 63917 non-null  object \n",
            " 1   Age                     45319 non-null  float64\n",
            " 2   Gender                  50426 non-null  object \n",
            " 3   EdLevel                 57280 non-null  object \n",
            " 4   UndergradMajor          50871 non-null  object \n",
            " 5   Hobbyist                64261 non-null  object \n",
            " 6   Age1stCode              57745 non-null  float64\n",
            " 7   YearsCode               57530 non-null  float64\n",
            " 8   YearsCodePro            46198 non-null  float64\n",
            " 9   LanguageWorkedWith      57236 non-null  object \n",
            " 10  LanguageDesireNextYear  53975 non-null  object \n",
            " 11  NEWLearn                56020 non-null  object \n",
            " 12  NEWStuck                54840 non-null  object \n",
            " 13  Employment              63700 non-null  object \n",
            " 14  DevType                 49225 non-null  object \n",
            " 15  WorkWeekHrs             41002 non-null  float64\n",
            " 16  JobSat                  45044 non-null  object \n",
            " 17  JobFactors              49207 non-null  object \n",
            " 18  ConvertedComp           34622 non-null  float64\n",
            " 19  NEWEdImpt               48323 non-null  object \n",
            "dtypes: float64(6), object(14)\n",
            "memory usage: 10.3+ MB\n"
          ],
          "name": "stdout"
        }
      ]
    },
    {
      "cell_type": "markdown",
      "metadata": {
        "id": "UWf9qPazKthx"
      },
      "source": [
        "Let's look at the gender now"
      ]
    },
    {
      "cell_type": "code",
      "metadata": {
        "colab": {
          "base_uri": "https://localhost:8080/"
        },
        "id": "TrI14lB-Hzzk",
        "outputId": "800b8a01-b1fc-4a24-dece-a36004d98ff9"
      },
      "source": [
        "df1.Gender.unique()"
      ],
      "execution_count": 33,
      "outputs": [
        {
          "output_type": "execute_result",
          "data": {
            "text/plain": [
              "array(['Man', nan, 'Woman',\n",
              "       'Man;Non-binary, genderqueer, or gender non-conforming',\n",
              "       'Non-binary, genderqueer, or gender non-conforming',\n",
              "       'Woman;Non-binary, genderqueer, or gender non-conforming',\n",
              "       'Woman;Man;Non-binary, genderqueer, or gender non-conforming',\n",
              "       'Woman;Man'], dtype=object)"
            ]
          },
          "metadata": {
            "tags": []
          },
          "execution_count": 33
        }
      ]
    },
    {
      "cell_type": "code",
      "metadata": {
        "id": "wMDqDw5MKpeo"
      },
      "source": [
        "df1.where(~(df1.Gender.str.contains(';', na=False)), np.nan, inplace=True)"
      ],
      "execution_count": 34,
      "outputs": []
    },
    {
      "cell_type": "code",
      "metadata": {
        "colab": {
          "base_uri": "https://localhost:8080/"
        },
        "id": "nA4h7s6-LMgk",
        "outputId": "596ba11d-71da-4a98-ab39-637eb4fdff9b"
      },
      "source": [
        "df1.Gender.unique()"
      ],
      "execution_count": 35,
      "outputs": [
        {
          "output_type": "execute_result",
          "data": {
            "text/plain": [
              "array(['Man', nan, 'Woman',\n",
              "       'Non-binary, genderqueer, or gender non-conforming'], dtype=object)"
            ]
          },
          "metadata": {
            "tags": []
          },
          "execution_count": 35
        }
      ]
    },
    {
      "cell_type": "markdown",
      "metadata": {
        "id": "03ZsnKEK_IVS"
      },
      "source": [
        "### Missing values"
      ]
    },
    {
      "cell_type": "code",
      "metadata": {
        "colab": {
          "base_uri": "https://localhost:8080/"
        },
        "id": "J0PjQ0VS9VjF",
        "outputId": "a4f97a96-9267-4990-f67b-b7592541d24a"
      },
      "source": [
        "missing_perc = df1.isna().sum() * 100 / df1.shape[0]\n",
        "missing_perc"
      ],
      "execution_count": 36,
      "outputs": [
        {
          "output_type": "execute_result",
          "data": {
            "text/plain": [
              "Country                    1.088545\n",
              "Age                       29.916338\n",
              "Gender                    22.067925\n",
              "EdLevel                   11.390850\n",
              "UndergradMajor            21.284173\n",
              "Hobbyist                   0.553603\n",
              "Age1stCode                10.677075\n",
              "YearsCode                 11.011414\n",
              "YearsCodePro              28.491898\n",
              "LanguageWorkedWith        11.467048\n",
              "LanguageDesireNextYear    16.511679\n",
              "NEWLearn                  13.336236\n",
              "NEWStuck                  15.191428\n",
              "Employment                 1.418219\n",
              "DevType                   23.828259\n",
              "WorkWeekHrs               36.533138\n",
              "JobSat                    30.278668\n",
              "JobFactors                23.893571\n",
              "ConvertedComp             46.423351\n",
              "NEWEdImpt                 25.213821\n",
              "dtype: float64"
            ]
          },
          "metadata": {
            "tags": []
          },
          "execution_count": 36
        }
      ]
    },
    {
      "cell_type": "markdown",
      "metadata": {
        "id": "2iecl6BIMvZ1"
      },
      "source": [
        "# Exploratory Data Analysis\n",
        "\n",
        "Before we ask questions about the survey responses, it would help to understand the respondents' demographics, i.e., country, age, gender, education level, employment level, etc. It's essential to explore these variables to understand how representative the survey is of the worldwide programming community. A survey of this scale generally tends to have some selection bias."
      ]
    },
    {
      "cell_type": "markdown",
      "metadata": {
        "id": "AX9C9iTkNRbM"
      },
      "source": [
        "### Country"
      ]
    },
    {
      "cell_type": "code",
      "metadata": {
        "id": "Uno6E8EzLPcj"
      },
      "source": [
        "df = df1.copy()"
      ],
      "execution_count": 37,
      "outputs": []
    },
    {
      "cell_type": "code",
      "metadata": {
        "colab": {
          "base_uri": "https://localhost:8080/"
        },
        "id": "dI9CHldgNtDA",
        "outputId": "5c56201e-7ffd-4c87-b4ed-0c6cdd28874b"
      },
      "source": [
        "df.Country.nunique()"
      ],
      "execution_count": 38,
      "outputs": [
        {
          "output_type": "execute_result",
          "data": {
            "text/plain": [
              "183"
            ]
          },
          "metadata": {
            "tags": []
          },
          "execution_count": 38
        }
      ]
    },
    {
      "cell_type": "code",
      "metadata": {
        "colab": {
          "base_uri": "https://localhost:8080/"
        },
        "id": "vm4Hvl2ENwnJ",
        "outputId": "edd19424-18c6-432a-9b94-f35bf62d9ebe"
      },
      "source": [
        "top_countries = df.Country.value_counts().head(10)\n",
        "top_countries"
      ],
      "execution_count": 39,
      "outputs": [
        {
          "output_type": "execute_result",
          "data": {
            "text/plain": [
              "United States     12371\n",
              "India              8364\n",
              "United Kingdom     3881\n",
              "Germany            3864\n",
              "Canada             2175\n",
              "France             1884\n",
              "Brazil             1804\n",
              "Netherlands        1332\n",
              "Poland             1259\n",
              "Australia          1199\n",
              "Name: Country, dtype: int64"
            ]
          },
          "metadata": {
            "tags": []
          },
          "execution_count": 39
        }
      ]
    },
    {
      "cell_type": "code",
      "metadata": {
        "colab": {
          "base_uri": "https://localhost:8080/",
          "height": 486
        },
        "id": "kVV2cPXPN5dw",
        "outputId": "248c3ff1-dae5-49e5-cff2-ad7b01a7b932"
      },
      "source": [
        "plt.figure(figsize=(12, 6))\n",
        "plt.xticks(rotation=75)\n",
        "plt.title(schema.Country)\n",
        "sns.barplot(top_countries.index, top_countries)\n",
        "plt.show()"
      ],
      "execution_count": 40,
      "outputs": [
        {
          "output_type": "stream",
          "text": [
            "/usr/local/lib/python3.7/dist-packages/seaborn/_decorators.py:43: FutureWarning: Pass the following variables as keyword args: x, y. From version 0.12, the only valid positional argument will be `data`, and passing other arguments without an explicit keyword will result in an error or misinterpretation.\n",
            "  FutureWarning\n"
          ],
          "name": "stderr"
        },
        {
          "output_type": "display_data",
          "data": {
            "image/png": "[encoded data removed]",
            "text/plain": [
              "<Figure size 864x432 with 1 Axes>"
            ]
          },
          "metadata": {
            "tags": [],
            "needs_background": "light"
          }
        }
      ]
    },
    {
      "cell_type": "markdown",
      "metadata": {
        "id": "YYPMYdCdPSPV"
      },
      "source": [
        "It appears that a disproportionately high number of respondents are from the US and India, probably because the survey is in English, and these countries have the highest English-speaking populations. We can already see that the survey may not be representative of the global programming community - especially from non-English speaking countries. Programmers from non-English speaking countries are almost certainly underrepresented."
      ]
    },
    {
      "cell_type": "markdown",
      "metadata": {
        "id": "tz3L6ccZPVV6"
      },
      "source": [
        "### Age"
      ]
    },
    {
      "cell_type": "code",
      "metadata": {
        "colab": {
          "base_uri": "https://localhost:8080/",
          "height": 319
        },
        "id": "STsPeLSjOeK2",
        "outputId": "43d591ab-1246-4825-af9c-14829f45c7d6"
      },
      "source": [
        "plt.figure(figsize=(12, 6))\n",
        "plt.title(schema.Age)\n",
        "sns.histplot(data=df, x='Age', bins=np.arange(10, 100, 5), kde=True, color='red')\n",
        "plt.show()"
      ],
      "execution_count": 41,
      "outputs": [
        {
          "output_type": "display_data",
          "data": {
            "image/png": "[encoded data removed]",
            "text/plain": [
              "<Figure size 864x432 with 1 Axes>"
            ]
          },
          "metadata": {
            "tags": [],
            "needs_background": "light"
          }
        }
      ]
    },
    {
      "cell_type": "markdown",
      "metadata": {
        "id": "xwN2hlRBS6Te"
      },
      "source": [
        "It appears that a large percentage of respondents are 20-45 years old. It's somewhat representative of the programming community in general. Many young people have taken up computer science as their field of study or profession in the last 20 years."
      ]
    },
    {
      "cell_type": "markdown",
      "metadata": {
        "id": "cvhyxV5xS74N"
      },
      "source": [
        "### Gender"
      ]
    },
    {
      "cell_type": "code",
      "metadata": {
        "colab": {
          "base_uri": "https://localhost:8080/"
        },
        "id": "oAM7AX9GPcB9",
        "outputId": "12be5ecc-da5a-4c4a-be1e-8f60e2b44aff"
      },
      "source": [
        "gender_counts = df.Gender.value_counts(dropna=True)\n",
        "gender_counts"
      ],
      "execution_count": 42,
      "outputs": [
        {
          "output_type": "execute_result",
          "data": {
            "text/plain": [
              "Man                                                  45895\n",
              "Woman                                                 3835\n",
              "Non-binary, genderqueer, or gender non-conforming      385\n",
              "Name: Gender, dtype: int64"
            ]
          },
          "metadata": {
            "tags": []
          },
          "execution_count": 42
        }
      ]
    },
    {
      "cell_type": "code",
      "metadata": {
        "colab": {
          "base_uri": "https://localhost:8080/",
          "height": 399
        },
        "id": "NHztEpKJTZm-",
        "outputId": "7bc11c16-24ce-4629-80f7-cc1e1b77d564"
      },
      "source": [
        "plt.figure(figsize=(8, 8))\n",
        "plt.title(\"Distribution by Gender\")\n",
        "plt.pie(gender_counts, labels=gender_counts.index, autopct='%1.1f%%', startangle=180)\n",
        "plt.show()"
      ],
      "execution_count": 43,
      "outputs": [
        {
          "output_type": "display_data",
          "data": {
            "image/png": "[encoded data removed]",
            "text/plain": [
              "<Figure size 576x576 with 1 Axes>"
            ]
          },
          "metadata": {
            "tags": []
          }
        }
      ]
    },
    {
      "cell_type": "markdown",
      "metadata": {
        "id": "ALhUkcGyUTfD"
      },
      "source": [
        "Only about 8% of survey respondents who have answered the question identify as women or non-binary. This number is lower than the overall percentage of women & non-binary genders in the programming community - which is estimated to be around 12%."
      ]
    },
    {
      "cell_type": "markdown",
      "metadata": {
        "id": "915XlpUgUdry"
      },
      "source": [
        "### Education Level\n",
        "Formal education in computer science is often considered an essential requirement for becoming a programmer. However, there are many free resources & tutorials available online to learn programming. Let's compare the education levels of respondents to gain some insight into this. We'll use a horizontal bar plot here."
      ]
    },
    {
      "cell_type": "code",
      "metadata": {
        "colab": {
          "base_uri": "https://localhost:8080/",
          "height": 321
        },
        "id": "Dd512hH9UCJi",
        "outputId": "ab89541c-28f2-4450-cd6f-4f2d0900c318"
      },
      "source": [
        "plt.figure(figsize=(12, 10))\n",
        "sns.countplot(y=df.EdLevel)\n",
        "plt.title(\"Highest education level\")\n",
        "plt.ylabel(None)\n",
        "plt.show()"
      ],
      "execution_count": 44,
      "outputs": [
        {
          "output_type": "display_data",
          "data": {
            "image/png": "[encoded data removed]",
            "text/plain": [
              "<Figure size 864x720 with 1 Axes>"
            ]
          },
          "metadata": {
            "tags": [],
            "needs_background": "light"
          }
        }
      ]
    },
    {
      "cell_type": "markdown",
      "metadata": {
        "id": "Po9JZwTDo2Ub"
      },
      "source": [
        "It appears that well over half of the respondents hold a bachelor's or master's degree, so most programmers seem to have some college education. However, it's not clear from this graph alone if they hold a degree in computer science."
      ]
    },
    {
      "cell_type": "code",
      "metadata": {
        "id": "ALvg2WH7U1Zo",
        "colab": {
          "base_uri": "https://localhost:8080/",
          "height": 443
        },
        "outputId": "0e4b1f50-13e8-45b7-83e1-4c25d1e7487d"
      },
      "source": [
        "(df.UndergradMajor.value_counts() / df.UndergradMajor.count() * 100).to_frame()"
      ],
      "execution_count": 45,
      "outputs": [
        {
          "output_type": "execute_result",
          "data": {
            "text/html": [
              "<div>\n",
              "<style scoped>\n",
              "    .dataframe tbody tr th:only-of-type {\n",
              "        vertical-align: middle;\n",
              "    }\n",
              "\n",
              "    .dataframe tbody tr th {\n",
              "        vertical-align: top;\n",
              "    }\n",
              "\n",
              "    .dataframe thead th {\n",
              "        text-align: right;\n",
              "    }\n",
              "</style>\n",
              "<table border=\"1\" class=\"dataframe\">\n",
              "  <thead>\n",
              "    <tr style=\"text-align: right;\">\n",
              "      <th></th>\n",
              "      <th>UndergradMajor</th>\n",
              "    </tr>\n",
              "  </thead>\n",
              "  <tbody>\n",
              "    <tr>\n",
              "      <th>Computer science, computer engineering, or software engineering</th>\n",
              "      <td>61.939193</td>\n",
              "    </tr>\n",
              "    <tr>\n",
              "      <th>Another engineering discipline (such as civil, electrical, mechanical, etc.)</th>\n",
              "      <td>9.354195</td>\n",
              "    </tr>\n",
              "    <tr>\n",
              "      <th>Information systems, information technology, or system administration</th>\n",
              "      <td>7.983168</td>\n",
              "    </tr>\n",
              "    <tr>\n",
              "      <th>A natural science (such as biology, chemistry, physics, etc.)</th>\n",
              "      <td>4.316561</td>\n",
              "    </tr>\n",
              "    <tr>\n",
              "      <th>Mathematics or statistics</th>\n",
              "      <td>3.627097</td>\n",
              "    </tr>\n",
              "    <tr>\n",
              "      <th>Web development or web design</th>\n",
              "      <td>3.502637</td>\n",
              "    </tr>\n",
              "    <tr>\n",
              "      <th>A business discipline (such as accounting, finance, marketing, etc.)</th>\n",
              "      <td>2.700567</td>\n",
              "    </tr>\n",
              "    <tr>\n",
              "      <th>A humanities discipline (such as literature, history, philosophy, etc.)</th>\n",
              "      <td>1.969616</td>\n",
              "    </tr>\n",
              "    <tr>\n",
              "      <th>A social science (such as anthropology, psychology, political science, etc.)</th>\n",
              "      <td>1.821450</td>\n",
              "    </tr>\n",
              "    <tr>\n",
              "      <th>Fine arts or performing arts (such as graphic design, music, studio art, etc.)</th>\n",
              "      <td>1.412513</td>\n",
              "    </tr>\n",
              "    <tr>\n",
              "      <th>I never declared a major</th>\n",
              "      <td>0.885043</td>\n",
              "    </tr>\n",
              "    <tr>\n",
              "      <th>A health science (such as nursing, pharmacy, radiology, etc.)</th>\n",
              "      <td>0.487959</td>\n",
              "    </tr>\n",
              "  </tbody>\n",
              "</table>\n",
              "</div>"
            ],
            "text/plain": [
              "                                                    UndergradMajor\n",
              "Computer science, computer engineering, or soft...       61.939193\n",
              "Another engineering discipline (such as civil, ...        9.354195\n",
              "Information systems, information technology, or...        7.983168\n",
              "A natural science (such as biology, chemistry, ...        4.316561\n",
              "Mathematics or statistics                                 3.627097\n",
              "Web development or web design                             3.502637\n",
              "A business discipline (such as accounting, fina...        2.700567\n",
              "A humanities discipline (such as literature, hi...        1.969616\n",
              "A social science (such as anthropology, psychol...        1.821450\n",
              "Fine arts or performing arts (such as graphic d...        1.412513\n",
              "I never declared a major                                  0.885043\n",
              "A health science (such as nursing, pharmacy, ra...        0.487959"
            ]
          },
          "metadata": {
            "tags": []
          },
          "execution_count": 45
        }
      ]
    },
    {
      "cell_type": "code",
      "metadata": {
        "colab": {
          "base_uri": "https://localhost:8080/",
          "height": 330
        },
        "id": "KPfWKzVylNrC",
        "outputId": "4cb1e11b-a329-4f92-8933-be6cc5e6e9b8"
      },
      "source": [
        "cs_major = df.UndergradMajor.value_counts() / df.UndergradMajor.count() * 100\n",
        "plt.figure(figsize=(12, 10))\n",
        "sns.barplot(x=cs_major, y=cs_major.index)\n",
        "plt.ylabel(None)\n",
        "plt.xlabel('Percentage')\n",
        "plt.show()"
      ],
      "execution_count": 46,
      "outputs": [
        {
          "output_type": "display_data",
          "data": {
            "image/png": "[encoded data removed]",
            "text/plain": [
              "<Figure size 864x720 with 1 Axes>"
            ]
          },
          "metadata": {
            "tags": [],
            "needs_background": "light"
          }
        }
      ]
    },
    {
      "cell_type": "markdown",
      "metadata": {
        "id": "XvF-b_u-kGTG"
      },
      "source": [
        "It turns out that 40% of programmers holding a college degree have a field of study other than computer science - which is very encouraging. It seems to suggest that while a college education is helpful in general, you do not need to pursue a major in computer science to become a successful programmer."
      ]
    },
    {
      "cell_type": "code",
      "metadata": {
        "colab": {
          "base_uri": "https://localhost:8080/",
          "height": 54
        },
        "id": "bZttoUWspOUA",
        "outputId": "6e8dc8e5-50e4-4c31-e1ef-654a4736ab08"
      },
      "source": [
        "schema.NEWEdImpt"
      ],
      "execution_count": 47,
      "outputs": [
        {
          "output_type": "execute_result",
          "data": {
            "application/vnd.google.colaboratory.intrinsic+json": {
              "type": "string"
            },
            "text/plain": [
              "'How important is a formal education, such as a university degree in computer science, to your career?'"
            ]
          },
          "metadata": {
            "tags": []
          },
          "execution_count": 47
        }
      ]
    },
    {
      "cell_type": "code",
      "metadata": {
        "colab": {
          "base_uri": "https://localhost:8080/",
          "height": 206
        },
        "id": "RF9pwvpqpcho",
        "outputId": "cc453fc4-ef62-40d0-81a2-e7c55b142716"
      },
      "source": [
        "(df.NEWEdImpt.value_counts() / df.NEWEdImpt.count() * 100).to_frame()"
      ],
      "execution_count": 48,
      "outputs": [
        {
          "output_type": "execute_result",
          "data": {
            "text/html": [
              "<div>\n",
              "<style scoped>\n",
              "    .dataframe tbody tr th:only-of-type {\n",
              "        vertical-align: middle;\n",
              "    }\n",
              "\n",
              "    .dataframe tbody tr th {\n",
              "        vertical-align: top;\n",
              "    }\n",
              "\n",
              "    .dataframe thead th {\n",
              "        text-align: right;\n",
              "    }\n",
              "</style>\n",
              "<table border=\"1\" class=\"dataframe\">\n",
              "  <thead>\n",
              "    <tr style=\"text-align: right;\">\n",
              "      <th></th>\n",
              "      <th>NEWEdImpt</th>\n",
              "    </tr>\n",
              "  </thead>\n",
              "  <tbody>\n",
              "    <tr>\n",
              "      <th>Fairly important</th>\n",
              "      <td>26.174832</td>\n",
              "    </tr>\n",
              "    <tr>\n",
              "      <th>Very important</th>\n",
              "      <td>24.500957</td>\n",
              "    </tr>\n",
              "    <tr>\n",
              "      <th>Somewhat important</th>\n",
              "      <td>23.492473</td>\n",
              "    </tr>\n",
              "    <tr>\n",
              "      <th>Not at all important/not necessary</th>\n",
              "      <td>16.025534</td>\n",
              "    </tr>\n",
              "    <tr>\n",
              "      <th>Critically important</th>\n",
              "      <td>9.806205</td>\n",
              "    </tr>\n",
              "  </tbody>\n",
              "</table>\n",
              "</div>"
            ],
            "text/plain": [
              "                                    NEWEdImpt\n",
              "Fairly important                    26.174832\n",
              "Very important                      24.500957\n",
              "Somewhat important                  23.492473\n",
              "Not at all important/not necessary  16.025534\n",
              "Critically important                 9.806205"
            ]
          },
          "metadata": {
            "tags": []
          },
          "execution_count": 48
        }
      ]
    },
    {
      "cell_type": "markdown",
      "metadata": {
        "id": "gcAi4MzCp-k-"
      },
      "source": [
        "### Employment"
      ]
    },
    {
      "cell_type": "code",
      "metadata": {
        "colab": {
          "base_uri": "https://localhost:8080/",
          "height": 36
        },
        "id": "2SaahrMNpje_",
        "outputId": "28576649-8e7d-4ff0-c705-e3151568cf41"
      },
      "source": [
        "schema.Employment"
      ],
      "execution_count": 49,
      "outputs": [
        {
          "output_type": "execute_result",
          "data": {
            "application/vnd.google.colaboratory.intrinsic+json": {
              "type": "string"
            },
            "text/plain": [
              "'Which of the following best describes your current employment status?'"
            ]
          },
          "metadata": {
            "tags": []
          },
          "execution_count": 49
        }
      ]
    },
    {
      "cell_type": "code",
      "metadata": {
        "colab": {
          "base_uri": "https://localhost:8080/",
          "height": 270
        },
        "id": "dBl4eOCRqB4m",
        "outputId": "91dc4ea4-a02c-48d1-8052-f91dbb94120f"
      },
      "source": [
        "(df.Employment.value_counts(normalize=True, ascending=True) * 100).plot(kind='barh', color='g')\n",
        "plt.title(\"Employment Status\")\n",
        "plt.xlabel('Percentage')\n",
        "plt.show()"
      ],
      "execution_count": 50,
      "outputs": [
        {
          "output_type": "display_data",
          "data": {
            "image/png": "[encoded data removed]",
            "text/plain": [
              "<Figure size 432x288 with 1 Axes>"
            ]
          },
          "metadata": {
            "tags": [],
            "needs_background": "light"
          }
        }
      ]
    },
    {
      "cell_type": "code",
      "metadata": {
        "colab": {
          "base_uri": "https://localhost:8080/",
          "height": 36
        },
        "id": "dU_dU2aIqbOh",
        "outputId": "27efac5d-497a-4e6e-8aee-2ec0b7fb106a"
      },
      "source": [
        "schema.DevType"
      ],
      "execution_count": 51,
      "outputs": [
        {
          "output_type": "execute_result",
          "data": {
            "application/vnd.google.colaboratory.intrinsic+json": {
              "type": "string"
            },
            "text/plain": [
              "'Which of the following describe you? Please select all that apply.'"
            ]
          },
          "metadata": {
            "tags": []
          },
          "execution_count": 51
        }
      ]
    },
    {
      "cell_type": "code",
      "metadata": {
        "colab": {
          "base_uri": "https://localhost:8080/"
        },
        "id": "14vNli_ArBzd",
        "outputId": "d8b6203d-6690-4558-c4d8-cde3962bd98d"
      },
      "source": [
        "df.DevType.value_counts()"
      ],
      "execution_count": 52,
      "outputs": [
        {
          "output_type": "execute_result",
          "data": {
            "text/plain": [
              "Developer, full-stack                                                                                                                                                                             4396\n",
              "Developer, back-end                                                                                                                                                                               3056\n",
              "Developer, back-end;Developer, front-end;Developer, full-stack                                                                                                                                    2214\n",
              "Developer, back-end;Developer, full-stack                                                                                                                                                         1465\n",
              "Developer, front-end                                                                                                                                                                              1390\n",
              "                                                                                                                                                                                                  ... \n",
              "Developer, front-end;Developer, mobile;Product manager;Senior executive/VP                                                                                                                           1\n",
              "Designer;Developer, back-end;Developer, desktop or enterprise applications;Developer, front-end;Engineer, data                                                                                       1\n",
              "Data or business analyst;Developer, full-stack;Engineer, data;Engineering manager                                                                                                                    1\n",
              "Academic researcher;Data scientist or machine learning specialist;Developer, back-end;Developer, front-end;Developer, full-stack;Educator;Engineer, site reliability;Product manager;Scientist       1\n",
              "Designer;Developer, back-end;Developer, desktop or enterprise applications;Developer, embedded applications or devices;DevOps specialist;Marketing or sales professional                             1\n",
              "Name: DevType, Length: 8213, dtype: int64"
            ]
          },
          "metadata": {
            "tags": []
          },
          "execution_count": 52
        }
      ]
    },
    {
      "cell_type": "code",
      "metadata": {
        "id": "uv3GB6gFrE0-"
      },
      "source": [
        "def split_multicolumns(col_series):\n",
        "  result_df = col_series.to_frame()\n",
        "  options = []\n",
        "  for idx, value in col_series[col_series.notnull()].iteritems():\n",
        "    for option in value.split(';'):\n",
        "      if not option in result_df.columns:\n",
        "        options.append(option)\n",
        "        result_df[option] = False\n",
        "      result_df.at[idx, option] = True\n",
        "  return result_df[options]"
      ],
      "execution_count": 53,
      "outputs": []
    },
    {
      "cell_type": "code",
      "metadata": {
        "colab": {
          "base_uri": "https://localhost:8080/",
          "height": 295
        },
        "id": "AUPQIgbxsGaj",
        "outputId": "005e6fb7-d762-41f4-c7c7-8eeb191e5166"
      },
      "source": [
        "dev_type_df = split_multicolumns(df.DevType)\n",
        "dev_type_df.head()"
      ],
      "execution_count": 54,
      "outputs": [
        {
          "output_type": "execute_result",
          "data": {
            "text/html": [
              "<div>\n",
              "<style scoped>\n",
              "    .dataframe tbody tr th:only-of-type {\n",
              "        vertical-align: middle;\n",
              "    }\n",
              "\n",
              "    .dataframe tbody tr th {\n",
              "        vertical-align: top;\n",
              "    }\n",
              "\n",
              "    .dataframe thead th {\n",
              "        text-align: right;\n",
              "    }\n",
              "</style>\n",
              "<table border=\"1\" class=\"dataframe\">\n",
              "  <thead>\n",
              "    <tr style=\"text-align: right;\">\n",
              "      <th></th>\n",
              "      <th>Developer, desktop or enterprise applications</th>\n",
              "      <th>Developer, full-stack</th>\n",
              "      <th>Developer, mobile</th>\n",
              "      <th>Designer</th>\n",
              "      <th>Developer, front-end</th>\n",
              "      <th>Developer, back-end</th>\n",
              "      <th>Developer, QA or test</th>\n",
              "      <th>DevOps specialist</th>\n",
              "      <th>Developer, game or graphics</th>\n",
              "      <th>Database administrator</th>\n",
              "      <th>Developer, embedded applications or devices</th>\n",
              "      <th>Engineer, data</th>\n",
              "      <th>Educator</th>\n",
              "      <th>System administrator</th>\n",
              "      <th>Engineering manager</th>\n",
              "      <th>Product manager</th>\n",
              "      <th>Data or business analyst</th>\n",
              "      <th>Academic researcher</th>\n",
              "      <th>Data scientist or machine learning specialist</th>\n",
              "      <th>Scientist</th>\n",
              "      <th>Senior executive/VP</th>\n",
              "      <th>Engineer, site reliability</th>\n",
              "      <th>Marketing or sales professional</th>\n",
              "    </tr>\n",
              "  </thead>\n",
              "  <tbody>\n",
              "    <tr>\n",
              "      <th>0</th>\n",
              "      <td>True</td>\n",
              "      <td>True</td>\n",
              "      <td>False</td>\n",
              "      <td>False</td>\n",
              "      <td>False</td>\n",
              "      <td>False</td>\n",
              "      <td>False</td>\n",
              "      <td>False</td>\n",
              "      <td>False</td>\n",
              "      <td>False</td>\n",
              "      <td>False</td>\n",
              "      <td>False</td>\n",
              "      <td>False</td>\n",
              "      <td>False</td>\n",
              "      <td>False</td>\n",
              "      <td>False</td>\n",
              "      <td>False</td>\n",
              "      <td>False</td>\n",
              "      <td>False</td>\n",
              "      <td>False</td>\n",
              "      <td>False</td>\n",
              "      <td>False</td>\n",
              "      <td>False</td>\n",
              "    </tr>\n",
              "    <tr>\n",
              "      <th>1</th>\n",
              "      <td>False</td>\n",
              "      <td>True</td>\n",
              "      <td>True</td>\n",
              "      <td>False</td>\n",
              "      <td>False</td>\n",
              "      <td>False</td>\n",
              "      <td>False</td>\n",
              "      <td>False</td>\n",
              "      <td>False</td>\n",
              "      <td>False</td>\n",
              "      <td>False</td>\n",
              "      <td>False</td>\n",
              "      <td>False</td>\n",
              "      <td>False</td>\n",
              "      <td>False</td>\n",
              "      <td>False</td>\n",
              "      <td>False</td>\n",
              "      <td>False</td>\n",
              "      <td>False</td>\n",
              "      <td>False</td>\n",
              "      <td>False</td>\n",
              "      <td>False</td>\n",
              "      <td>False</td>\n",
              "    </tr>\n",
              "    <tr>\n",
              "      <th>2</th>\n",
              "      <td>False</td>\n",
              "      <td>False</td>\n",
              "      <td>False</td>\n",
              "      <td>False</td>\n",
              "      <td>False</td>\n",
              "      <td>False</td>\n",
              "      <td>False</td>\n",
              "      <td>False</td>\n",
              "      <td>False</td>\n",
              "      <td>False</td>\n",
              "      <td>False</td>\n",
              "      <td>False</td>\n",
              "      <td>False</td>\n",
              "      <td>False</td>\n",
              "      <td>False</td>\n",
              "      <td>False</td>\n",
              "      <td>False</td>\n",
              "      <td>False</td>\n",
              "      <td>False</td>\n",
              "      <td>False</td>\n",
              "      <td>False</td>\n",
              "      <td>False</td>\n",
              "      <td>False</td>\n",
              "    </tr>\n",
              "    <tr>\n",
              "      <th>3</th>\n",
              "      <td>False</td>\n",
              "      <td>False</td>\n",
              "      <td>False</td>\n",
              "      <td>False</td>\n",
              "      <td>False</td>\n",
              "      <td>False</td>\n",
              "      <td>False</td>\n",
              "      <td>False</td>\n",
              "      <td>False</td>\n",
              "      <td>False</td>\n",
              "      <td>False</td>\n",
              "      <td>False</td>\n",
              "      <td>False</td>\n",
              "      <td>False</td>\n",
              "      <td>False</td>\n",
              "      <td>False</td>\n",
              "      <td>False</td>\n",
              "      <td>False</td>\n",
              "      <td>False</td>\n",
              "      <td>False</td>\n",
              "      <td>False</td>\n",
              "      <td>False</td>\n",
              "      <td>False</td>\n",
              "    </tr>\n",
              "    <tr>\n",
              "      <th>4</th>\n",
              "      <td>False</td>\n",
              "      <td>False</td>\n",
              "      <td>False</td>\n",
              "      <td>False</td>\n",
              "      <td>False</td>\n",
              "      <td>False</td>\n",
              "      <td>False</td>\n",
              "      <td>False</td>\n",
              "      <td>False</td>\n",
              "      <td>False</td>\n",
              "      <td>False</td>\n",
              "      <td>False</td>\n",
              "      <td>False</td>\n",
              "      <td>False</td>\n",
              "      <td>False</td>\n",
              "      <td>False</td>\n",
              "      <td>False</td>\n",
              "      <td>False</td>\n",
              "      <td>False</td>\n",
              "      <td>False</td>\n",
              "      <td>False</td>\n",
              "      <td>False</td>\n",
              "      <td>False</td>\n",
              "    </tr>\n",
              "  </tbody>\n",
              "</table>\n",
              "</div>"
            ],
            "text/plain": [
              "   Developer, desktop or enterprise applications  ...  Marketing or sales professional\n",
              "0                                           True  ...                            False\n",
              "1                                          False  ...                            False\n",
              "2                                          False  ...                            False\n",
              "3                                          False  ...                            False\n",
              "4                                          False  ...                            False\n",
              "\n",
              "[5 rows x 23 columns]"
            ]
          },
          "metadata": {
            "tags": []
          },
          "execution_count": 54
        }
      ]
    },
    {
      "cell_type": "code",
      "metadata": {
        "colab": {
          "base_uri": "https://localhost:8080/"
        },
        "id": "X8AeqWSCsR3d",
        "outputId": "569319a6-cad7-4e37-ede9-5ff1a9aeac3f"
      },
      "source": [
        "dev_type_df.sum().sort_values(ascending=False)"
      ],
      "execution_count": 55,
      "outputs": [
        {
          "output_type": "execute_result",
          "data": {
            "text/plain": [
              "Developer, back-end                              26996\n",
              "Developer, full-stack                            26915\n",
              "Developer, front-end                             18128\n",
              "Developer, desktop or enterprise applications    11687\n",
              "Developer, mobile                                 9406\n",
              "DevOps specialist                                 5915\n",
              "Database administrator                            5658\n",
              "Designer                                          5262\n",
              "System administrator                              5185\n",
              "Developer, embedded applications or devices       4701\n",
              "Data or business analyst                          3970\n",
              "Data scientist or machine learning specialist     3939\n",
              "Developer, QA or test                             3893\n",
              "Engineer, data                                    3700\n",
              "Academic researcher                               3502\n",
              "Educator                                          2895\n",
              "Developer, game or graphics                       2751\n",
              "Engineering manager                               2699\n",
              "Product manager                                   2471\n",
              "Scientist                                         2060\n",
              "Engineer, site reliability                        1921\n",
              "Senior executive/VP                               1292\n",
              "Marketing or sales professional                    625\n",
              "dtype: int64"
            ]
          },
          "metadata": {
            "tags": []
          },
          "execution_count": 55
        }
      ]
    },
    {
      "cell_type": "code",
      "metadata": {
        "colab": {
          "base_uri": "https://localhost:8080/"
        },
        "id": "SvLT-FzTucyN",
        "outputId": "fd8b86d2-255a-4bac-f5a3-f2c4fe8f81a8"
      },
      "source": [
        "data_scientists = df.loc[df['DevType'] == 'Data scientist or machine learning specialist', 'EdLevel']\n",
        "data_scientists"
      ],
      "execution_count": 56,
      "outputs": [
        {
          "output_type": "execute_result",
          "data": {
            "text/plain": [
              "386             Other doctoral degree (Ph.D., Ed.D., etc.)\n",
              "506             Other doctoral degree (Ph.D., Ed.D., etc.)\n",
              "516        Master’s degree (M.A., M.S., M.Eng., MBA, etc.)\n",
              "690        Master’s degree (M.A., M.S., M.Eng., MBA, etc.)\n",
              "711        Master’s degree (M.A., M.S., M.Eng., MBA, etc.)\n",
              "                               ...                        \n",
              "63411    Some college/university study without earning ...\n",
              "63494         Bachelor’s degree (B.A., B.S., B.Eng., etc.)\n",
              "63946         Bachelor’s degree (B.A., B.S., B.Eng., etc.)\n",
              "64220      Master’s degree (M.A., M.S., M.Eng., MBA, etc.)\n",
              "64451      Master’s degree (M.A., M.S., M.Eng., MBA, etc.)\n",
              "Name: EdLevel, Length: 366, dtype: object"
            ]
          },
          "metadata": {
            "tags": []
          },
          "execution_count": 56
        }
      ]
    },
    {
      "cell_type": "code",
      "metadata": {
        "colab": {
          "base_uri": "https://localhost:8080/"
        },
        "id": "qDv7szsDs9Ub",
        "outputId": "9dee6538-a5ce-4437-b81f-757a14a408dd"
      },
      "source": [
        "education_ds = (data_scientists.value_counts() * 100 / data_scientists.count()).sort_values(ascending=False)\n",
        "education_ds"
      ],
      "execution_count": 57,
      "outputs": [
        {
          "output_type": "execute_result",
          "data": {
            "text/plain": [
              "Master’s degree (M.A., M.S., M.Eng., MBA, etc.)                                       45.429363\n",
              "Bachelor’s degree (B.A., B.S., B.Eng., etc.)                                          31.024931\n",
              "Other doctoral degree (Ph.D., Ed.D., etc.)                                            17.174515\n",
              "Some college/university study without earning a degree                                 2.216066\n",
              "Secondary school (e.g. American high school, German Realschule or Gymnasium, etc.)     1.939058\n",
              "Professional degree (JD, MD, etc.)                                                     0.831025\n",
              "Associate degree (A.A., A.S., etc.)                                                    0.554017\n",
              "I never completed any formal education                                                 0.554017\n",
              "Primary/elementary school                                                              0.277008\n",
              "Name: EdLevel, dtype: float64"
            ]
          },
          "metadata": {
            "tags": []
          },
          "execution_count": 57
        }
      ]
    },
    {
      "cell_type": "code",
      "metadata": {
        "colab": {
          "base_uri": "https://localhost:8080/",
          "height": 321
        },
        "id": "jS1X4fQgtyUr",
        "outputId": "6f790fd9-9064-4e7d-d3ad-23ed45f29f02"
      },
      "source": [
        "plt.rcParams['axes.facecolor'] = '#888888'\n",
        "plt.figure(figsize=(12, 10))\n",
        "education_ds.sort_values(ascending=True).plot(kind='barh', color='black')\n",
        "plt.grid(b=None)\n",
        "plt.title(\"Education of Data Scientists\")\n",
        "plt.xlabel('Percentage')\n",
        "plt.show()"
      ],
      "execution_count": 58,
      "outputs": [
        {
          "output_type": "display_data",
          "data": {
            "image/png": "[encoded data removed]",
            "text/plain": [
              "<Figure size 864x720 with 1 Axes>"
            ]
          },
          "metadata": {
            "tags": [],
            "needs_background": "light"
          }
        }
      ]
    },
    {
      "cell_type": "code",
      "metadata": {
        "colab": {
          "base_uri": "https://localhost:8080/",
          "height": 275
        },
        "id": "eCD0HK_hu-6B",
        "outputId": "c4197691-f718-4eac-f9d4-c2c02fcfa286"
      },
      "source": [
        "sns.set_style('darkgrid')\n",
        "plt.grid(b=True)"
      ],
      "execution_count": 59,
      "outputs": [
        {
          "output_type": "display_data",
          "data": {
            "image/png": "[encoded data removed]",
            "text/plain": [
              "<Figure size 432x288 with 1 Axes>"
            ]
          },
          "metadata": {
            "tags": []
          }
        }
      ]
    },
    {
      "cell_type": "markdown",
      "metadata": {
        "id": "uYgCJERK4f7C"
      },
      "source": [
        "## Using data to answer questions"
      ]
    },
    {
      "cell_type": "markdown",
      "metadata": {
        "id": "aWdje2PS6nev"
      },
      "source": [
        "### Q: What are the most popular programming languages in 2020?"
      ]
    },
    {
      "cell_type": "code",
      "metadata": {
        "colab": {
          "base_uri": "https://localhost:8080/",
          "height": 90
        },
        "id": "HRU4Kuw9zh7J",
        "outputId": "f77658d6-3a15-462b-dc48-21c9b439aa13"
      },
      "source": [
        "schema.LanguageWorkedWith"
      ],
      "execution_count": 60,
      "outputs": [
        {
          "output_type": "execute_result",
          "data": {
            "application/vnd.google.colaboratory.intrinsic+json": {
              "type": "string"
            },
            "text/plain": [
              "'Which programming, scripting, and markup languages have you done extensive development work in over the past year, and which do you want to work in over the next year? (If you both worked with the language and want to continue to do so, please check both boxes in that row.)'"
            ]
          },
          "metadata": {
            "tags": []
          },
          "execution_count": 60
        }
      ]
    },
    {
      "cell_type": "code",
      "metadata": {
        "id": "E1i7U6F46zel",
        "colab": {
          "base_uri": "https://localhost:8080/",
          "height": 90
        },
        "outputId": "80762104-9a3a-4e67-c598-b0ab8e88d12c"
      },
      "source": [
        "schema.LanguageDesireNextYear"
      ],
      "execution_count": 61,
      "outputs": [
        {
          "output_type": "execute_result",
          "data": {
            "application/vnd.google.colaboratory.intrinsic+json": {
              "type": "string"
            },
            "text/plain": [
              "'Which programming, scripting, and markup languages have you done extensive development work in over the past year, and which do you want to work in over the next year? (If you both worked with the language and want to continue to do so, please check both boxes in that row.)'"
            ]
          },
          "metadata": {
            "tags": []
          },
          "execution_count": 61
        }
      ]
    },
    {
      "cell_type": "code",
      "metadata": {
        "id": "_5hZOsP763Vu",
        "colab": {
          "base_uri": "https://localhost:8080/",
          "height": 243
        },
        "outputId": "573ebdb0-08fb-4a0b-98a2-5dee2682fe75"
      },
      "source": [
        "languages_worked_df = split_multicolumns(df.LanguageWorkedWith)\n",
        "languages_worked_df.head()"
      ],
      "execution_count": 62,
      "outputs": [
        {
          "output_type": "execute_result",
          "data": {
            "text/html": [
              "<div>\n",
              "<style scoped>\n",
              "    .dataframe tbody tr th:only-of-type {\n",
              "        vertical-align: middle;\n",
              "    }\n",
              "\n",
              "    .dataframe tbody tr th {\n",
              "        vertical-align: top;\n",
              "    }\n",
              "\n",
              "    .dataframe thead th {\n",
              "        text-align: right;\n",
              "    }\n",
              "</style>\n",
              "<table border=\"1\" class=\"dataframe\">\n",
              "  <thead>\n",
              "    <tr style=\"text-align: right;\">\n",
              "      <th></th>\n",
              "      <th>C#</th>\n",
              "      <th>HTML/CSS</th>\n",
              "      <th>JavaScript</th>\n",
              "      <th>Swift</th>\n",
              "      <th>Objective-C</th>\n",
              "      <th>Python</th>\n",
              "      <th>Ruby</th>\n",
              "      <th>SQL</th>\n",
              "      <th>Java</th>\n",
              "      <th>PHP</th>\n",
              "      <th>C</th>\n",
              "      <th>TypeScript</th>\n",
              "      <th>Bash/Shell/PowerShell</th>\n",
              "      <th>Kotlin</th>\n",
              "      <th>R</th>\n",
              "      <th>VBA</th>\n",
              "      <th>Perl</th>\n",
              "      <th>Scala</th>\n",
              "      <th>C++</th>\n",
              "      <th>Go</th>\n",
              "      <th>Haskell</th>\n",
              "      <th>Rust</th>\n",
              "      <th>Dart</th>\n",
              "      <th>Julia</th>\n",
              "      <th>Assembly</th>\n",
              "    </tr>\n",
              "  </thead>\n",
              "  <tbody>\n",
              "    <tr>\n",
              "      <th>0</th>\n",
              "      <td>True</td>\n",
              "      <td>True</td>\n",
              "      <td>True</td>\n",
              "      <td>False</td>\n",
              "      <td>False</td>\n",
              "      <td>False</td>\n",
              "      <td>False</td>\n",
              "      <td>False</td>\n",
              "      <td>False</td>\n",
              "      <td>False</td>\n",
              "      <td>False</td>\n",
              "      <td>False</td>\n",
              "      <td>False</td>\n",
              "      <td>False</td>\n",
              "      <td>False</td>\n",
              "      <td>False</td>\n",
              "      <td>False</td>\n",
              "      <td>False</td>\n",
              "      <td>False</td>\n",
              "      <td>False</td>\n",
              "      <td>False</td>\n",
              "      <td>False</td>\n",
              "      <td>False</td>\n",
              "      <td>False</td>\n",
              "      <td>False</td>\n",
              "    </tr>\n",
              "    <tr>\n",
              "      <th>1</th>\n",
              "      <td>False</td>\n",
              "      <td>False</td>\n",
              "      <td>True</td>\n",
              "      <td>True</td>\n",
              "      <td>False</td>\n",
              "      <td>False</td>\n",
              "      <td>False</td>\n",
              "      <td>False</td>\n",
              "      <td>False</td>\n",
              "      <td>False</td>\n",
              "      <td>False</td>\n",
              "      <td>False</td>\n",
              "      <td>False</td>\n",
              "      <td>False</td>\n",
              "      <td>False</td>\n",
              "      <td>False</td>\n",
              "      <td>False</td>\n",
              "      <td>False</td>\n",
              "      <td>False</td>\n",
              "      <td>False</td>\n",
              "      <td>False</td>\n",
              "      <td>False</td>\n",
              "      <td>False</td>\n",
              "      <td>False</td>\n",
              "      <td>False</td>\n",
              "    </tr>\n",
              "    <tr>\n",
              "      <th>2</th>\n",
              "      <td>False</td>\n",
              "      <td>False</td>\n",
              "      <td>False</td>\n",
              "      <td>True</td>\n",
              "      <td>True</td>\n",
              "      <td>True</td>\n",
              "      <td>False</td>\n",
              "      <td>False</td>\n",
              "      <td>False</td>\n",
              "      <td>False</td>\n",
              "      <td>False</td>\n",
              "      <td>False</td>\n",
              "      <td>False</td>\n",
              "      <td>False</td>\n",
              "      <td>False</td>\n",
              "      <td>False</td>\n",
              "      <td>False</td>\n",
              "      <td>False</td>\n",
              "      <td>False</td>\n",
              "      <td>False</td>\n",
              "      <td>False</td>\n",
              "      <td>False</td>\n",
              "      <td>False</td>\n",
              "      <td>False</td>\n",
              "      <td>False</td>\n",
              "    </tr>\n",
              "    <tr>\n",
              "      <th>3</th>\n",
              "      <td>False</td>\n",
              "      <td>False</td>\n",
              "      <td>False</td>\n",
              "      <td>False</td>\n",
              "      <td>False</td>\n",
              "      <td>False</td>\n",
              "      <td>False</td>\n",
              "      <td>False</td>\n",
              "      <td>False</td>\n",
              "      <td>False</td>\n",
              "      <td>False</td>\n",
              "      <td>False</td>\n",
              "      <td>False</td>\n",
              "      <td>False</td>\n",
              "      <td>False</td>\n",
              "      <td>False</td>\n",
              "      <td>False</td>\n",
              "      <td>False</td>\n",
              "      <td>False</td>\n",
              "      <td>False</td>\n",
              "      <td>False</td>\n",
              "      <td>False</td>\n",
              "      <td>False</td>\n",
              "      <td>False</td>\n",
              "      <td>False</td>\n",
              "    </tr>\n",
              "    <tr>\n",
              "      <th>4</th>\n",
              "      <td>False</td>\n",
              "      <td>True</td>\n",
              "      <td>False</td>\n",
              "      <td>False</td>\n",
              "      <td>False</td>\n",
              "      <td>False</td>\n",
              "      <td>True</td>\n",
              "      <td>True</td>\n",
              "      <td>False</td>\n",
              "      <td>False</td>\n",
              "      <td>False</td>\n",
              "      <td>False</td>\n",
              "      <td>False</td>\n",
              "      <td>False</td>\n",
              "      <td>False</td>\n",
              "      <td>False</td>\n",
              "      <td>False</td>\n",
              "      <td>False</td>\n",
              "      <td>False</td>\n",
              "      <td>False</td>\n",
              "      <td>False</td>\n",
              "      <td>False</td>\n",
              "      <td>False</td>\n",
              "      <td>False</td>\n",
              "      <td>False</td>\n",
              "    </tr>\n",
              "  </tbody>\n",
              "</table>\n",
              "</div>"
            ],
            "text/plain": [
              "      C#  HTML/CSS  JavaScript  Swift  ...   Rust   Dart  Julia  Assembly\n",
              "0   True      True        True  False  ...  False  False  False     False\n",
              "1  False     False        True   True  ...  False  False  False     False\n",
              "2  False     False       False   True  ...  False  False  False     False\n",
              "3  False     False       False  False  ...  False  False  False     False\n",
              "4  False      True       False  False  ...  False  False  False     False\n",
              "\n",
              "[5 rows x 25 columns]"
            ]
          },
          "metadata": {
            "tags": []
          },
          "execution_count": 62
        }
      ]
    },
    {
      "cell_type": "code",
      "metadata": {
        "id": "xIrnplyC7fNi",
        "colab": {
          "base_uri": "https://localhost:8080/"
        },
        "outputId": "b1c67a52-9f99-4e0d-fc94-f108c4698735"
      },
      "source": [
        "languages_worked_percentages = languages_worked_df.mean().sort_values(ascending=False) * 100\n",
        "languages_worked_percentages"
      ],
      "execution_count": 63,
      "outputs": [
        {
          "output_type": "execute_result",
          "data": {
            "text/plain": [
              "JavaScript               59.893323\n",
              "HTML/CSS                 55.801947\n",
              "SQL                      48.444935\n",
              "Python                   39.001026\n",
              "Java                     35.618760\n",
              "Bash/Shell/PowerShell    29.239884\n",
              "C#                       27.803004\n",
              "PHP                      23.130035\n",
              "TypeScript               22.461357\n",
              "C++                      21.114670\n",
              "C                        19.236152\n",
              "Go                        7.758219\n",
              "Kotlin                    6.887382\n",
              "Ruby                      6.229590\n",
              "Assembly                  5.447392\n",
              "VBA                       5.394520\n",
              "Swift                     5.226573\n",
              "R                         5.064846\n",
              "Rust                      4.498803\n",
              "Objective-C               3.603085\n",
              "Dart                      3.517557\n",
              "Scala                     3.150561\n",
              "Perl                      2.757130\n",
              "Haskell                   1.861413\n",
              "Julia                     0.782198\n",
              "dtype: float64"
            ]
          },
          "metadata": {
            "tags": []
          },
          "execution_count": 63
        }
      ]
    },
    {
      "cell_type": "code",
      "metadata": {
        "id": "fftkabXE7pQy",
        "colab": {
          "base_uri": "https://localhost:8080/",
          "height": 566
        },
        "outputId": "1fe0f7aa-5d0e-4bb3-fa78-4b842262aea3"
      },
      "source": [
        "plt.figure(figsize=(12, 12))\n",
        "sns.barplot(x=languages_worked_percentages, y=languages_worked_percentages.index)\n",
        "plt.title(\"Languages used in the past year\");\n",
        "plt.xlabel('count')\n",
        "plt.show()"
      ],
      "execution_count": 64,
      "outputs": [
        {
          "output_type": "display_data",
          "data": {
            "image/png": "[encoded data removed]",
            "text/plain": [
              "<Figure size 864x864 with 1 Axes>"
            ]
          },
          "metadata": {
            "tags": []
          }
        }
      ]
    },
    {
      "cell_type": "markdown",
      "metadata": {
        "id": "WrJyM-BNdfxz"
      },
      "source": [
        "Perhaps unsurprisingly, Javascript & HTML/CSS comes out at the top as web development is one of today's most sought skills. It also happens to be one of the easiest to get started. SQL is necessary for working with relational databases, so it's no surprise that most programmers work with SQL regularly. Python seems to be the popular choice for other forms of development, beating out Java, which was the industry standard for server & application development for over two decades."
      ]
    },
    {
      "cell_type": "code",
      "metadata": {
        "id": "SYvrCJ6B72Cf",
        "outputId": "bbc6a128-9dfc-4664-ca14-4875efd4a8bc",
        "colab": {
          "base_uri": "https://localhost:8080/"
        }
      },
      "source": [
        "languages_interested_df = split_multicolumns(df.LanguageDesireNextYear)\n",
        "languages_interested_percentages = languages_interested_df.mean().sort_values(ascending=False) * 100\n",
        "languages_interested_percentages"
      ],
      "execution_count": 65,
      "outputs": [
        {
          "output_type": "execute_result",
          "data": {
            "text/plain": [
              "Python                   41.143906\n",
              "JavaScript               40.425466\n",
              "HTML/CSS                 32.028116\n",
              "SQL                      30.799614\n",
              "TypeScript               26.451653\n",
              "C#                       21.058688\n",
              "Java                     20.464653\n",
              "Go                       19.432090\n",
              "Bash/Shell/PowerShell    18.057413\n",
              "Rust                     16.270643\n",
              "C++                      15.014151\n",
              "Kotlin                   14.760676\n",
              "PHP                      10.947657\n",
              "C                         9.359935\n",
              "Swift                     8.692812\n",
              "Dart                      7.308805\n",
              "R                         6.571704\n",
              "Ruby                      6.425528\n",
              "Scala                     5.326097\n",
              "Haskell                   4.593662\n",
              "Assembly                  3.766367\n",
              "Julia                     2.540976\n",
              "Objective-C               2.338818\n",
              "Perl                      1.761888\n",
              "VBA                       1.611047\n",
              "dtype: float64"
            ]
          },
          "metadata": {
            "tags": []
          },
          "execution_count": 65
        }
      ]
    },
    {
      "cell_type": "code",
      "metadata": {
        "id": "oTyDOgb5dyS1",
        "outputId": "e5c9b807-8c0c-417e-8a5b-55d04ce3e0e3",
        "colab": {
          "base_uri": "https://localhost:8080/",
          "height": 483
        }
      },
      "source": [
        "plt.figure(figsize=(12, 10))\n",
        "sns.barplot(x=languages_interested_percentages, y=languages_interested_percentages.index)\n",
        "plt.title(\"Languages people are intersted in learning over the next year\");\n",
        "plt.xlabel('count')\n",
        "plt.show()"
      ],
      "execution_count": 66,
      "outputs": [
        {
          "output_type": "display_data",
          "data": {
            "image/png": "[encoded data removed]",
            "text/plain": [
              "<Figure size 864x720 with 1 Axes>"
            ]
          },
          "metadata": {
            "tags": []
          }
        }
      ]
    },
    {
      "cell_type": "markdown",
      "metadata": {
        "id": "5DKGSyHJeGvQ"
      },
      "source": [
        "Once again, it's not surprising that Python is the language most people are interested in learning - since it is an easy-to-learn general-purpose programming language well suited for a variety of domains: application development, numerical computing, data analysis, machine learning, big data, cloud automation, web scraping, scripting, etc. We're using Python for this very analysis, so we're in good company!"
      ]
    },
    {
      "cell_type": "code",
      "metadata": {
        "id": "SinE_kvXeAG7"
      },
      "source": [
        "languages_loved_df = languages_worked_df & languages_interested_df\n",
        "languages_loved_percentages = (languages_loved_df.sum() * 100/ languages_worked_df.sum()).sort_values(ascending=False)"
      ],
      "execution_count": 67,
      "outputs": []
    },
    {
      "cell_type": "code",
      "metadata": {
        "id": "qWgLiI5IehS_",
        "outputId": "1d78f60d-48a6-4100-bfac-ada4d9fd2a04",
        "colab": {
          "base_uri": "https://localhost:8080/",
          "height": 566
        }
      },
      "source": [
        "plt.figure(figsize=(12, 12))\n",
        "sns.barplot(x=languages_loved_percentages, y=languages_loved_percentages.index)\n",
        "plt.title(\"Most loved languages\");\n",
        "plt.xlabel('count')\n",
        "plt.show()"
      ],
      "execution_count": 68,
      "outputs": [
        {
          "output_type": "display_data",
          "data": {
            "image/png": "[encoded data removed]",
            "text/plain": [
              "<Figure size 864x864 with 1 Axes>"
            ]
          },
          "metadata": {
            "tags": []
          }
        }
      ]
    },
    {
      "cell_type": "markdown",
      "metadata": {
        "id": "wCZd_XcmezgH"
      },
      "source": [
        "Rust has been StackOverflow's most-loved language for four years in a row. The second most-loved language is TypeScript, a popular alternative to JavaScript for web development.\n",
        "\n",
        "Python features at number 3, despite already being one of the most widely-used languages in the world. Python has a solid foundation, is easy to learn & use, has a large ecosystem of domain-specific libraries, and a massive worldwide community."
      ]
    },
    {
      "cell_type": "markdown",
      "metadata": {
        "id": "IF2hh8mwfw2p"
      },
      "source": [
        "### Q: In which countries do developers work the highest number of hours per week? Consider countries with more than 250 responses only."
      ]
    },
    {
      "cell_type": "code",
      "metadata": {
        "id": "L3jdThzeeloz",
        "outputId": "a2c68c07-de05-4bad-eae7-302a8a513fda",
        "colab": {
          "base_uri": "https://localhost:8080/",
          "height": 455
        }
      },
      "source": [
        "countries_df = df.groupby('Country')[['WorkWeekHrs']].mean().sort_values('WorkWeekHrs', ascending=False)\n",
        "countries_df"
      ],
      "execution_count": 69,
      "outputs": [
        {
          "output_type": "execute_result",
          "data": {
            "text/html": [
              "<div>\n",
              "<style scoped>\n",
              "    .dataframe tbody tr th:only-of-type {\n",
              "        vertical-align: middle;\n",
              "    }\n",
              "\n",
              "    .dataframe tbody tr th {\n",
              "        vertical-align: top;\n",
              "    }\n",
              "\n",
              "    .dataframe thead th {\n",
              "        text-align: right;\n",
              "    }\n",
              "</style>\n",
              "<table border=\"1\" class=\"dataframe\">\n",
              "  <thead>\n",
              "    <tr style=\"text-align: right;\">\n",
              "      <th></th>\n",
              "      <th>WorkWeekHrs</th>\n",
              "    </tr>\n",
              "    <tr>\n",
              "      <th>Country</th>\n",
              "      <th></th>\n",
              "    </tr>\n",
              "  </thead>\n",
              "  <tbody>\n",
              "    <tr>\n",
              "      <th>Kuwait</th>\n",
              "      <td>58.222222</td>\n",
              "    </tr>\n",
              "    <tr>\n",
              "      <th>Iraq</th>\n",
              "      <td>52.153846</td>\n",
              "    </tr>\n",
              "    <tr>\n",
              "      <th>Grenada</th>\n",
              "      <td>50.000000</td>\n",
              "    </tr>\n",
              "    <tr>\n",
              "      <th>Maldives</th>\n",
              "      <td>47.300000</td>\n",
              "    </tr>\n",
              "    <tr>\n",
              "      <th>Afghanistan</th>\n",
              "      <td>46.500000</td>\n",
              "    </tr>\n",
              "    <tr>\n",
              "      <th>...</th>\n",
              "      <td>...</td>\n",
              "    </tr>\n",
              "    <tr>\n",
              "      <th>North Korea</th>\n",
              "      <td>NaN</td>\n",
              "    </tr>\n",
              "    <tr>\n",
              "      <th>Saint Lucia</th>\n",
              "      <td>NaN</td>\n",
              "    </tr>\n",
              "    <tr>\n",
              "      <th>Sierra Leone</th>\n",
              "      <td>NaN</td>\n",
              "    </tr>\n",
              "    <tr>\n",
              "      <th>Solomon Islands</th>\n",
              "      <td>NaN</td>\n",
              "    </tr>\n",
              "    <tr>\n",
              "      <th>Timor-Leste</th>\n",
              "      <td>NaN</td>\n",
              "    </tr>\n",
              "  </tbody>\n",
              "</table>\n",
              "<p>183 rows × 1 columns</p>\n",
              "</div>"
            ],
            "text/plain": [
              "                 WorkWeekHrs\n",
              "Country                     \n",
              "Kuwait             58.222222\n",
              "Iraq               52.153846\n",
              "Grenada            50.000000\n",
              "Maldives           47.300000\n",
              "Afghanistan        46.500000\n",
              "...                      ...\n",
              "North Korea              NaN\n",
              "Saint Lucia              NaN\n",
              "Sierra Leone             NaN\n",
              "Solomon Islands          NaN\n",
              "Timor-Leste              NaN\n",
              "\n",
              "[183 rows x 1 columns]"
            ]
          },
          "metadata": {
            "tags": []
          },
          "execution_count": 69
        }
      ]
    },
    {
      "cell_type": "code",
      "metadata": {
        "id": "fVC0HNYAgHsh",
        "outputId": "4cfb4eb6-36f4-4eec-9132-30c3ac660e2c",
        "colab": {
          "base_uri": "https://localhost:8080/",
          "height": 551
        }
      },
      "source": [
        "high_response_countries_df = countries_df.loc[df.Country.value_counts() > 250].head(15)\n",
        "high_response_countries_df"
      ],
      "execution_count": 70,
      "outputs": [
        {
          "output_type": "execute_result",
          "data": {
            "text/html": [
              "<div>\n",
              "<style scoped>\n",
              "    .dataframe tbody tr th:only-of-type {\n",
              "        vertical-align: middle;\n",
              "    }\n",
              "\n",
              "    .dataframe tbody tr th {\n",
              "        vertical-align: top;\n",
              "    }\n",
              "\n",
              "    .dataframe thead th {\n",
              "        text-align: right;\n",
              "    }\n",
              "</style>\n",
              "<table border=\"1\" class=\"dataframe\">\n",
              "  <thead>\n",
              "    <tr style=\"text-align: right;\">\n",
              "      <th></th>\n",
              "      <th>WorkWeekHrs</th>\n",
              "    </tr>\n",
              "    <tr>\n",
              "      <th>Country</th>\n",
              "      <th></th>\n",
              "    </tr>\n",
              "  </thead>\n",
              "  <tbody>\n",
              "    <tr>\n",
              "      <th>Iran</th>\n",
              "      <td>44.337748</td>\n",
              "    </tr>\n",
              "    <tr>\n",
              "      <th>Israel</th>\n",
              "      <td>43.915094</td>\n",
              "    </tr>\n",
              "    <tr>\n",
              "      <th>China</th>\n",
              "      <td>42.150000</td>\n",
              "    </tr>\n",
              "    <tr>\n",
              "      <th>United States</th>\n",
              "      <td>41.802982</td>\n",
              "    </tr>\n",
              "    <tr>\n",
              "      <th>Greece</th>\n",
              "      <td>41.402724</td>\n",
              "    </tr>\n",
              "    <tr>\n",
              "      <th>Viet Nam</th>\n",
              "      <td>41.391667</td>\n",
              "    </tr>\n",
              "    <tr>\n",
              "      <th>South Africa</th>\n",
              "      <td>41.023460</td>\n",
              "    </tr>\n",
              "    <tr>\n",
              "      <th>Turkey</th>\n",
              "      <td>40.982143</td>\n",
              "    </tr>\n",
              "    <tr>\n",
              "      <th>Sri Lanka</th>\n",
              "      <td>40.612245</td>\n",
              "    </tr>\n",
              "    <tr>\n",
              "      <th>New Zealand</th>\n",
              "      <td>40.457551</td>\n",
              "    </tr>\n",
              "    <tr>\n",
              "      <th>Belgium</th>\n",
              "      <td>40.444444</td>\n",
              "    </tr>\n",
              "    <tr>\n",
              "      <th>Canada</th>\n",
              "      <td>40.208837</td>\n",
              "    </tr>\n",
              "    <tr>\n",
              "      <th>Hungary</th>\n",
              "      <td>40.194340</td>\n",
              "    </tr>\n",
              "    <tr>\n",
              "      <th>Bangladesh</th>\n",
              "      <td>40.097458</td>\n",
              "    </tr>\n",
              "    <tr>\n",
              "      <th>India</th>\n",
              "      <td>40.090603</td>\n",
              "    </tr>\n",
              "  </tbody>\n",
              "</table>\n",
              "</div>"
            ],
            "text/plain": [
              "               WorkWeekHrs\n",
              "Country                   \n",
              "Iran             44.337748\n",
              "Israel           43.915094\n",
              "China            42.150000\n",
              "United States    41.802982\n",
              "Greece           41.402724\n",
              "Viet Nam         41.391667\n",
              "South Africa     41.023460\n",
              "Turkey           40.982143\n",
              "Sri Lanka        40.612245\n",
              "New Zealand      40.457551\n",
              "Belgium          40.444444\n",
              "Canada           40.208837\n",
              "Hungary          40.194340\n",
              "Bangladesh       40.097458\n",
              "India            40.090603"
            ]
          },
          "metadata": {
            "tags": []
          },
          "execution_count": 70
        }
      ]
    },
    {
      "cell_type": "markdown",
      "metadata": {
        "id": "z7KWwL05g2hv"
      },
      "source": [
        "The Asian countries like Iran, China, and Israel have the highest working hours, followed by the United States. However, there isn't too much variation overall, and the average working hours seem to be around 40 hours per week."
      ]
    },
    {
      "cell_type": "markdown",
      "metadata": {
        "id": "cVZ6xxK0g5t9"
      },
      "source": [
        "### Q: How important is it to start young to build a career in programming?"
      ]
    },
    {
      "cell_type": "code",
      "metadata": {
        "id": "1JD_kRYLggJQ",
        "outputId": "f152ccbb-0f60-466e-80b5-166b5bb227ac",
        "colab": {
          "base_uri": "https://localhost:8080/",
          "height": 54
        }
      },
      "source": [
        "schema.YearsCodePro"
      ],
      "execution_count": 71,
      "outputs": [
        {
          "output_type": "execute_result",
          "data": {
            "application/vnd.google.colaboratory.intrinsic+json": {
              "type": "string"
            },
            "text/plain": [
              "'NOT including education, how many years have you coded professionally (as a part of your work)?'"
            ]
          },
          "metadata": {
            "tags": []
          },
          "execution_count": 71
        }
      ]
    },
    {
      "cell_type": "code",
      "metadata": {
        "id": "CnDJ0V1Kg_V8",
        "outputId": "0f8bf71c-6de1-405f-b502-e16c2410ca00",
        "colab": {
          "base_uri": "https://localhost:8080/",
          "height": 283
        }
      },
      "source": [
        "sns.scatterplot(x='Age', y='YearsCodePro', hue='Hobbyist', data=df)\n",
        "plt.xlabel(\"Age\")\n",
        "plt.ylabel(\"Years of professional coding experience\");"
      ],
      "execution_count": 72,
      "outputs": [
        {
          "output_type": "display_data",
          "data": {
            "image/png": "[encoded data removed]",
            "text/plain": [
              "<Figure size 432x288 with 1 Axes>"
            ]
          },
          "metadata": {
            "tags": []
          }
        }
      ]
    },
    {
      "cell_type": "markdown",
      "metadata": {
        "id": "KGS21mtFlX4P"
      },
      "source": [
        "You can see points all over the graph, which indicates that you can start programming professionally at any age. Many people who have been coding for several decades professionally also seem to enjoy it as a hobby."
      ]
    },
    {
      "cell_type": "markdown",
      "metadata": {
        "id": "r_RC6yBjlmeG"
      },
      "source": [
        "### Q: When did programmers start coding for the first time?"
      ]
    },
    {
      "cell_type": "code",
      "metadata": {
        "id": "IuQaEnu6hCwm",
        "outputId": "2ec46e94-c951-4281-a948-cbd19dbabc50",
        "colab": {
          "base_uri": "https://localhost:8080/",
          "height": 279
        }
      },
      "source": [
        "plt.figure(figsize=(8, 6))\n",
        "plt.title(schema.Age1stCode)\n",
        "sns.histplot(x=df.Age1stCode, bins=30, kde=True);"
      ],
      "execution_count": 73,
      "outputs": [
        {
          "output_type": "display_data",
          "data": {
            "image/png": "[encoded data removed]",
            "text/plain": [
              "<Figure size 576x432 with 1 Axes>"
            ]
          },
          "metadata": {
            "tags": []
          }
        }
      ]
    },
    {
      "cell_type": "markdown",
      "metadata": {
        "id": "mx_r-adwmG9N"
      },
      "source": [
        "As you might expect, most people seem to have had some exposure to programming before the age of 40. However, but there are people of all ages and walks of life learning to code. Mostly around the time when they reach high school."
      ]
    },
    {
      "cell_type": "markdown",
      "metadata": {
        "id": "5cGHyJSf56t0"
      },
      "source": [
        "Let's compare India with other countries in this field."
      ]
    },
    {
      "cell_type": "code",
      "metadata": {
        "id": "gqmrCdCWl3et"
      },
      "source": [
        "df1 = df.copy()\n",
        "df1[\"Country\"] = np.where(df.Country == \"India\", \"India\", \"Not India\")"
      ],
      "execution_count": 74,
      "outputs": []
    },
    {
      "cell_type": "code",
      "metadata": {
        "id": "x1GGjsDvmfJG",
        "outputId": "03109ab2-98ac-496a-b8c2-e1cfca41a085",
        "colab": {
          "base_uri": "https://localhost:8080/"
        }
      },
      "source": [
        "df1.Country.value_counts()"
      ],
      "execution_count": 75,
      "outputs": [
        {
          "output_type": "execute_result",
          "data": {
            "text/plain": [
              "Not India    55942\n",
              "India         8364\n",
              "Name: Country, dtype: int64"
            ]
          },
          "metadata": {
            "tags": []
          },
          "execution_count": 75
        }
      ]
    },
    {
      "cell_type": "code",
      "metadata": {
        "id": "0ibjjxUItJMR",
        "outputId": "432a03bb-9503-4e1c-93f1-fbc362f916c6",
        "colab": {
          "base_uri": "https://localhost:8080/",
          "height": 298
        }
      },
      "source": [
        "fig, axes = plt.subplots(nrows=2, ncols=1, sharex=True)\n",
        "axes[0].set_title(\"India\")\n",
        "axes[0].hist(df1.loc[df1.Country == \"India\", \"Age1stCode\"], bins=np.arange(0, 40, 2))\n",
        "axes[1].set_title(\"Other Countries\")\n",
        "axes[1].hist(df1.loc[df1.Country == \"Not India\", \"Age1stCode\"], bins=np.arange(0, 40, 2))\n",
        "plt.suptitle(\"Age at which respondants started coding.\")\n",
        "plt.show()"
      ],
      "execution_count": 76,
      "outputs": [
        {
          "output_type": "display_data",
          "data": {
            "image/png": "[encoded data removed]",
            "text/plain": [
              "<Figure size 432x288 with 2 Axes>"
            ]
          },
          "metadata": {
            "tags": []
          }
        }
      ]
    },
    {
      "cell_type": "markdown",
      "metadata": {
        "id": "QjVggO-oFD1S"
      },
      "source": [
        "### Q: What Languages Are Associated with the Highest Salaries Worldwide? "
      ]
    },
    {
      "cell_type": "code",
      "metadata": {
        "id": "eAWG32MfJz7D"
      },
      "source": [
        "# languages_worked_df = languages_worked_df.astype(bool).astype(int)\n",
        "# languages_worked_df.sample(5)"
      ],
      "execution_count": 102,
      "outputs": []
    },
    {
      "cell_type": "code",
      "metadata": {
        "id": "aUBEqs1uyHGp",
        "outputId": "48f7a84e-9ea1-46fe-cd7f-e45cc9785d83",
        "colab": {
          "base_uri": "https://localhost:8080/"
        }
      },
      "source": [
        "df1 = pd.concat([df1, languages_worked_df])\n",
        "df1.info()"
      ],
      "execution_count": 103,
      "outputs": [
        {
          "output_type": "stream",
          "text": [
            "<class 'pandas.core.frame.DataFrame'>\n",
            "Int64Index: 321530 entries, 0 to 64460\n",
            "Data columns (total 45 columns):\n",
            " #   Column                  Non-Null Count   Dtype  \n",
            "---  ------                  --------------   -----  \n",
            " 0   Country                 64306 non-null   object \n",
            " 1   Age                     45068 non-null   float64\n",
            " 2   Gender                  50115 non-null   object \n",
            " 3   EdLevel                 56981 non-null   object \n",
            " 4   UndergradMajor          50619 non-null   object \n",
            " 5   Hobbyist                63950 non-null   object \n",
            " 6   Age1stCode              57440 non-null   float64\n",
            " 7   YearsCode               57225 non-null   float64\n",
            " 8   YearsCodePro            45984 non-null   float64\n",
            " 9   LanguageWorkedWith      56932 non-null   object \n",
            " 10  LanguageDesireNextYear  53688 non-null   object \n",
            " 11  NEWLearn                55730 non-null   object \n",
            " 12  NEWStuck                54537 non-null   object \n",
            " 13  Employment              63394 non-null   object \n",
            " 14  DevType                 48983 non-null   object \n",
            " 15  WorkWeekHrs             40813 non-null   float64\n",
            " 16  JobSat                  44835 non-null   object \n",
            " 17  JobFactors              48941 non-null   object \n",
            " 18  ConvertedComp           34453 non-null   float64\n",
            " 19  NEWEdImpt               48092 non-null   object \n",
            " 20  C#                      321530 non-null  int64  \n",
            " 21  HTML/CSS                321530 non-null  int64  \n",
            " 22  JavaScript              321530 non-null  int64  \n",
            " 23  Swift                   321530 non-null  int64  \n",
            " 24  Objective-C             321530 non-null  int64  \n",
            " 25  Python                  321530 non-null  int64  \n",
            " 26  Ruby                    321530 non-null  int64  \n",
            " 27  SQL                     321530 non-null  int64  \n",
            " 28  Java                    321530 non-null  int64  \n",
            " 29  PHP                     321530 non-null  int64  \n",
            " 30  C                       321530 non-null  int64  \n",
            " 31  TypeScript              321530 non-null  int64  \n",
            " 32  Bash/Shell/PowerShell   321530 non-null  int64  \n",
            " 33  Kotlin                  321530 non-null  int64  \n",
            " 34  R                       321530 non-null  int64  \n",
            " 35  VBA                     321530 non-null  int64  \n",
            " 36  Perl                    321530 non-null  int64  \n",
            " 37  Scala                   321530 non-null  int64  \n",
            " 38  C++                     321530 non-null  int64  \n",
            " 39  Go                      321530 non-null  int64  \n",
            " 40  Haskell                 321530 non-null  int64  \n",
            " 41  Rust                    321530 non-null  int64  \n",
            " 42  Dart                    321530 non-null  int64  \n",
            " 43  Julia                   321530 non-null  int64  \n",
            " 44  Assembly                321530 non-null  int64  \n",
            "dtypes: float64(6), int64(25), object(14)\n",
            "memory usage: 112.8+ MB\n"
          ],
          "name": "stdout"
        }
      ]
    },
    {
      "cell_type": "code",
      "metadata": {
        "id": "w8izxmBoNip5",
        "outputId": "c7d511f1-bf72-4442-8ffa-803291b4a787",
        "colab": {
          "base_uri": "https://localhost:8080/"
        }
      },
      "source": [
        "df1[languages_worked_df.columns] = df1[languages_worked_df.columns].astype(bool).astype(int)\n",
        "df1.info()"
      ],
      "execution_count": 104,
      "outputs": [
        {
          "output_type": "stream",
          "text": [
            "<class 'pandas.core.frame.DataFrame'>\n",
            "Int64Index: 321530 entries, 0 to 64460\n",
            "Data columns (total 45 columns):\n",
            " #   Column                  Non-Null Count   Dtype  \n",
            "---  ------                  --------------   -----  \n",
            " 0   Country                 64306 non-null   object \n",
            " 1   Age                     45068 non-null   float64\n",
            " 2   Gender                  50115 non-null   object \n",
            " 3   EdLevel                 56981 non-null   object \n",
            " 4   UndergradMajor          50619 non-null   object \n",
            " 5   Hobbyist                63950 non-null   object \n",
            " 6   Age1stCode              57440 non-null   float64\n",
            " 7   YearsCode               57225 non-null   float64\n",
            " 8   YearsCodePro            45984 non-null   float64\n",
            " 9   LanguageWorkedWith      56932 non-null   object \n",
            " 10  LanguageDesireNextYear  53688 non-null   object \n",
            " 11  NEWLearn                55730 non-null   object \n",
            " 12  NEWStuck                54537 non-null   object \n",
            " 13  Employment              63394 non-null   object \n",
            " 14  DevType                 48983 non-null   object \n",
            " 15  WorkWeekHrs             40813 non-null   float64\n",
            " 16  JobSat                  44835 non-null   object \n",
            " 17  JobFactors              48941 non-null   object \n",
            " 18  ConvertedComp           34453 non-null   float64\n",
            " 19  NEWEdImpt               48092 non-null   object \n",
            " 20  C#                      321530 non-null  int64  \n",
            " 21  HTML/CSS                321530 non-null  int64  \n",
            " 22  JavaScript              321530 non-null  int64  \n",
            " 23  Swift                   321530 non-null  int64  \n",
            " 24  Objective-C             321530 non-null  int64  \n",
            " 25  Python                  321530 non-null  int64  \n",
            " 26  Ruby                    321530 non-null  int64  \n",
            " 27  SQL                     321530 non-null  int64  \n",
            " 28  Java                    321530 non-null  int64  \n",
            " 29  PHP                     321530 non-null  int64  \n",
            " 30  C                       321530 non-null  int64  \n",
            " 31  TypeScript              321530 non-null  int64  \n",
            " 32  Bash/Shell/PowerShell   321530 non-null  int64  \n",
            " 33  Kotlin                  321530 non-null  int64  \n",
            " 34  R                       321530 non-null  int64  \n",
            " 35  VBA                     321530 non-null  int64  \n",
            " 36  Perl                    321530 non-null  int64  \n",
            " 37  Scala                   321530 non-null  int64  \n",
            " 38  C++                     321530 non-null  int64  \n",
            " 39  Go                      321530 non-null  int64  \n",
            " 40  Haskell                 321530 non-null  int64  \n",
            " 41  Rust                    321530 non-null  int64  \n",
            " 42  Dart                    321530 non-null  int64  \n",
            " 43  Julia                   321530 non-null  int64  \n",
            " 44  Assembly                321530 non-null  int64  \n",
            "dtypes: float64(6), int64(25), object(14)\n",
            "memory usage: 112.8+ MB\n"
          ],
          "name": "stdout"
        }
      ]
    },
    {
      "cell_type": "code",
      "metadata": {
        "id": "cZtemxbEHtqN",
        "outputId": "5302cb06-87f2-4b3d-fdc7-71bf020e7fb0",
        "colab": {
          "base_uri": "https://localhost:8080/"
        }
      },
      "source": [
        "df1.groupby([\"C#\"])[\"ConvertedComp\"].mean()"
      ],
      "execution_count": 105,
      "outputs": [
        {
          "output_type": "execute_result",
          "data": {
            "text/plain": [
              "C#\n",
              "0              NaN\n",
              "1    103808.935448\n",
              "Name: ConvertedComp, dtype: float64"
            ]
          },
          "metadata": {
            "tags": []
          },
          "execution_count": 105
        }
      ]
    },
    {
      "cell_type": "code",
      "metadata": {
        "id": "B-qx6VQJHtm2"
      },
      "source": [
        ""
      ],
      "execution_count": null,
      "outputs": []
    },
    {
      "cell_type": "code",
      "metadata": {
        "id": "7Q9dU_9cHtje"
      },
      "source": [
        ""
      ],
      "execution_count": null,
      "outputs": []
    },
    {
      "cell_type": "markdown",
      "metadata": {
        "id": "105dV0e56jgX"
      },
      "source": [
        "## Inferences and Conclusions\n",
        "\n",
        "We've drawn many inferences from the survey. Here's a summary of a few of them:\n",
        "\n",
        "*    Based on the survey respondents' demographics, we can infer that the survey is somewhat representative of the overall programming community. However, it has fewer responses from programmers in non-English-speaking countries and women & non-binary genders.\n",
        "\n",
        "*    The programming community is not as diverse as it can be. Although things are improving, we should make more efforts to support & encourage underrepresented communities, whether in terms of age, country, race, gender, or otherwise.\n",
        "\n",
        "*    Although most programmers hold a college degree, a reasonably large percentage did not have computer science as their college major. Hence, a computer science degree isn't compulsory for learning to code or building a career in programming.\n",
        "\n",
        "*    A significant percentage of programmers either work part-time or as freelancers, which can be a great way to break into the field, especially when you're just getting started.\n",
        "\n",
        "*    Javascript & HTML/CSS are the most used programming languages in 2020, closely followed by SQL & Python.\n",
        "\n",
        "*    Python is the language most people are interested in learning - since it is an easy-to-learn general-purpose programming language well suited for various domains.\n",
        "\n",
        "*    Rust and TypeScript are the most \"loved\" languages in 2020, both of which have small but fast-growing communities. Python is a close third, despite already being a widely used language.\n",
        "\n",
        "*    Programmers worldwide seem to be working for around 40 hours a week on average, with slight variations by country.\n",
        "\n",
        "*    You can learn and start programming professionally at any age. You're likely to have a long and fulfilling career if you also enjoy programming as a hobby."
      ]
    }
  ]
}