{
  "nbformat": 4,
  "nbformat_minor": 0,
  "metadata": {
    "colab": {
      "name": "OOP3-Properties vs. Getters and Setters.ipynb",
      "provenance": [],
      "authorship_tag": "ABX9TyPJMZYEcP8yiczrJmRttSfm",
      "include_colab_link": true
    },
    "kernelspec": {
      "name": "python3",
      "display_name": "Python 3"
    },
    "language_info": {
      "name": "python"
    }
  },
  "cells": [
    {
      "cell_type": "markdown",
      "metadata": {
        "id": "view-in-github",
        "colab_type": "text"
      },
      "source": [
        "<a href=\"https://colab.research.google.com/github/Yasir323/100-days-of-code/blob/master/OOP3_Properties_vs_Getters_and_Setters.ipynb\" target=\"_parent\"><img src=\"https://colab.research.google.com/assets/colab-badge.svg\" alt=\"Open In Colab\"/></a>"
      ]
    },
    {
      "cell_type": "markdown",
      "metadata": {
        "id": "EaupJC84mEgS"
      },
      "source": [
        "## Properties\n",
        "Getters(also known as 'accessors') and setters (aka. 'mutators') are used in many object oriented programming languages to ensure the principle of data encapsulation. According to this principle, the attributes of a class are made private to hide and protect them.\n",
        "\n",
        "Unfortunately, it is widespread belief that a proper Python class should encapsulate private attributes by using getters and setters. As soon as one of these programmers introduces a new attribute, he or she will make it a private variable and creates \"automatically\" a getter and a setter for this attribute. Such programmers may even use an editor or an IDE, which automatically creates getters and setters for all private attributes. These tools even warn the programmer if she or he uses a public attribute! Java programmers will wrinkle their brows, screw up their noses, or even scream with horror when they read the following: *The Pythonic way to introduce attributes is to make them public*.\n",
        "\n",
        "We will explain this later. First, we demonstrate in the following example, how we can design a class in a Javaesque way with getters and setters to encapsulate the private attribute self.__x:"
      ]
    },
    {
      "cell_type": "code",
      "metadata": {
        "id": "UcUbsYkel3ah"
      },
      "source": [
        "class P:\n",
        "\n",
        "    def __init__(self, x):\n",
        "        self.__x = x\n",
        "\n",
        "    def get_x(self):\n",
        "        return self.__x\n",
        "\n",
        "    def set_x(self, x):\n",
        "        self.__x = x"
      ],
      "execution_count": 1,
      "outputs": []
    },
    {
      "cell_type": "code",
      "metadata": {
        "colab": {
          "base_uri": "https://localhost:8080/"
        },
        "id": "-mUMTsDR3nR2",
        "outputId": "dd42495f-fb52-4cc7-a6ea-729e23c7ec5d"
      },
      "source": [
        "p1 = P(42)\n",
        "p2 = P(4711)\n",
        "p1.get_x()"
      ],
      "execution_count": 2,
      "outputs": [
        {
          "output_type": "execute_result",
          "data": {
            "text/plain": [
              "42"
            ]
          },
          "metadata": {},
          "execution_count": 2
        }
      ]
    },
    {
      "cell_type": "code",
      "metadata": {
        "colab": {
          "base_uri": "https://localhost:8080/"
        },
        "id": "EyxfO9e53xiS",
        "outputId": "1a722249-c691-45fc-9c2c-7e5d3f408a1b"
      },
      "source": [
        "p1.set_x(47)\n",
        "p1.set_x(p1.get_x()+p2.get_x())\n",
        "p1.get_x()"
      ],
      "execution_count": 3,
      "outputs": [
        {
          "output_type": "execute_result",
          "data": {
            "text/plain": [
              "4758"
            ]
          },
          "metadata": {},
          "execution_count": 3
        }
      ]
    },
    {
      "cell_type": "markdown",
      "metadata": {
        "id": "vKRRVxR94LQw"
      },
      "source": [
        "\n",
        "\n",
        "What do you think about the expression \"p1.set_x(p1.get_x()+p2.get_x())\"? It's ugly, isn't it? It's a lot easier to write an expression like the following, if we had a public attribute x:\n",
        "\n",
        ">p1.x = p1.x + p2.x\n",
        "\n",
        "Such an assignment is easier to write and above all easier to read than the Javaesque expression.\n",
        "\n",
        "Let's rewrite the class P in a Pythonic way. No getter, no setter and instead of the private attribute self.__x we use a public one:\n"
      ]
    },
    {
      "cell_type": "code",
      "metadata": {
        "id": "NUcklOG8390s"
      },
      "source": [
        "class P:\n",
        "\n",
        "    def __init__(self,x):\n",
        "        self.x = x"
      ],
      "execution_count": 4,
      "outputs": []
    },
    {
      "cell_type": "code",
      "metadata": {
        "colab": {
          "base_uri": "https://localhost:8080/"
        },
        "id": "8Y8LpEjJ4TCx",
        "outputId": "a7426a23-f133-4aeb-f689-d975a1c16632"
      },
      "source": [
        "p1 = P(42)\n",
        "p2 = P(4711)\n",
        "p1.x"
      ],
      "execution_count": 5,
      "outputs": [
        {
          "output_type": "execute_result",
          "data": {
            "text/plain": [
              "42"
            ]
          },
          "metadata": {},
          "execution_count": 5
        }
      ]
    },
    {
      "cell_type": "code",
      "metadata": {
        "colab": {
          "base_uri": "https://localhost:8080/"
        },
        "id": "KTKlfrXB4VaH",
        "outputId": "25fc2c94-cb00-486f-caae-0e7342910391"
      },
      "source": [
        "p1.x = 47\n",
        "p1.x = p1.x + p2.x\n",
        "p1.x"
      ],
      "execution_count": 6,
      "outputs": [
        {
          "output_type": "execute_result",
          "data": {
            "text/plain": [
              "4758"
            ]
          },
          "metadata": {},
          "execution_count": 6
        }
      ]
    },
    {
      "cell_type": "markdown",
      "metadata": {
        "id": "qTEDUogr5FeX"
      },
      "source": [
        "\"But, but, but, but, but ... \", we can hear them howling and screaming, \"But there is NO data ENCAPSULATION!\" Yes, in this case there is no data encapsulation. We don't need it in this case. The only thing get_x and set_x in our starting example did was \"getting the data through\" without doing anything additionally.\n",
        "\n",
        "But what happens if we want to change the implementation in the future? This is a serious argument. Let's assume we want to change the implementation like this: The attribute x can have values between 0 and 1000. If a value larger than 1000 is assigned, x should be set to 1000. Correspondingly, x should be set to 0, if the value is less than 0."
      ]
    },
    {
      "cell_type": "code",
      "metadata": {
        "id": "xz7rKGpX4Yfe"
      },
      "source": [
        "class P:\n",
        "    def __init__(self, x):\n",
        "        self.set_x(x)\n",
        "\n",
        "    def get_x(self):\n",
        "        return self.__x\n",
        "\n",
        "    def set_x(self, x):\n",
        "        if x < 0:\n",
        "            self.__x = 0\n",
        "        elif x > 1000:\n",
        "            self.__x = 1000\n",
        "        else:\n",
        "            self.__x = x"
      ],
      "execution_count": 7,
      "outputs": []
    },
    {
      "cell_type": "code",
      "metadata": {
        "colab": {
          "base_uri": "https://localhost:8080/"
        },
        "id": "a97ZeLz65jKf",
        "outputId": "a035eaaf-17a0-455f-c633-d47096972ab1"
      },
      "source": [
        "p1 = P(1001)\n",
        "p1.get_x()"
      ],
      "execution_count": 8,
      "outputs": [
        {
          "output_type": "execute_result",
          "data": {
            "text/plain": [
              "1000"
            ]
          },
          "metadata": {},
          "execution_count": 8
        }
      ]
    },
    {
      "cell_type": "code",
      "metadata": {
        "colab": {
          "base_uri": "https://localhost:8080/"
        },
        "id": "kEyNh39N5l8z",
        "outputId": "e0104f64-d151-4903-995f-46bba68093b6"
      },
      "source": [
        "p2 = P(15)\n",
        "p2.get_x()"
      ],
      "execution_count": 10,
      "outputs": [
        {
          "output_type": "execute_result",
          "data": {
            "text/plain": [
              "15"
            ]
          },
          "metadata": {},
          "execution_count": 10
        }
      ]
    },
    {
      "cell_type": "code",
      "metadata": {
        "colab": {
          "base_uri": "https://localhost:8080/"
        },
        "id": "tGBQvI055nag",
        "outputId": "e9368940-acda-404c-aa7c-4184aead7a47"
      },
      "source": [
        "p3 = P(-1)\n",
        "p3.get_x()"
      ],
      "execution_count": 11,
      "outputs": [
        {
          "output_type": "execute_result",
          "data": {
            "text/plain": [
              "0"
            ]
          },
          "metadata": {},
          "execution_count": 11
        }
      ]
    },
    {
      "cell_type": "markdown",
      "metadata": {
        "id": "4DzqPBI35on4"
      },
      "source": [
        "In Java e.g. people are recommended to use only private attributes with getters and setters, so that they can change the implementation without having to change the interface.\n",
        "\n",
        "But Python offers a solution to this problem. The solution is called properties!\n",
        "\n",
        "The class with a property looks like this:"
      ]
    },
    {
      "cell_type": "code",
      "metadata": {
        "id": "jF-b42DX6AuV"
      },
      "source": [
        "class P:\n",
        "\n",
        "    def __init__(self, x):\n",
        "        self.x = x\n",
        "\n",
        "    @property\n",
        "    def x(self):\n",
        "        return self.__x\n",
        "\n",
        "    @x.setter\n",
        "    def x(self, x):\n",
        "        if x < 0:\n",
        "            self.__x = 0\n",
        "        elif x > 1000:\n",
        "            self.__x = 1000\n",
        "        else:\n",
        "            self.__x = x"
      ],
      "execution_count": 12,
      "outputs": []
    },
    {
      "cell_type": "markdown",
      "metadata": {
        "id": "Xp08u2Ya6cQA"
      },
      "source": [
        "A method which is used for getting a value is decorated with \"@property\", i.e. we put this line directly in front of the header. The method which has to function as the setter is decorated with \"@x.setter\". If the function had been called \"f\", we would have to decorate it with \"@f.setter\". Two things are noteworthy: We just put the code line \"self.x = x\" in the \\_\\_init\\_\\_ method and the property method x is used to check the limits of the values. The second interesting thing is that we wrote \"two\" methods with the same name and a different number of parameters \"def x(self)\" and \"def x(self,x)\". We have learned in a previous chapter of our course that this is not possible. It works here due to the decorating:"
      ]
    },
    {
      "cell_type": "code",
      "metadata": {
        "colab": {
          "base_uri": "https://localhost:8080/"
        },
        "id": "MtM4Jssh6H4G",
        "outputId": "c0e2f8ed-9924-4fd5-aef0-cc219e684c3c"
      },
      "source": [
        "p1 = P(1001)\n",
        "p1.x"
      ],
      "execution_count": 13,
      "outputs": [
        {
          "output_type": "execute_result",
          "data": {
            "text/plain": [
              "1000"
            ]
          },
          "metadata": {},
          "execution_count": 13
        }
      ]
    },
    {
      "cell_type": "code",
      "metadata": {
        "colab": {
          "base_uri": "https://localhost:8080/"
        },
        "id": "uNiPKwHn6lLI",
        "outputId": "bc5a0774-7ae4-4a4b-acbb-9b7401ffa0bb"
      },
      "source": [
        "p1.x = -12\n",
        "p1.x"
      ],
      "execution_count": 14,
      "outputs": [
        {
          "output_type": "execute_result",
          "data": {
            "text/plain": [
              "0"
            ]
          },
          "metadata": {},
          "execution_count": 14
        }
      ]
    },
    {
      "cell_type": "markdown",
      "metadata": {
        "id": "8NIPDPFz6xX7"
      },
      "source": [
        "Alternatively, we could have used a different syntax without decorators to define the property. As you can see, the code is definitely less elegant and we have to make sure that we use the getter function in the \\_\\_init\\_\\_ method again:"
      ]
    },
    {
      "cell_type": "code",
      "metadata": {
        "id": "1EOSZuyf6n8R"
      },
      "source": [
        "class P:\n",
        "\n",
        "    def __init__(self, x):\n",
        "        self.set_x(x)\n",
        "\n",
        "    def get_x(self):\n",
        "        return self.__x\n",
        "\n",
        "    def set_x(self, x):\n",
        "        if x < 0:\n",
        "            self.__x = 0\n",
        "        elif x > 1000:\n",
        "            self.__x = 1000\n",
        "        else:\n",
        "            self.__x = x\n",
        "\n",
        "    x = property(get_x, set_x)"
      ],
      "execution_count": 15,
      "outputs": []
    },
    {
      "cell_type": "markdown",
      "metadata": {
        "id": "_9W0Iqok6_H3"
      },
      "source": [
        "There is still another problem in the most recent version. We have now two ways to access or change the value of x: Either by using \"p1.x = 42\" or by \"p1.set_x(42)\". This way we are violating one of the fundamentals of Python: \"There should be one-- and preferably only one --obvious way to do it.\" (see Zen of Python)\n",
        "\n",
        "We can easily fix this problem by turning the getter and the setter methods into private methods, which can't be accessed anymore by the users of our class P:"
      ]
    },
    {
      "cell_type": "code",
      "metadata": {
        "id": "7uHlQ7W662i1"
      },
      "source": [
        "class P:\n",
        "\n",
        "    def __init__(self, x):\n",
        "        self.__set_x(x)\n",
        "\n",
        "    def __get_x(self):\n",
        "        return self.__x\n",
        "\n",
        "    def __set_x(self, x):\n",
        "        if x < 0:\n",
        "            self.__x = 0\n",
        "        elif x > 1000:\n",
        "            self.__x = 1000\n",
        "        else:\n",
        "            self.__x = x\n",
        "\n",
        "    x = property(__get_x, __set_x)"
      ],
      "execution_count": 16,
      "outputs": []
    },
    {
      "cell_type": "markdown",
      "metadata": {
        "id": "Lc4S5Hi07Y5m"
      },
      "source": [
        "Even though we fixed this problem by using a private getter and setter, the version with the decorator \"@property\" is the Pythonic way to do it!"
      ]
    },
    {
      "cell_type": "markdown",
      "metadata": {
        "id": "1Tti8XPx8swv"
      },
      "source": [
        "## Public Instead of Private attributes\n",
        "Let's summarize the usage of private and public attributes, getters and setters, and properties: Let's assume that we are designing a new class and we pondering about an instance or class attribute \"OurAtt\", which we need for the design of our class. We have to observe the following issues:\n",
        "\n",
        "*    Will the value of \"OurAtt\" be needed by the possible users of our class?\n",
        "*    If not, we can or should make it a private attribute.\n",
        "*    If it has to be accessed, we make it accessible as a public attribute\n",
        "*    We will define it as a private attribute with the corresponding property, if and only if we have to do some checks or transformation of the data. (As an example, you can have a look again at our class P, where the attribute has to be in the interval between 0 and 1000, which is ensured by the property \"x\")\n",
        "*    Alternatively, you could use a getter and a setter, but using a property is the Pythonic way to deal with it!\n",
        "\n",
        "Let's assume we defined \"OurAtt\" as a public attribute. Our class has been successfully used by other users for quite a while."
      ]
    },
    {
      "cell_type": "code",
      "metadata": {
        "colab": {
          "base_uri": "https://localhost:8080/"
        },
        "id": "hnVZsZPy7Ul_",
        "outputId": "af59e473-1f68-4a3a-f37b-b28c96291896"
      },
      "source": [
        "class OurClass:\n",
        "\n",
        "    def __init__(self, a):\n",
        "        self.OurAtt = a\n",
        "\n",
        "\n",
        "x = OurClass(10)\n",
        "print(x.OurAtt)"
      ],
      "execution_count": 17,
      "outputs": [
        {
          "output_type": "stream",
          "name": "stdout",
          "text": [
            "10\n"
          ]
        }
      ]
    },
    {
      "cell_type": "markdown",
      "metadata": {
        "id": "6lMF6li59Ic-"
      },
      "source": [
        "Now comes the point which frightens some traditional OOPistas out of their wits: Imagine \"OurAtt\" has been used as an integer. Now, our class has to ensure that \"OurAtt\" has to be a value between 0 and 1000? Without property, this is really a horrible scenario! Due to properties it's easy: We create a property version of \"OurAtt\"."
      ]
    },
    {
      "cell_type": "code",
      "metadata": {
        "colab": {
          "base_uri": "https://localhost:8080/"
        },
        "id": "NsJDWrvd88N0",
        "outputId": "5bafff6e-c991-4e5f-ff42-68a8bf65cc9f"
      },
      "source": [
        "class OurClass:\n",
        "\n",
        "    def __init__(self, a):\n",
        "        self.OurAtt = a\n",
        "\n",
        "    @property\n",
        "    def OurAtt(self):\n",
        "        return self.__OurAtt\n",
        "\n",
        "    @OurAtt.setter\n",
        "    def OurAtt(self, val):\n",
        "        if val < 0:\n",
        "            self.__OurAtt = 0\n",
        "        elif val > 1000:\n",
        "            self.__OurAtt = 1000\n",
        "        else:\n",
        "            self.__OurAtt = val\n",
        "\n",
        "\n",
        "x = OurClass(10)\n",
        "print(x.OurAtt)"
      ],
      "execution_count": 18,
      "outputs": [
        {
          "output_type": "stream",
          "name": "stdout",
          "text": [
            "10\n"
          ]
        }
      ]
    },
    {
      "cell_type": "markdown",
      "metadata": {
        "id": "nxVQFKLU9SbZ"
      },
      "source": [
        "\n",
        "\n",
        "This is great, isn't it? You can start with the simplest implementation imaginable, and you are free to later migrate to a property version without having to change the interface! So properties are not just a replacement for getters and setters!\n",
        "\n",
        "Something else you might have already noticed: For the users of a class, properties are syntactically identical to ordinary attributes.\n"
      ]
    }
  ]
}