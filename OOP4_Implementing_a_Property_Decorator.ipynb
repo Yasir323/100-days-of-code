{
  "nbformat": 4,
  "nbformat_minor": 0,
  "metadata": {
    "colab": {
      "name": "OOP4-Implementing a Property Decorator.ipynb",
      "provenance": [],
      "authorship_tag": "ABX9TyMUu1Oy74o6Tf/GZxeTJWkQ",
      "include_colab_link": true
    },
    "kernelspec": {
      "name": "python3",
      "display_name": "Python 3"
    },
    "language_info": {
      "name": "python"
    }
  },
  "cells": [
    {
      "cell_type": "markdown",
      "metadata": {
        "id": "view-in-github",
        "colab_type": "text"
      },
      "source": [
        "<a href=\"https://colab.research.google.com/github/Yasir323/100-days-of-code/blob/master/OOP4_Implementing_a_Property_Decorator.ipynb\" target=\"_parent\"><img src=\"https://colab.research.google.com/assets/colab-badge.svg\" alt=\"Open In Colab\"/></a>"
      ]
    },
    {
      "cell_type": "code",
      "metadata": {
        "id": "9DW_ic_a9e2E"
      },
      "source": [
        "class OurProperty:\n",
        "    \"\"\" emulation of the property class \n",
        "        for educational purposes \"\"\"\n",
        "\n",
        "    def __init__(self, \n",
        "                 fget=None, \n",
        "                 fset=None, \n",
        "                 fdel=None, \n",
        "                 doc=None):\n",
        "        \"\"\"Attributes of 'OurDecorator'\n",
        "        fget\n",
        "            function to be used for getting \n",
        "            an attribute value\n",
        "        fset\n",
        "            function to be used for setting \n",
        "            an attribute value\n",
        "        fdel\n",
        "            function to be used for deleting \n",
        "            an attribute\n",
        "        doc\n",
        "            the docstring\n",
        "        \"\"\"\n",
        "        self.fget = fget\n",
        "        self.fset = fset\n",
        "        self.fdel = fdel\n",
        "        if doc is None and fget is not None:\n",
        "            doc = fget.__doc__\n",
        "        self.__doc__ = doc\n",
        "\n",
        "    def __get__(self, obj, objtype=None):\n",
        "        if obj is None:\n",
        "            return self\n",
        "        if self.fget is None:\n",
        "            raise AttributeError(\"unreadable attribute\")\n",
        "        return self.fget(obj)\n",
        "\n",
        "    def __set__(self, obj, value):\n",
        "        if self.fset is None:\n",
        "            raise AttributeError(\"can't set attribute\")\n",
        "        self.fset(obj, value)\n",
        "\n",
        "    def __delete__(self, obj):\n",
        "        if self.fdel is None:\n",
        "            raise AttributeError(\"can't delete attribute\")\n",
        "        self.fdel(obj)\n",
        "\n",
        "    def getter(self, fget):\n",
        "        return type(self)(fget, self.fset, self.fdel, self.__doc__)\n",
        "\n",
        "    def setter(self, fset):\n",
        "        return type(self)(self.fget, fset, self.fdel, self.__doc__)\n",
        "\n",
        "    def deleter(self, fdel):\n",
        "        return type(self)(self.fget, self.fset, fdel, self.__doc__)"
      ],
      "execution_count": 1,
      "outputs": []
    },
    {
      "cell_type": "markdown",
      "metadata": {
        "id": "lFJb6llFMSDS"
      },
      "source": [
        "We need another class to use the previously defined class and to demonstrate how the property class decorator works. To continue the tradition of the previous chapters of our Python tutorial we will again write a Robot class. We will define a property in this example class to demonstrate the usage of our previously defined property class or better 'our_decorator' class. When you run the code, you can see \\_\\_init\\_\\_ of 'our_property' will be called 'fget' set to a reference to the 'getter' function of 'city'. The attribute 'city' is an instance of the 'our_property' class. The 'our'property' class provides another decorator 'setter' for the setter functionality. We apply this with '@city.setter'"
      ]
    },
    {
      "cell_type": "code",
      "metadata": {
        "id": "lls2Rg-OMSqD"
      },
      "source": [
        "class Robot:\n",
        "    \n",
        "    def __init__(self, city):\n",
        "        self.city = city\n",
        "        \n",
        "    @OurProperty\n",
        "    def city(self):\n",
        "        print(\"The Property 'city' will be returned now:\")\n",
        "        return self.__city\n",
        "    \n",
        "    @city.setter\n",
        "    def city(self, city):\n",
        "        print(\"'city' will be set\")\n",
        "        self.__city = city"
      ],
      "execution_count": 3,
      "outputs": []
    },
    {
      "cell_type": "markdown",
      "metadata": {
        "id": "8jv9wW81MZz-"
      },
      "source": [
        "\n",
        "\n",
        "'Robot.city' is an instance of the 'our_property' class as we can see in the following:"
      ]
    },
    {
      "cell_type": "code",
      "metadata": {
        "colab": {
          "base_uri": "https://localhost:8080/"
        },
        "id": "D6_2ht6BMhuy",
        "outputId": "5c10a470-66c8-4a71-f742-2b5eb929e784"
      },
      "source": [
        "type(Robot.city)"
      ],
      "execution_count": 4,
      "outputs": [
        {
          "output_type": "execute_result",
          "data": {
            "text/plain": [
              "__main__.OurProperty"
            ]
          },
          "metadata": {},
          "execution_count": 4
        }
      ]
    },
    {
      "cell_type": "markdown",
      "metadata": {
        "id": "SuJBE8BdMn-Q"
      },
      "source": [
        "If you change the line '@OurProperty' to '@property' the program will behave totally the same, but it will be using the original Python class 'property' and not our 'OurProperty' class. We will create instances of the Robot class in the following Python code:"
      ]
    },
    {
      "cell_type": "code",
      "metadata": {
        "colab": {
          "base_uri": "https://localhost:8080/"
        },
        "id": "D-kvhBRQMkIO",
        "outputId": "1559e05d-fb33-4566-81c9-4f19ab2411b5"
      },
      "source": [
        "print(\"Instantiating a Root and setting 'city' to 'Berlin'\")\n",
        "robo = Robot(\"Berlin\")\n",
        "print(\"The value is: \", robo.city)\n",
        "print(\"Our robot moves now to Frankfurt:\")\n",
        "robo.city = \"Frankfurt\"\n",
        "print(\"The value is: \", robo.city)"
      ],
      "execution_count": 5,
      "outputs": [
        {
          "output_type": "stream",
          "name": "stdout",
          "text": [
            "Instantiating a Root and setting 'city' to 'Berlin'\n",
            "'city' will be set\n",
            "The Property 'city' will be returned now:\n",
            "The value is:  Berlin\n",
            "Our robot moves now to Frankfurt:\n",
            "'city' will be set\n",
            "The Property 'city' will be returned now:\n",
            "The value is:  Frankfurt\n"
          ]
        }
      ]
    },
    {
      "cell_type": "markdown",
      "metadata": {
        "id": "3sr6pYldM7fL"
      },
      "source": [
        "\n",
        "\n",
        "Let's make our property implementation a little bit more talkative with some print functions to see what is going on. We also change the name to 'chatty_property' for obvious reasons:\n"
      ]
    },
    {
      "cell_type": "code",
      "metadata": {
        "id": "P7ST9cttMzqI"
      },
      "source": [
        "class chatty_property:\n",
        "    \"\"\" emulation of the property class \n",
        "        for educational purposes \"\"\"\n",
        "\n",
        "    def __init__(self, \n",
        "                 fget=None, \n",
        "                 fset=None, \n",
        "                 fdel=None, \n",
        "                 doc=None):\n",
        "        \n",
        "        self.fget = fget\n",
        "        self.fset = fset\n",
        "        self.fdel = fdel\n",
        "        print(\"\\n__init__ called with:)\")\n",
        "        print(f\"fget={fget}, fset={fset}, fdel={fdel}, doc={doc}\")\n",
        "        if doc is None and fget is not None:\n",
        "            print(f\"doc set to docstring of {fget.__name__} method\")\n",
        "            doc = fget.__doc__\n",
        "        self.__doc__ = doc\n",
        "\n",
        "    def __get__(self, obj, objtype=None):\n",
        "        if obj is None:\n",
        "            return self\n",
        "        if self.fget is None:\n",
        "            raise AttributeError(\"unreadable attribute\")\n",
        "        return self.fget(obj)\n",
        "\n",
        "    def __set__(self, obj, value):\n",
        "        if self.fset is None:\n",
        "            raise AttributeError(\"can't set attribute\")\n",
        "        self.fset(obj, value)\n",
        "\n",
        "    def __delete__(self, obj):\n",
        "        if self.fdel is None:\n",
        "            raise AttributeError(\"can't delete attribute\")\n",
        "        self.fdel(obj)\n",
        "\n",
        "    def getter(self, fget):\n",
        "        return type(self)(fget, self.fset, self.fdel, self.__doc__)\n",
        "\n",
        "    def setter(self, fset):\n",
        "        print(type(self))\n",
        "        return type(self)(self.fget, fset, self.fdel, self.__doc__)\n",
        "\n",
        "    def deleter(self, fdel):\n",
        "        return type(self)(self.fget, self.fset, fdel, self.__doc__)"
      ],
      "execution_count": 6,
      "outputs": []
    },
    {
      "cell_type": "code",
      "metadata": {
        "colab": {
          "base_uri": "https://localhost:8080/"
        },
        "id": "sdMqbnxfM-u-",
        "outputId": "b0608f07-9930-41e8-e8b6-be910a8b7fdb"
      },
      "source": [
        "class Robot:\n",
        "    \n",
        "    def __init__(self, city):\n",
        "        self.city = city\n",
        "        \n",
        "    @chatty_property\n",
        "    def city(self):\n",
        "        \"\"\" city attribute of Robot \"\"\"\n",
        "        print(\"The Property 'city' will be returned now:\")\n",
        "        return self.__city\n",
        "    \n",
        "    @city.setter\n",
        "    def city(self, city):\n",
        "        print(\"'city' will be set\")\n",
        "        self.__city = city"
      ],
      "execution_count": 7,
      "outputs": [
        {
          "output_type": "stream",
          "name": "stdout",
          "text": [
            "\n",
            "__init__ called with:)\n",
            "fget=<function Robot.city at 0x7f1749bc1200>, fset=None, fdel=None, doc=None\n",
            "doc set to docstring of city method\n",
            "<class '__main__.chatty_property'>\n",
            "\n",
            "__init__ called with:)\n",
            "fget=<function Robot.city at 0x7f1749bc1200>, fset=<function Robot.city at 0x7f1749c0ec20>, fdel=None, doc= city attribute of Robot \n"
          ]
        }
      ]
    }
  ]
}