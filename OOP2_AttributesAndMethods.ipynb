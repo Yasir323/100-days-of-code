{
  "nbformat": 4,
  "nbformat_minor": 0,
  "metadata": {
    "colab": {
      "name": "OOP2-AttributesAndMethods.ipynb",
      "provenance": [],
      "authorship_tag": "ABX9TyMR+AjgKPINBlMzeb3TBT2N",
      "include_colab_link": true
    },
    "kernelspec": {
      "name": "python3",
      "display_name": "Python 3"
    },
    "language_info": {
      "name": "python"
    }
  },
  "cells": [
    {
      "cell_type": "markdown",
      "metadata": {
        "id": "view-in-github",
        "colab_type": "text"
      },
      "source": [
        "<a href=\"https://colab.research.google.com/github/Yasir323/100-days-of-code/blob/master/OOP2_AttributesAndMethods.ipynb\" target=\"_parent\"><img src=\"https://colab.research.google.com/assets/colab-badge.svg\" alt=\"Open In Colab\"/></a>"
      ]
    },
    {
      "cell_type": "markdown",
      "metadata": {
        "id": "TNdAtvqrFPAW"
      },
      "source": [
        "## Class Attributes\n",
        "Instance attributes are owned by the specific instances of a class. That is, for two different instances, the instance attributes are usually different.\n",
        "\n",
        "We can also define attributes at the class level. Class attributes are attributes which are owned by the class itself. They will be shared by all the instances of the class. Therefore they have the same value for every instance. We define class attributes outside all the methods, usually they are placed at the top, right below the class header."
      ]
    },
    {
      "cell_type": "code",
      "metadata": {
        "colab": {
          "base_uri": "https://localhost:8080/"
        },
        "id": "LJUDLPPiFNZy",
        "outputId": "61268579-4aa2-45f4-9df3-5577f836884f"
      },
      "source": [
        "class A:\n",
        "    a = \"I am a class attribute!\"\n",
        "\n",
        "x = A()\n",
        "y = A()\n",
        "print(x.a)\n",
        "print(y.a)"
      ],
      "execution_count": 1,
      "outputs": [
        {
          "output_type": "stream",
          "name": "stdout",
          "text": [
            "I am a class attribute!\n",
            "I am a class attribute!\n"
          ]
        }
      ]
    },
    {
      "cell_type": "code",
      "metadata": {
        "colab": {
          "base_uri": "https://localhost:8080/"
        },
        "id": "WJ20pjcuFsbT",
        "outputId": "b122234a-ac29-4799-b312-d97f464d503a"
      },
      "source": [
        "print(A.a)"
      ],
      "execution_count": 2,
      "outputs": [
        {
          "output_type": "stream",
          "name": "stdout",
          "text": [
            "I am a class attribute!\n"
          ]
        }
      ]
    },
    {
      "cell_type": "markdown",
      "metadata": {
        "id": "4Gh8SOeoFxMk"
      },
      "source": [
        "**Note:**\n",
        ">If you want to change a class attribute, you have to do it with the notation ClassName.AttributeName. Otherwise, you will create a new instance variable. \n",
        "\n",
        "We demonstrate this in the following example:"
      ]
    },
    {
      "cell_type": "code",
      "metadata": {
        "id": "uOMhnFv9F4PV"
      },
      "source": [
        "class A:\n",
        "    a = \"I am a class attribute!\"\n",
        " \n",
        "x = A()\n",
        "y = A()\n",
        "x.a = \"This creates a new instance attribute for x!\""
      ],
      "execution_count": 3,
      "outputs": []
    },
    {
      "cell_type": "code",
      "metadata": {
        "colab": {
          "base_uri": "https://localhost:8080/"
        },
        "id": "aj5ro8R2GM99",
        "outputId": "8964db05-651a-48fc-ecb4-fa2e3756e8ae"
      },
      "source": [
        "print(x.a)\n",
        "print(y.a)\n",
        "print(A.a)"
      ],
      "execution_count": 5,
      "outputs": [
        {
          "output_type": "stream",
          "name": "stdout",
          "text": [
            "This creates a new instance attribute for x!\n",
            "I am a class attribute!\n",
            "I am a class attribute!\n"
          ]
        }
      ]
    },
    {
      "cell_type": "code",
      "metadata": {
        "colab": {
          "base_uri": "https://localhost:8080/"
        },
        "id": "pYIPD4WOGS0q",
        "outputId": "0dcc4710-8ae4-4985-8aef-5308ce64b800"
      },
      "source": [
        "A.a = \"This is changing the class attribute 'a'!\"\n",
        "print(x.a)\n",
        "print(y.a)\n",
        "print(A.a)"
      ],
      "execution_count": 6,
      "outputs": [
        {
          "output_type": "stream",
          "name": "stdout",
          "text": [
            "This creates a new instance attribute for x!\n",
            "This is changing the class attribute 'a'!\n",
            "This is changing the class attribute 'a'!\n"
          ]
        }
      ]
    },
    {
      "cell_type": "markdown",
      "metadata": {
        "id": "ClR20VLoGmt6"
      },
      "source": [
        "> Note that x.a is still the previously created instance variable.\n",
        "\n",
        "\n",
        "\n",
        "Python's class attributes and object attributes are stored in separate dictionaries, as we can see here:"
      ]
    },
    {
      "cell_type": "code",
      "metadata": {
        "colab": {
          "base_uri": "https://localhost:8080/"
        },
        "id": "K9W0FcO0GejU",
        "outputId": "6bd635d7-000e-4dca-f275-e88785dc84b9"
      },
      "source": [
        "x.__dict__"
      ],
      "execution_count": 7,
      "outputs": [
        {
          "output_type": "execute_result",
          "data": {
            "text/plain": [
              "{'a': 'This creates a new instance attribute for x!'}"
            ]
          },
          "metadata": {},
          "execution_count": 7
        }
      ]
    },
    {
      "cell_type": "code",
      "metadata": {
        "colab": {
          "base_uri": "https://localhost:8080/"
        },
        "id": "iePOt6ObG2KC",
        "outputId": "f3b104f5-6f2e-4409-bc01-a41a55296203"
      },
      "source": [
        "y.__dict__"
      ],
      "execution_count": 8,
      "outputs": [
        {
          "output_type": "execute_result",
          "data": {
            "text/plain": [
              "{}"
            ]
          },
          "metadata": {},
          "execution_count": 8
        }
      ]
    },
    {
      "cell_type": "code",
      "metadata": {
        "colab": {
          "base_uri": "https://localhost:8080/"
        },
        "id": "e5ae_SoBG4Fg",
        "outputId": "3edc1042-912b-4924-af9f-6c4401a4d89f"
      },
      "source": [
        "A.__dict__"
      ],
      "execution_count": 9,
      "outputs": [
        {
          "output_type": "execute_result",
          "data": {
            "text/plain": [
              "mappingproxy({'__dict__': <attribute '__dict__' of 'A' objects>,\n",
              "              '__doc__': None,\n",
              "              '__module__': '__main__',\n",
              "              '__weakref__': <attribute '__weakref__' of 'A' objects>,\n",
              "              'a': \"This is changing the class attribute 'a'!\"})"
            ]
          },
          "metadata": {},
          "execution_count": 9
        }
      ]
    },
    {
      "cell_type": "code",
      "metadata": {
        "colab": {
          "base_uri": "https://localhost:8080/"
        },
        "id": "p4m-hxC_G6IO",
        "outputId": "c5488eaa-f712-4274-fdd6-bb5b5a6ad314"
      },
      "source": [
        "x.__class__.__dict__"
      ],
      "execution_count": 10,
      "outputs": [
        {
          "output_type": "execute_result",
          "data": {
            "text/plain": [
              "mappingproxy({'__dict__': <attribute '__dict__' of 'A' objects>,\n",
              "              '__doc__': None,\n",
              "              '__module__': '__main__',\n",
              "              '__weakref__': <attribute '__weakref__' of 'A' objects>,\n",
              "              'a': \"This is changing the class attribute 'a'!\"})"
            ]
          },
          "metadata": {},
          "execution_count": 10
        }
      ]
    },
    {
      "cell_type": "markdown",
      "metadata": {
        "id": "OsE52cyWH3OP"
      },
      "source": [
        "In the following example, we demonstrate, how you can count instance with class attributes. All we have to do is:\n",
        "\n",
        "*    To create a class attribute, which we call \"counter\" in our example\n",
        "*    To increment this attribute by 1 every time a new instance is created\n",
        "*    To decrement the attribute by 1 every time an instance is destroyed"
      ]
    },
    {
      "cell_type": "code",
      "metadata": {
        "colab": {
          "base_uri": "https://localhost:8080/"
        },
        "id": "r02vyThgG-QC",
        "outputId": "81605df9-ea52-43f9-907f-65b6b441a285"
      },
      "source": [
        "class C: \n",
        "\n",
        "    counter = 0\n",
        "    \n",
        "    def __init__(self): \n",
        "        type(self).counter += 1\n",
        "\n",
        "    def __del__(self):\n",
        "        type(self).counter -= 1\n",
        "\n",
        "if __name__ == \"__main__\":\n",
        "    x = C()\n",
        "    print(\"Number of instances: : \" + str(C.counter))\n",
        "    y = C()\n",
        "    print(\"Number of instances: : \" + str(C.counter))\n",
        "    del x\n",
        "    print(\"Number of instances: : \" + str(C.counter))\n",
        "    del y\n",
        "    print(\"Number of instances: : \" + str(C.counter))"
      ],
      "execution_count": 11,
      "outputs": [
        {
          "output_type": "stream",
          "name": "stdout",
          "text": [
            "Number of instances: : 1\n",
            "Number of instances: : 2\n",
            "Number of instances: : 1\n",
            "Number of instances: : 0\n"
          ]
        }
      ]
    },
    {
      "cell_type": "markdown",
      "metadata": {
        "id": "fAS1neUjVTsp"
      },
      "source": [
        "> Principially, we could have written C.counter instead of type(self).counter, because type(self) will be evaluated to \"C\" anyway. However we will understand later, that type(self) makes sense, if we use such a class as a superclass."
      ]
    },
    {
      "cell_type": "markdown",
      "metadata": {
        "id": "d8QJo3adVVcL"
      },
      "source": [
        "## Static Mathods\n",
        "We used class attributes as public attributes in the previous section. Of course, we can make public attributes private as well. We can do this by adding the double underscore again. If we do so, we need a possibility to access and change these private class attributes. We could use instance methods for this purpose:"
      ]
    },
    {
      "cell_type": "code",
      "metadata": {
        "colab": {
          "base_uri": "https://localhost:8080/"
        },
        "id": "d_iJSb8BIAC2",
        "outputId": "13ff02a4-a7d8-4f7b-8cb0-32fbd5166426"
      },
      "source": [
        "class Robot:\n",
        "    __counter = 0\n",
        "    \n",
        "    def __init__(self):\n",
        "        type(self).__counter += 1\n",
        "        \n",
        "    def RobotInstances(self):\n",
        "        return Robot.__counter\n",
        "        \n",
        "\n",
        "if __name__ == \"__main__\":\n",
        "    x = Robot()\n",
        "    print(x.RobotInstances())\n",
        "    y = Robot()\n",
        "    print(x.RobotInstances())"
      ],
      "execution_count": 12,
      "outputs": [
        {
          "output_type": "stream",
          "name": "stdout",
          "text": [
            "1\n",
            "2\n"
          ]
        }
      ]
    },
    {
      "cell_type": "markdown",
      "metadata": {
        "id": "7ksvCEskV4mB"
      },
      "source": [
        "This is not a good idea for two reasons: First of all, because the number of robots has nothing to do with a single robot instance and secondly because we can't inquire the number of robots before we create an instance. If we try to invoke the method with the class name Robot.RobotInstances(), we get an error message, because it needs an instance as an argument."
      ]
    },
    {
      "cell_type": "code",
      "metadata": {
        "colab": {
          "base_uri": "https://localhost:8080/"
        },
        "id": "GSch5FDnV5tu",
        "outputId": "71aa842b-91b8-4cc3-a62e-66f975935e70"
      },
      "source": [
        "try:\n",
        "    Robot.RobotInstances()\n",
        "except TypeError as e:\n",
        "    print(\"Missing 1 positional argument 'self'\")"
      ],
      "execution_count": 13,
      "outputs": [
        {
          "output_type": "stream",
          "name": "stdout",
          "text": [
            "Missing 1 positional argument 'self'\n"
          ]
        }
      ]
    },
    {
      "cell_type": "markdown",
      "metadata": {
        "id": "QfuqNo9_WQC2"
      },
      "source": [
        "The next idea, which still doesn't solve our problem, is omitting the parameter \"self\":"
      ]
    },
    {
      "cell_type": "code",
      "metadata": {
        "id": "UKziXWHdWKzd"
      },
      "source": [
        "class Robot:\n",
        "    __counter = 0\n",
        "    \n",
        "    def __init__(self):\n",
        "        type(self).__counter += 1\n",
        "        \n",
        "    def RobotInstances():\n",
        "        return Robot.__counter"
      ],
      "execution_count": 14,
      "outputs": []
    },
    {
      "cell_type": "markdown",
      "metadata": {
        "id": "H7zVTH-HWVuT"
      },
      "source": [
        "Now it's possible to access the method via the class name, but we can't call it via an instance:"
      ]
    },
    {
      "cell_type": "code",
      "metadata": {
        "colab": {
          "base_uri": "https://localhost:8080/"
        },
        "id": "kLg8fhQ_WSYx",
        "outputId": "73664235-db6d-4bfa-b212-324c6520cc69"
      },
      "source": [
        "Robot.RobotInstances()"
      ],
      "execution_count": 15,
      "outputs": [
        {
          "output_type": "execute_result",
          "data": {
            "text/plain": [
              "0"
            ]
          },
          "metadata": {},
          "execution_count": 15
        }
      ]
    },
    {
      "cell_type": "code",
      "metadata": {
        "colab": {
          "base_uri": "https://localhost:8080/"
        },
        "id": "VQ1HNpfpWZbN",
        "outputId": "3ac25239-1923-4245-ba1d-21273defc273"
      },
      "source": [
        "x = Robot()\n",
        "try:\n",
        "    x.RobotInstances()\n",
        "except TypeError as e:\n",
        "    print('RobotInstances() takes 0 positional arguments but 1 was given.')"
      ],
      "execution_count": 18,
      "outputs": [
        {
          "output_type": "stream",
          "name": "stdout",
          "text": [
            "RobotInstances() takes 0 positional arguments but 1 was given.\n"
          ]
        }
      ]
    },
    {
      "cell_type": "markdown",
      "metadata": {
        "id": "b6mOfM4uW1Zz"
      },
      "source": [
        "So, what do we want? We want a method, which we can call via the class name or via the instance name without the necessity of passing a reference to an instance to it.\n",
        "\n",
        "The solution lies in **static methods**, which don't need a reference to an instance."
      ]
    },
    {
      "cell_type": "code",
      "metadata": {
        "colab": {
          "base_uri": "https://localhost:8080/"
        },
        "id": "FLWTWdd8WcOl",
        "outputId": "e782fdcb-cecf-478c-bf59-346dd20592a7"
      },
      "source": [
        "class Robot:\n",
        "    __counter = 0\n",
        "    \n",
        "    def __init__(self):\n",
        "        type(self).__counter += 1\n",
        "        \n",
        "    @staticmethod\n",
        "    def RobotInstances():\n",
        "        return Robot.__counter\n",
        "        \n",
        "\n",
        "if __name__ == \"__main__\":\n",
        "    print(Robot.RobotInstances())\n",
        "    x = Robot()\n",
        "    print(x.RobotInstances())\n",
        "    y = Robot()\n",
        "    print(x.RobotInstances())\n",
        "    print(Robot.RobotInstances())"
      ],
      "execution_count": 19,
      "outputs": [
        {
          "output_type": "stream",
          "name": "stdout",
          "text": [
            "0\n",
            "1\n",
            "2\n",
            "2\n"
          ]
        }
      ]
    },
    {
      "cell_type": "markdown",
      "metadata": {
        "id": "uwvERDIcXAis"
      },
      "source": [
        "## Class Methods\n",
        "Static methods shouldn't be confused with class methods. Like static methods class methods are not bound to instances, but unlike static methods class methods are bound to a class. The first parameter of a class method is a reference to a class, i.e. a class object. They can be called via an instance or the class name."
      ]
    },
    {
      "cell_type": "code",
      "metadata": {
        "colab": {
          "base_uri": "https://localhost:8080/"
        },
        "id": "a4mvwoPwW-kW",
        "outputId": "1f052837-9e87-4fd8-daa1-9bd75df35f4e"
      },
      "source": [
        "class Robot:\n",
        "    __counter = 0\n",
        "    \n",
        "    def __init__(self):\n",
        "        type(self).__counter += 1\n",
        "        \n",
        "    @classmethod\n",
        "    def RobotInstances(cls):\n",
        "        return cls, Robot.__counter\n",
        "        \n",
        "\n",
        "if __name__ == \"__main__\":\n",
        "    print(Robot.RobotInstances())\n",
        "    x = Robot()\n",
        "    print(x.RobotInstances())\n",
        "    y = Robot()\n",
        "    print(x.RobotInstances())\n",
        "    print(Robot.RobotInstances())"
      ],
      "execution_count": 20,
      "outputs": [
        {
          "output_type": "stream",
          "name": "stdout",
          "text": [
            "(<class '__main__.Robot'>, 0)\n",
            "(<class '__main__.Robot'>, 1)\n",
            "(<class '__main__.Robot'>, 2)\n",
            "(<class '__main__.Robot'>, 2)\n"
          ]
        }
      ]
    },
    {
      "cell_type": "markdown",
      "metadata": {
        "id": "4E5dNxxZXeOF"
      },
      "source": [
        "\n",
        "\n",
        "The use cases of class methods:\n",
        "\n",
        "*    They are used in the definition of the so-called factory methods, which we will not cover here.\n",
        "*    They are often used, where we have static methods, which have to call other static methods. To do this, we would have to hard code the class name, if we had to use static methods. This is a problem, if we are in a use case, where we have inherited classes.\n"
      ]
    },
    {
      "cell_type": "markdown",
      "metadata": {
        "id": "YV0L7dR4X_PE"
      },
      "source": [
        "The following program contains a fraction class, which is still not complete. If you work with fractions, you need to be capable of reducing fractions, e.g. the fraction 8/24 can be reduced to 1/3. We can reduce a fraction to lowest terms by dividing both the numerator and denominator by the Greatest Common Divisor (GCD).\n",
        "\n",
        "We have defined a static gcd function to calculate the greatest common divisor of two numbers. the greatest common divisor (gcd) of two or more integers (at least one of which is not zero), is the largest positive integer that divides the numbers without a remainder. For example, the 'GCD of 8 and 24 is 8. The static method \"gcd\" is called by our class method \"reduce\" with \"cls.gcd(n1, n2)\". \"CLS\" is a reference to \"fraction\"."
      ]
    },
    {
      "cell_type": "code",
      "metadata": {
        "id": "Xd4iL8BoXR-F"
      },
      "source": [
        "class Fraction(object):\n",
        "\n",
        "    def __init__(self, n, d):\n",
        "        self.numerator, self.denominator = Fraction.reduce(n, d)\n",
        "        \n",
        "\n",
        "    @staticmethod\n",
        "    def gcd(a,b):\n",
        "        while b != 0:\n",
        "            a, b = b, a%b\n",
        "        return a\n",
        "\n",
        "    @classmethod\n",
        "    def reduce(cls, n1, n2):\n",
        "        g = cls.gcd(n1, n2)\n",
        "        return (n1 // g, n2 // g)\n",
        "\n",
        "    def __str__(self):\n",
        "        return str(self.numerator)+'/'+str(self.denominator)"
      ],
      "execution_count": 25,
      "outputs": []
    },
    {
      "cell_type": "code",
      "metadata": {
        "colab": {
          "base_uri": "https://localhost:8080/"
        },
        "id": "fv0K6amDYEJW",
        "outputId": "2f7e0220-7544-41dc-f914-01e88e161b28"
      },
      "source": [
        "x = Fraction(8,24)\n",
        "print(x)"
      ],
      "execution_count": 26,
      "outputs": [
        {
          "output_type": "stream",
          "name": "stdout",
          "text": [
            "1/3\n"
          ]
        }
      ]
    },
    {
      "cell_type": "markdown",
      "metadata": {
        "id": "7t26QWX8kXCg"
      },
      "source": [
        "## Class Methods vs. Static Methods and Instance Methods\n",
        "Our last example will demonstrate the usefulness of class methods in inheritance. We define a class Pet with a method about. This method should give some general class information. The class Cat will be inherited both in the subclass Dog and Cat. The method about will be inherited as well. We will demonstrate that we will encounter problems, if we define the method about as a normal instance method or as a static method. We will start by defining about as an instance method:"
      ]
    },
    {
      "cell_type": "code",
      "metadata": {
        "colab": {
          "base_uri": "https://localhost:8080/"
        },
        "id": "vqDkfz45YGZh",
        "outputId": "45f2f937-8726-4207-e751-9661ccda7013"
      },
      "source": [
        "class Pet:\n",
        "    _class_info = \"pet animals\"\n",
        "\n",
        "    def about(self):\n",
        "        print(\"This class is about \" + self._class_info + \"!\")   \n",
        "    \n",
        "\n",
        "class Dog(Pet):\n",
        "    _class_info = \"man's best friends\"\n",
        "\n",
        "class Cat(Pet):\n",
        "    _class_info = \"all kinds of cats\"\n",
        "\n",
        "p = Pet()\n",
        "p.about()\n",
        "d = Dog()\n",
        "d.about()\n",
        "c = Cat()\n",
        "c.about()"
      ],
      "execution_count": 27,
      "outputs": [
        {
          "output_type": "stream",
          "name": "stdout",
          "text": [
            "This class is about pet animals!\n",
            "This class is about man's best friends!\n",
            "This class is about all kinds of cats!\n"
          ]
        }
      ]
    },
    {
      "cell_type": "markdown",
      "metadata": {
        "id": "m2tRFVRmkjjF"
      },
      "source": [
        "This may look alright at first at first glance. On second thought we recognize the awful design. We had to create instances of the Pet, Dog and Cat classes to be able to ask what the class is about. It would be a lot better, if we could just write Pet.about(), Dog.about() and Cat.about() to get the previous result.\n",
        "\n",
        "Now, we will define the method about as a \"staticmethod\" to show the disadvantage of this approach. As we have learned previously in our tutorial, a staticmethod does not have a first parameter with a reference to an object. So about will have no parameters at all. Due to this, we are now capable of calling \"about\" without the necessity of passing an instance as a parameter, i.e. Pet.about(), Dog.about() and Cat.about(). Yet, a problem lurks in the definition of about. The only way to access the class info _class_info is putting a class name in front. We arbitrarily put in Pet. We could have put there Cat or Dog as well. No matter what we do, the solution will not be what we want:"
      ]
    },
    {
      "cell_type": "code",
      "metadata": {
        "colab": {
          "base_uri": "https://localhost:8080/"
        },
        "id": "nvkRIjkUkga5",
        "outputId": "6bb2181d-86c2-46ec-ff06-cae45253a623"
      },
      "source": [
        "class Pet:\n",
        "    _class_info = \"pet animals\"\n",
        "\n",
        "    @staticmethod\n",
        "    def about():\n",
        "        print(\"This class is about \" + Pet._class_info + \"!\")   \n",
        "    \n",
        "\n",
        "class Dog(Pet):\n",
        "    _class_info = \"man's best friends\"\n",
        "\n",
        "class Cat(Pet):\n",
        "    _class_info = \"all kinds of cats\"\n",
        "\n",
        "Pet.about()\n",
        "Dog.about()\n",
        "Cat.about()"
      ],
      "execution_count": 28,
      "outputs": [
        {
          "output_type": "stream",
          "name": "stdout",
          "text": [
            "This class is about pet animals!\n",
            "This class is about pet animals!\n",
            "This class is about pet animals!\n"
          ]
        }
      ]
    },
    {
      "cell_type": "markdown",
      "metadata": {
        "id": "AEUGaDfBlHlI"
      },
      "source": [
        "\n",
        "\n",
        "In other words, we have no way of differenciating between the class Pet and its subclasses Dog and Cat. The problem is that the method about does not know that it has been called via the Pet the Dog or the Cat class.\n",
        "\n",
        "A classmethod is the solution to all our problems. We will decorate about with a classmethod decorator instead of a staticmethod decorator:"
      ]
    },
    {
      "cell_type": "code",
      "metadata": {
        "colab": {
          "base_uri": "https://localhost:8080/"
        },
        "id": "NtQL-alglBAP",
        "outputId": "cde5c00f-3be0-4005-bc78-c553aff2b213"
      },
      "source": [
        "class Pet:\n",
        "    _class_info = \"pet animals\"\n",
        "\n",
        "    @classmethod\n",
        "    def about(cls):\n",
        "        print(\"This class is about \" + cls._class_info + \"!\")   \n",
        "    \n",
        "\n",
        "class Dog(Pet):\n",
        "    _class_info = \"man's best friends\"\n",
        "\n",
        "class Cat(Pet):\n",
        "    _class_info = \"all kinds of cats\"\n",
        "\n",
        "Pet.about()\n",
        "Dog.about()\n",
        "Cat.about()"
      ],
      "execution_count": 29,
      "outputs": [
        {
          "output_type": "stream",
          "name": "stdout",
          "text": [
            "This class is about pet animals!\n",
            "This class is about man's best friends!\n",
            "This class is about all kinds of cats!\n"
          ]
        }
      ]
    }
  ]
}