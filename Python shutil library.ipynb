{
 "cells": [
  {
   "cell_type": "code",
   "execution_count": 1,
   "metadata": {},
   "outputs": [],
   "source": [
    "import shutil\n",
    "import os"
   ]
  },
  {
   "cell_type": "code",
   "execution_count": 2,
   "metadata": {},
   "outputs": [
    {
     "data": {
      "text/plain": [
       "['README.md',\n",
       " 'FAQ.md',\n",
       " '.ipynb_checkpoints',\n",
       " '.git',\n",
       " 'Python statistics library.ipynb',\n",
       " 'file_rename.py',\n",
       " 'intl',\n",
       " 'test_folder',\n",
       " 'Python shutil library.ipynb',\n",
       " 'r1-log.md',\n",
       " 'log.md',\n",
       " 'resources.md',\n",
       " 'rules.md']"
      ]
     },
     "execution_count": 2,
     "metadata": {},
     "output_type": "execute_result"
    }
   ],
   "source": [
    "os.listdir()"
   ]
  },
  {
   "cell_type": "code",
   "execution_count": 3,
   "metadata": {},
   "outputs": [],
   "source": [
    "os.chdir('test_folder')"
   ]
  },
  {
   "cell_type": "code",
   "execution_count": 4,
   "metadata": {},
   "outputs": [
    {
     "data": {
      "text/plain": [
       "['file2.txt', 'file3.txt', 'file1.txt', 'file4.txt']"
      ]
     },
     "execution_count": 4,
     "metadata": {},
     "output_type": "execute_result"
    }
   ],
   "source": [
    "os.listdir()"
   ]
  },
  {
   "cell_type": "code",
   "execution_count": 5,
   "metadata": {},
   "outputs": [],
   "source": [
    "os.mkdir('test_subfolder')"
   ]
  },
  {
   "cell_type": "code",
   "execution_count": 6,
   "metadata": {},
   "outputs": [
    {
     "data": {
      "text/plain": [
       "['file2.txt', 'file3.txt', 'file1.txt', 'test_subfolder', 'file4.txt']"
      ]
     },
     "execution_count": 6,
     "metadata": {},
     "output_type": "execute_result"
    }
   ],
   "source": [
    "os.listdir()"
   ]
  },
  {
   "cell_type": "code",
   "execution_count": 11,
   "metadata": {},
   "outputs": [
    {
     "name": "stdout",
     "output_type": "stream",
     "text": [
      "\n"
     ]
    }
   ],
   "source": [
    "# Empty file\n",
    "with open('file3.txt') as f:\n",
    "    print(f.read())"
   ]
  },
  {
   "cell_type": "markdown",
   "metadata": {},
   "source": [
    "`shutil.copyfile(src, dst, *, follow_symlinks=True)`\n",
    "\n",
    "Copy the contents (no metadata) of the file named src to a file named dst and return dst in the most efficient way possible. src and dst are path-like objects or path names given as strings."
   ]
  },
  {
   "cell_type": "code",
   "execution_count": 14,
   "metadata": {},
   "outputs": [
    {
     "name": "stdout",
     "output_type": "stream",
     "text": [
      "The Zen Of Python\n",
      "\n",
      "Beautiful is better than ugly.\n",
      "Explicit is better than implicit.\n",
      "Simple is better than complex.\n",
      "Complex is better than complicated.\n",
      "Flat is better than nested.\n",
      "Sparse is better than dense.\n",
      "Readability counts.\n",
      "Special cases aren't special enough to break the rules.\n",
      "Although practicality beats purity.\n",
      "Errors should never pass silently.\n",
      "Unless explicitly silenced.\n",
      "In the face of ambiguity, refuse the temptation to guess.\n",
      "There should be one-- and preferably only one --obvious way to do it.\n",
      "Although that way may not be obvious at first unless you're Dutch.\n",
      "Now is better than never.\n",
      "Although never is often better than *right* now.\n",
      "If the implementation is hard to explain, it's a bad idea.\n",
      "If the implementation is easy to explain, it may be a good idea.\n",
      "Namespaces are one honking great idea -- let's do more of those!\n"
     ]
    }
   ],
   "source": [
    "# Lets copy the contents of file2 to file3\n",
    "shutil.copyfile(src='file1.txt', dst='file3.txt')\n",
    "with open('file3.txt') as f:\n",
    "    print(f.read())"
   ]
  },
  {
   "cell_type": "markdown",
   "metadata": {},
   "source": [
    "`shutil.copy(src, dst, *, follow_symlinks=True)`\n",
    "\n",
    "Copies the file src to the file or directory dst."
   ]
  },
  {
   "cell_type": "code",
   "execution_count": 15,
   "metadata": {},
   "outputs": [
    {
     "name": "stdout",
     "output_type": "stream",
     "text": [
      "Lorem ipsum dolor sit amet, consectetur adipiscing elit. Integer tempus velit vel massa fermentum ullamcorper. Curabitur placerat feugiat est, eu aliquam metus bibendum ac. Phasellus non eros et ligula sollicitudin aliquam non tristique diam. Cras porttitor, nunc ac elementum pretium, nunc nunc consectetur lacus, in porta lacus libero at nisl. Quisque feugiat sodales fringilla. Aenean porttitor vitae ipsum sit amet malesuada. Suspendisse luctus nibh ut tempor varius. Nullam ligula ante, porttitor porta tempor in, luctus eget purus. Donec sit amet est convallis, volutpat ex in, rutrum risus. Nullam placerat vulputate molestie.\n",
      "\n",
      "Curabitur interdum, eros et ultrices condimentum, orci leo varius neque, eu rutrum neque diam ac justo. Maecenas ultrices, metus id finibus porta, sapien mi sollicitudin quam, a euismod massa risus quis nisl. Aenean ut tellus fermentum, eleifend diam eu, sagittis dui. Vestibulum scelerisque sed turpis eget interdum. Morbi efficitur nisl id risus rhoncus placerat. Maecenas ac magna sit amet tortor mattis imperdiet. Fusce tortor lorem, sodales ac cursus id, gravida id est. Cras id justo viverra, fermentum velit et, semper metus. Duis vitae egestas risus. Class aptent taciti sociosqu ad litora torquent per conubia nostra, per inceptos himenaeos. Cras vitae venenatis dolor. Cras congue eu mauris ut fringilla. Sed suscipit eros a sapien luctus fringilla. Mauris nec molestie purus, sit amet convallis dui. Etiam non nibh consequat, finibus risus vel, bibendum est.\n",
      "\n",
      "Pellentesque venenatis venenatis lacus, eu dignissim nisi placerat in. Curabitur pretium dictum quam, a fringilla ex gravida in. Morbi felis arcu, interdum a iaculis eu, eleifend ut nulla. Ut non elit ut tellus consequat finibus ut vel velit. Pellentesque at nunc et nibh iaculis viverra. Mauris congue id risus tincidunt feugiat. Phasellus at auctor dui. Aliquam erat volutpat. Praesent ante orci, aliquet non efficitur a, blandit a lorem. Vestibulum ante ipsum primis in faucibus orci luctus et ultrices posuere cubilia curae;\n",
      "\n",
      "Vivamus condimentum eget nibh ut pharetra. Vestibulum eu ullamcorper ante. Vivamus placerat urna efficitur diam tempor, id gravida libero efficitur. Sed non augue at libero finibus fringilla vel vitae purus. In rutrum venenatis ex, dignissim auctor mauris condimentum a. Sed tincidunt maximus mi, interdum condimentum elit. Phasellus finibus mi eget turpis viverra blandit. Pellentesque sit amet urna porta, egestas neque at, cursus mauris. Vivamus tempor, sapien a vehicula pretium, libero odio sollicitudin tellus, a convallis nibh lorem in ex. Nunc sit amet nisl purus. Vivamus tristique vitae lacus nec mattis. Suspendisse potenti. Vestibulum lorem mauris, accumsan id felis vel, faucibus tempus arcu.\n",
      "\n",
      "Ut placerat, dolor vitae iaculis ullamcorper, elit tortor pharetra ligula, vel sodales nulla odio sed velit. Etiam consequat pellentesque fermentum. Curabitur consequat malesuada odio sit amet consequat. Aliquam erat risus, suscipit imperdiet quam vitae, luctus scelerisque leo. Nulla euismod odio et nulla tempor lacinia. Quisque imperdiet eros risus, et luctus mauris iaculis eget. Quisque rutrum leo a tortor placerat condimentum. Curabitur ac enim porta, pharetra nisi nec, rutrum tortor. Ut in libero ac elit facilisis gravida. Morbi eget orci facilisis, laoreet ex id, porta risus. Vivamus fermentum mi ac maximus mollis. Aenean porttitor mattis dignissim. Aliquam id magna ornare tortor aliquam tincidunt. Aenean risus augue, molestie vel ex ac, vulputate congue leo. Vestibulum ac sodales nunc. Aenean finibus metus ut nisi maximus, a volutpat felis iaculis. \n"
     ]
    }
   ],
   "source": [
    "shutil.copy(src='file2.txt', dst='file5.txt')\n",
    "with open('file5.txt') as f:\n",
    "    print(f.read())"
   ]
  },
  {
   "cell_type": "markdown",
   "metadata": {},
   "source": [
    "`shutil.copy2(src, dst, *, follow_symlinks=True)`\n",
    "\n",
    "Identical to copy() except that copy2() also attempts to preserve file metadata."
   ]
  },
  {
   "cell_type": "markdown",
   "metadata": {},
   "source": [
    "**`copy()` also copies permission bits, as well as the contents of the file. `copyfile()` only copies the data.**"
   ]
  },
  {
   "cell_type": "code",
   "execution_count": 17,
   "metadata": {},
   "outputs": [
    {
     "data": {
      "text/plain": [
       "['file2.txt',\n",
       " 'file5.txt',\n",
       " 'file3.txt',\n",
       " 'test_subfolder2',\n",
       " 'file1.txt',\n",
       " 'test_subfolder',\n",
       " 'file4.txt']"
      ]
     },
     "execution_count": 17,
     "metadata": {},
     "output_type": "execute_result"
    }
   ],
   "source": [
    "os.mkdir('test_subfolder2')\n",
    "os.listdir()"
   ]
  },
  {
   "cell_type": "code",
   "execution_count": 18,
   "metadata": {},
   "outputs": [
    {
     "data": {
      "text/plain": [
       "[]"
      ]
     },
     "execution_count": 18,
     "metadata": {},
     "output_type": "execute_result"
    }
   ],
   "source": [
    "os.listdir('test_subfolder')"
   ]
  },
  {
   "cell_type": "code",
   "execution_count": 19,
   "metadata": {},
   "outputs": [
    {
     "data": {
      "text/plain": [
       "'test_subfolder/file1.txt'"
      ]
     },
     "execution_count": 19,
     "metadata": {},
     "output_type": "execute_result"
    }
   ],
   "source": [
    "shutil.copy2('file1.txt', 'test_subfolder')"
   ]
  },
  {
   "cell_type": "code",
   "execution_count": 20,
   "metadata": {},
   "outputs": [
    {
     "data": {
      "text/plain": [
       "['file1.txt']"
      ]
     },
     "execution_count": 20,
     "metadata": {},
     "output_type": "execute_result"
    }
   ],
   "source": [
    "os.listdir('test_subfolder')"
   ]
  },
  {
   "cell_type": "markdown",
   "metadata": {},
   "source": [
    "` shutil.copytree(src, dst, symlinks=False, ignore=None, copy_function=copy2, ignore_dangling_symlinks=False, dirs_exist_ok=False)`\n",
    "\n",
    "Recursively copy an entire directory tree rooted at src to a directory named dst and return the destination directory. dirs_exist_ok dictates whether to **raise an exception in case dst or any missing parent directory already exists. *`copy()` cannot copy directories.***"
   ]
  },
  {
   "cell_type": "code",
   "execution_count": 28,
   "metadata": {},
   "outputs": [
    {
     "data": {
      "text/plain": [
       "['file1.txt']"
      ]
     },
     "execution_count": 28,
     "metadata": {},
     "output_type": "execute_result"
    }
   ],
   "source": [
    "shutil.copytree('test_subfolder', 'test_subfolder3')\n",
    "os.listdir('test_subfolder3')"
   ]
  },
  {
   "cell_type": "markdown",
   "metadata": {},
   "source": [
    "`shutil.rmtree(path, ignore_errors=False, onerror=None)`\n",
    "\n",
    "Delete an entire directory tree.\n",
    "\n",
    "**`os.rmdir()` cannot remove folders that are not empty.**"
   ]
  },
  {
   "cell_type": "code",
   "execution_count": 29,
   "metadata": {},
   "outputs": [
    {
     "data": {
      "text/plain": [
       "['file2.txt',\n",
       " 'file5.txt',\n",
       " 'file3.txt',\n",
       " 'test_subfolder2',\n",
       " 'file1.txt',\n",
       " 'test_subfolder',\n",
       " 'file4.txt']"
      ]
     },
     "execution_count": 29,
     "metadata": {},
     "output_type": "execute_result"
    }
   ],
   "source": [
    "shutil.rmtree('test_subfolder3')\n",
    "os.listdir()"
   ]
  },
  {
   "cell_type": "markdown",
   "metadata": {},
   "source": [
    "` shutil.move(src, dst, copy_function=copy2)`\n",
    "\n",
    "Recursively move a file or directory (src) to another location (dst) and return the destination.\n",
    "\n",
    "**If the destination is an existing directory, then src is moved inside that directory. If the destination already exists but is not a directory, it may be overwritten depending on os.rename() semantics.**"
   ]
  },
  {
   "cell_type": "markdown",
   "metadata": {},
   "source": [
    "`shutil.disk_usage(path)`\n",
    "\n",
    "Return disk usage statistics about the given path as a named tuple with the attributes total, used and free, which are the amount of total, used and free space, in bytes. path may be a file or a directory."
   ]
  },
  {
   "cell_type": "code",
   "execution_count": 31,
   "metadata": {},
   "outputs": [
    {
     "data": {
      "text/plain": [
       "usage(total=202819006464, used=48282501120, free=144162480128)"
      ]
     },
     "execution_count": 31,
     "metadata": {},
     "output_type": "execute_result"
    }
   ],
   "source": [
    "shutil.disk_usage('test_subfolder2')"
   ]
  },
  {
   "cell_type": "code",
   "execution_count": 33,
   "metadata": {},
   "outputs": [],
   "source": [
    "mem = shutil.disk_usage('test_subfolder2')"
   ]
  },
  {
   "cell_type": "code",
   "execution_count": 34,
   "metadata": {},
   "outputs": [
    {
     "data": {
      "text/plain": [
       "71.0779340621551"
      ]
     },
     "execution_count": 34,
     "metadata": {},
     "output_type": "execute_result"
    }
   ],
   "source": [
    "(mem.free / mem.total) * 100"
   ]
  },
  {
   "cell_type": "markdown",
   "metadata": {},
   "source": [
    "`shutil.which(cmd, mode=os.F_OK | os.X_OK, path=None)`\n",
    "\n",
    "Return the path to an executable which would be run if the given cmd was called. If no cmd would be called, return None.\n",
    "When no path is specified, the results of os.environ() are used, returning either the “PATH” value or a fallback of os.defpath."
   ]
  },
  {
   "cell_type": "code",
   "execution_count": 37,
   "metadata": {},
   "outputs": [
    {
     "data": {
      "text/plain": [
       "'/home/yasir/anaconda3/bin/python'"
      ]
     },
     "execution_count": 37,
     "metadata": {},
     "output_type": "execute_result"
    }
   ],
   "source": [
    "shutil.which('python')"
   ]
  }
 ],
 "metadata": {
  "kernelspec": {
   "display_name": "Python 3",
   "language": "python",
   "name": "python3"
  },
  "language_info": {
   "codemirror_mode": {
    "name": "ipython",
    "version": 3
   },
   "file_extension": ".py",
   "mimetype": "text/x-python",
   "name": "python",
   "nbconvert_exporter": "python",
   "pygments_lexer": "ipython3",
   "version": "3.8.5"
  }
 },
 "nbformat": 4,
 "nbformat_minor": 4
}
